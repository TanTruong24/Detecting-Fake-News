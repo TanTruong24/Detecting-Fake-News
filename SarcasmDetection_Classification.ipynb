{
  "nbformat": 4,
  "nbformat_minor": 0,
  "metadata": {
    "colab": {
      "provenance": [],
      "collapsed_sections": [],
      "toc_visible": true
    },
    "kernelspec": {
      "display_name": "Python 3",
      "name": "python3"
    },
    "language_info": {
      "name": "python"
    }
  },
  "cells": [
    {
      "cell_type": "markdown",
      "metadata": {
        "id": "bLUGNhjGLzJS"
      },
      "source": [
        "<center> <h1> <b> CS114.L21: MACHINE LEARNING <center> <h1> <b>\n",
        "\n",
        "<center> <h2> <b> BÀI TẬP COLAB SỐ 04: SARCASM DETECTION IN NEWSPAPER HEADLINES (Ngày 07/6/2021) <center> <h> <b>"
      ]
    },
    {
      "cell_type": "markdown",
      "metadata": {
        "id": "JIg4Hr10MCgm"
      },
      "source": [
        "###**1. Nhóm thực hiện**\n",
        "\n",
        "* 19522246 - Vũ Nguyễn Nhật Thanh\n",
        "* 19522180 - Trương Thế Tấn\n",
        "* 19521551 - Nông Thanh Hồng"
      ]
    },
    {
      "cell_type": "markdown",
      "metadata": {
        "id": "lnSiiSNJbWJH"
      },
      "source": [
        "##**Load data vs model**\n",
        "\n",
        "- Do việc tạo các bộ dữ liệu, model cần rất nhiều thời gian và dung lượng lớn nên nhóm em đã lưu những file này trên drive của nhóm mà không phải GitHub vì hầu hết các file có dung lượng > 100MB.\n",
        "\n",
        "- Nhóm em lưu lại trên drive và tải xuống thư mục colab *(code dưới)* để thầy có thể chạy thử.\n",
        "\n",
        "- Ngoài ra, với **Word2Vec** nhóm tạo cả 2 model với **skip-gram** và **CBOW** *(Continuous Bag of Words)*. Nên dẫn đến với mỗi phương pháp của *mô hình phân loại* sẽ có 2 model ứng với **skip-gram** và **CBOW.**\n",
        "\n",
        "- Trong đó file *data_test* và *data_train* đều là dữ liệu thô .csv gồm tiêu đề, nhãn, và link bài báo. Việc xử lý 2 file rất mất thời gian và file khi xử lý xong sẽ khá nặng *(>1GB)*. Nên nhóm cũng đã lưu lại file *train_vectors* và *test_vectors* là 2 file đã qua xử lý *(ma trận 300 cột)* để dùng train cho model. Và cũng ứng với mỗi model của Word2Vec sẽ có ***train_vectors_sg, train_vectors_cb*** và ***test_vectors_sg, test_vectors_cb***"
      ]
    },
    {
      "cell_type": "markdown",
      "metadata": {
        "id": "t9uPqPedn05B"
      },
      "source": [
        "- **Các data cần thiết**"
      ]
    },
    {
      "cell_type": "code",
      "metadata": {
        "colab": {
          "base_uri": "https://localhost:8080/",
          "height": 394
        },
        "id": "df1gRrFxp8Dm",
        "outputId": "d59ce65c-4804-4b9a-bd5c-2e6a894351b8"
      },
      "source": [
        "!pip install matplotlib --upgrade"
      ],
      "execution_count": null,
      "outputs": [
        {
          "output_type": "stream",
          "text": [
            "Collecting matplotlib\n",
            "\u001b[?25l  Downloading https://files.pythonhosted.org/packages/24/33/5568d443ba438d95d4db635dd69958056f087e57e1026bee56f959d53f9d/matplotlib-3.4.2-cp37-cp37m-manylinux1_x86_64.whl (10.3MB)\n",
            "\u001b[K     |████████████████████████████████| 10.3MB 8.1MB/s \n",
            "\u001b[?25hRequirement already satisfied, skipping upgrade: pillow>=6.2.0 in /usr/local/lib/python3.7/dist-packages (from matplotlib) (7.1.2)\n",
            "Requirement already satisfied, skipping upgrade: numpy>=1.16 in /usr/local/lib/python3.7/dist-packages (from matplotlib) (1.19.5)\n",
            "Requirement already satisfied, skipping upgrade: kiwisolver>=1.0.1 in /usr/local/lib/python3.7/dist-packages (from matplotlib) (1.3.1)\n",
            "Requirement already satisfied, skipping upgrade: python-dateutil>=2.7 in /usr/local/lib/python3.7/dist-packages (from matplotlib) (2.8.1)\n",
            "Requirement already satisfied, skipping upgrade: cycler>=0.10 in /usr/local/lib/python3.7/dist-packages (from matplotlib) (0.10.0)\n",
            "Requirement already satisfied, skipping upgrade: pyparsing>=2.2.1 in /usr/local/lib/python3.7/dist-packages (from matplotlib) (2.4.7)\n",
            "Requirement already satisfied, skipping upgrade: six>=1.5 in /usr/local/lib/python3.7/dist-packages (from python-dateutil>=2.7->matplotlib) (1.15.0)\n",
            "\u001b[31mERROR: albumentations 0.1.12 has requirement imgaug<0.2.7,>=0.2.5, but you'll have imgaug 0.2.9 which is incompatible.\u001b[0m\n",
            "Installing collected packages: matplotlib\n",
            "  Found existing installation: matplotlib 3.2.2\n",
            "    Uninstalling matplotlib-3.2.2:\n",
            "      Successfully uninstalled matplotlib-3.2.2\n",
            "Successfully installed matplotlib-3.4.2\n"
          ],
          "name": "stdout"
        },
        {
          "output_type": "display_data",
          "data": {
            "application/vnd.colab-display-data+json": {
              "pip_warning": {
                "packages": [
                  "matplotlib",
                  "mpl_toolkits"
                ]
              }
            }
          },
          "metadata": {
            "tags": []
          }
        }
      ]
    },
    {
      "cell_type": "code",
      "metadata": {
        "colab": {
          "base_uri": "https://localhost:8080/"
        },
        "id": "G-tDw1GKn0Fg",
        "outputId": "1cd2dcb9-2431-4a51-da77-b767ed2e839f"
      },
      "source": [
        "#data_test và data_train\n",
        "!gdown --id 1BGLr1nFZJiDmIMRqSqKTUl9DXWrGd1zC   #data_test\n",
        "!gdown --id 11sFNFIYm-7buRaeaTevveVTyGnh-vBFm   #data_train\n",
        "\n",
        "#train_vector\n",
        "!gdown --id 1CslWMwfPXsWs8OE4FXnzGkkH_45l7Bwg   #CBOW\n",
        "!gdown --id 1H54-rQ1L0ZGvK7VIHJeGN5xC5npMH04d   #skip-gram\n",
        "\n",
        "#test_vector\n",
        "!gdown --id 1Jy5jE-IlwMybfj2GWfoGiySZa7xWwHTQ   #CBOW\n",
        "!gdown --id 1rcieoJhIl-3oAIbQCr-F3Iy7qfy772XM   #skip-gram"
      ],
      "execution_count": null,
      "outputs": [
        {
          "output_type": "stream",
          "text": [
            "Downloading...\n",
            "From: https://drive.google.com/uc?id=1BGLr1nFZJiDmIMRqSqKTUl9DXWrGd1zC\n",
            "To: /content/Sarcasm_Detection_upTest.csv\n",
            "7.26MB [00:00, 61.4MB/s]\n",
            "Downloading...\n",
            "From: https://drive.google.com/uc?id=11sFNFIYm-7buRaeaTevveVTyGnh-vBFm\n",
            "To: /content/Sarcasm_Detection_upTrain.csv\n",
            "61.1MB [00:00, 98.6MB/s]\n",
            "Downloading...\n",
            "From: https://drive.google.com/uc?id=1CslWMwfPXsWs8OE4FXnzGkkH_45l7Bwg\n",
            "To: /content/train_vectors_cb.csv\n",
            "1.07GB [00:08, 129MB/s]\n",
            "Downloading...\n",
            "From: https://drive.google.com/uc?id=1H54-rQ1L0ZGvK7VIHJeGN5xC5npMH04d\n",
            "To: /content/train_vectors_sg.csv\n",
            "1.30GB [00:32, 39.6MB/s]\n",
            "Downloading...\n",
            "From: https://drive.google.com/uc?id=1Jy5jE-IlwMybfj2GWfoGiySZa7xWwHTQ\n",
            "To: /content/test_vectors_cb.csv\n",
            "148MB [00:01, 110MB/s]\n",
            "Downloading...\n",
            "From: https://drive.google.com/uc?id=1rcieoJhIl-3oAIbQCr-F3Iy7qfy772XM\n",
            "To: /content/test_vectors_sg.csv\n",
            "146MB [00:02, 54.8MB/s]\n"
          ],
          "name": "stdout"
        }
      ]
    },
    {
      "cell_type": "markdown",
      "metadata": {
        "id": "osytnhDLoEo8"
      },
      "source": [
        "- **Các model Word2Vec**"
      ]
    },
    {
      "cell_type": "code",
      "metadata": {
        "colab": {
          "base_uri": "https://localhost:8080/"
        },
        "id": "bxFj5tJFoE4A",
        "outputId": "90139936-930d-4d19-9374-4ca779954107"
      },
      "source": [
        "#Word2Vec CBOW\n",
        "!gdown --id 1ZUkbi0Lba03b5GmBJg1j2o3ad19fXnqp   \n",
        "!gdown --id 1-DqyCeRRrizV5GEhesayDVCj_0eNkq_N   #format binary\n",
        "\n",
        "#Word2Vec skip-gram\n",
        "!gdown --id 1-3uU1P3Cc1O7I8OTOjltaB346nVtniEg   \n",
        "!gdown --id 1-5p0vGMvkD-kIDjoCL4AX2MykW6hJO-O   #format binary"
      ],
      "execution_count": null,
      "outputs": [
        {
          "output_type": "stream",
          "text": [
            "Downloading...\n",
            "From: https://drive.google.com/uc?id=1ZUkbi0Lba03b5GmBJg1j2o3ad19fXnqp\n",
            "To: /content/word2vec_cb.model\n",
            "31.2MB [00:00, 85.4MB/s]\n",
            "Downloading...\n",
            "From: https://drive.google.com/uc?id=1-DqyCeRRrizV5GEhesayDVCj_0eNkq_N\n",
            "To: /content/word2vec_cb.bin\n",
            "10.3MB [00:00, 38.2MB/s]\n",
            "Downloading...\n",
            "From: https://drive.google.com/uc?id=1-3uU1P3Cc1O7I8OTOjltaB346nVtniEg\n",
            "To: /content/word2vec_sg.model\n",
            "31.2MB [00:00, 66.4MB/s]\n",
            "Downloading...\n",
            "From: https://drive.google.com/uc?id=1-5p0vGMvkD-kIDjoCL4AX2MykW6hJO-O\n",
            "To: /content/word2vec_sg.bin\n",
            "10.3MB [00:00, 32.6MB/s]\n"
          ],
          "name": "stdout"
        }
      ]
    },
    {
      "cell_type": "markdown",
      "metadata": {
        "id": "CW5oDGWMoB-U"
      },
      "source": [
        "- **Các model phân loại**"
      ]
    },
    {
      "cell_type": "code",
      "metadata": {
        "colab": {
          "base_uri": "https://localhost:8080/"
        },
        "id": "E95467uybVVY",
        "outputId": "db4b6069-3060-4a68-b38c-7b906deec230"
      },
      "source": [
        "# AdaBoost Classifier\n",
        "!gdown --id 1k7na34jOxR-rlqqQieS5BKqVwiVbrWoq   #CBOW\n",
        "!gdown --id 1P7_xco0cAdI3_WpsYI9XpWmm_vjrlXbf   #skip-gram\n",
        "\n",
        "# Random Forest Classifier\n",
        "!gdown --id 1-2PH6oMTreQwVurAowtHKS5JquCQ-lVH   #CBOW\n",
        "!gdown --id 1-2NdoO1gyBe2NrimareffAXBDZM0xsDf   #skip-gram\n",
        "\n",
        "# Logistic Regression\n",
        "!gdown --id 1--qToQ0WZDd2tw23R1x5HYiZi8_TXgjs   #CBOW\n",
        "!gdown --id 1-1q_pHadz4Nf_a0nfNRgb4LqpL3IfUuw   #skip-gram"
      ],
      "execution_count": null,
      "outputs": [
        {
          "output_type": "stream",
          "text": [
            "Downloading...\n",
            "From: https://drive.google.com/uc?id=1k7na34jOxR-rlqqQieS5BKqVwiVbrWoq\n",
            "To: /content/AdaBoostClassifier_model_cb.sav\n",
            "100% 533k/533k [00:00<00:00, 34.0MB/s]\n",
            "Downloading...\n",
            "From: https://drive.google.com/uc?id=1P7_xco0cAdI3_WpsYI9XpWmm_vjrlXbf\n",
            "To: /content/AdaBoostClassifier_model_sg.sav\n",
            "100% 533k/533k [00:00<00:00, 75.7MB/s]\n",
            "Downloading...\n",
            "From: https://drive.google.com/uc?id=1-2PH6oMTreQwVurAowtHKS5JquCQ-lVH\n",
            "To: /content/RandomForestClassifier_model_cb.sav\n",
            "186MB [00:01, 98.5MB/s]\n",
            "Downloading...\n",
            "From: https://drive.google.com/uc?id=1-2NdoO1gyBe2NrimareffAXBDZM0xsDf\n",
            "To: /content/RandomForestClassifier_model_sg.sav\n",
            "211MB [00:01, 136MB/s]\n",
            "Downloading...\n",
            "From: https://drive.google.com/uc?id=1--qToQ0WZDd2tw23R1x5HYiZi8_TXgjs\n",
            "To: /content/LogisticRegressionClassifier_model_cb.sav\n",
            "100% 3.31k/3.31k [00:00<00:00, 5.05MB/s]\n",
            "Downloading...\n",
            "From: https://drive.google.com/uc?id=1-1q_pHadz4Nf_a0nfNRgb4LqpL3IfUuw\n",
            "To: /content/LogisticRegressionClassifier_model_sg.sav\n",
            "100% 3.31k/3.31k [00:00<00:00, 7.35MB/s]\n"
          ],
          "name": "stdout"
        }
      ]
    },
    {
      "cell_type": "markdown",
      "metadata": {
        "id": "cx1D9a5Ug24g"
      },
      "source": [
        "- **Load tất cả thư viện cần thiết**"
      ]
    },
    {
      "cell_type": "code",
      "metadata": {
        "id": "oMX1-ZqBg-EF",
        "colab": {
          "base_uri": "https://localhost:8080/"
        },
        "outputId": "d9fc9c30-fced-4790-80c1-9763a43577a8"
      },
      "source": [
        "import re  # For preprocessing\n",
        "import pandas as pd  # For data handling\n",
        "from time import time  # To time our operations\n",
        "from collections import defaultdict  # For word frequency\n",
        "import seaborn as sns\n",
        "import matplotlib.pyplot as plt\n",
        "import numpy as np\n",
        "\n",
        "import spacy  # For preprocessing\n",
        "\n",
        "import logging  # Setting up the loggings to monitor gensim\n",
        "logging.basicConfig(format=\"%(levelname)s - %(asctime)s: %(message)s\", datefmt= '%H:%M:%S', level=logging.INFO)\n",
        "\n",
        "from gensim.models.phrases import Phrases, Phraser\n",
        "import multiprocessing\n",
        "from gensim.models import Word2Vec\n",
        "\n",
        "from gensim.test.utils import common_texts\n",
        "from gensim.models import KeyedVectors\n",
        "from gensim.test.utils import datapath\n",
        "\n",
        "import os\n",
        "import nltk\n",
        "import gensim\n",
        "\n",
        "from sklearn.model_selection import train_test_split\n",
        "from sklearn.metrics import classification_report,confusion_matrix\n",
        "from sklearn.metrics import precision_score, accuracy_score, recall_score, f1_score\n",
        "from sklearn import svm\n",
        "\n",
        "import pickle\n",
        "from gensim.models import KeyedVectors\n",
        "from gensim.test.utils import datapath\n",
        "\n",
        "from sklearn.utils.class_weight import compute_class_weight\n",
        "from sklearn.metrics import classification_report\n",
        "from sklearn.ensemble import AdaBoostClassifier\n",
        "from sklearn.linear_model import LogisticRegression\n",
        "from sklearn.ensemble import RandomForestClassifier\n",
        "\n",
        "# precision-recall curve and f1\n",
        "from sklearn.metrics import precision_recall_curve\n",
        "from sklearn.metrics import f1_score\n",
        "from sklearn.metrics import auc\n",
        "from matplotlib import pyplot"
      ],
      "execution_count": null,
      "outputs": [
        {
          "output_type": "stream",
          "text": [
            "INFO - 14:10:48: 'pattern' package not found; tag filters are not available for English\n",
            "INFO - 14:10:48: adding document #0 to Dictionary(0 unique tokens: [])\n",
            "INFO - 14:10:48: built Dictionary(12 unique tokens: ['computer', 'human', 'interface', 'response', 'survey']...) from 9 documents (total 29 corpus positions)\n"
          ],
          "name": "stderr"
        }
      ]
    },
    {
      "cell_type": "markdown",
      "metadata": {
        "id": "WFOaOaw2A1YY"
      },
      "source": [
        "#**Tham khảo**\n",
        "1. [Word Embeddings Transformers In SVM Classifier Using Python](https://www.nbshare.io/notebook/197284676/Word-Embeddings-Transformers-In-SVM-Classifier-Using-Python/)\n",
        "\n",
        "2. [Text classification using word2vec](https://www.kaggle.com/ananyabioinfo/text-classification-using-word2vec)\n",
        "\n",
        "3. [Gensim Word2Vec Tutorial](https://www.kaggle.com/pierremegret/gensim-word2vec-tutorial)\n",
        "\n",
        "4. [Save and Load Machine Learning Models in Python with scikit-learn](https://machinelearningmastery.com/save-load-machine-learning-models-python-scikit-learn/)\n",
        "\n",
        "5. [An Intuitive Understanding of Word Embeddings: From Count Vectors to Word2Vec](https://www.analyticsvidhya.com/blog/2017/06/word-embeddings-count-word2veec/)\n",
        "\n",
        "6. [What Are Word Embeddings for Text?](https://machinelearningmastery.com/what-are-word-embeddings/)\n",
        "\n",
        "7. [Các phương pháp đánh giá một hệ thống phân lớp](https://machinelearningcoban.com/2017/08/31/evaluation/)"
      ]
    },
    {
      "cell_type": "markdown",
      "metadata": {
        "id": "q1vyCmd1LhlW"
      },
      "source": [
        "#**I. Đọc và kiểm tra dữ liệu**"
      ]
    },
    {
      "cell_type": "code",
      "metadata": {
        "id": "2SMQiF2kLhla"
      },
      "source": [
        "import re  # For preprocessing\n",
        "import pandas as pd  # For data handling\n",
        "from time import time  # To time our operations\n",
        "from collections import defaultdict  # For word frequency\n",
        "import seaborn as sns\n",
        "import matplotlib.pyplot as plt\n",
        "import numpy as np\n",
        "\n",
        "import spacy  # For preprocessing\n",
        "\n",
        "import logging  # Setting up the loggings to monitor gensim\n",
        "logging.basicConfig(format=\"%(levelname)s - %(asctime)s: %(message)s\", datefmt= '%H:%M:%S', level=logging.INFO)"
      ],
      "execution_count": null,
      "outputs": []
    },
    {
      "cell_type": "markdown",
      "metadata": {
        "id": "Q5sIp9lRLhla"
      },
      "source": [
        "Lấy link url file *Sarcasm_Detection_Train.csv* "
      ]
    },
    {
      "cell_type": "code",
      "metadata": {
        "id": "VPI-lmLDLhla"
      },
      "source": [
        "url_df_train = \"/content/Sarcasm_Detection_upTrain.csv\"\n",
        "\n",
        "#url_df_train = \"/content/gdrive/MyDrive/Colab Notebooks/Machine Learning/31062021_sarcasm-detection/dataset/Sarcasm_Detection_upTrain.csv\""
      ],
      "execution_count": null,
      "outputs": []
    },
    {
      "cell_type": "markdown",
      "metadata": {
        "id": "KW_nksFALhlb"
      },
      "source": [
        "Trong file csv (cả data_train và data_test) gồm 3 cột là: **is_sarcastic, title, article_link**. \n",
        "  - *is_sarcastic*: là label ứng với tiêu đề của bài báo châm biếm hay chính thống. \n",
        "    - **0**: Chính thống\n",
        "    - **1**: Châm biếm\n",
        "  - *title*: tiêu đề bài báo\n",
        "  - *article_link*: link dẫn tới bài báo trên các trang báo\n",
        "\n",
        "Với file df_train *(Sarcasm_Detection_Train.csv)* gồm 337758 dòng."
      ]
    },
    {
      "cell_type": "code",
      "metadata": {
        "colab": {
          "base_uri": "https://localhost:8080/",
          "height": 221
        },
        "id": "0J-ObMtqLhlb",
        "outputId": "fdd5c099-6625-4e98-f632-7d0645aaf645"
      },
      "source": [
        "df_train = pd.read_csv(url_df_train)\n",
        "\n",
        "print (df_train.shape)\n",
        "df_train.head()"
      ],
      "execution_count": null,
      "outputs": [
        {
          "output_type": "stream",
          "text": [
            "(381538, 3)\n"
          ],
          "name": "stdout"
        },
        {
          "output_type": "execute_result",
          "data": {
            "text/html": [
              "<div>\n",
              "<style scoped>\n",
              "    .dataframe tbody tr th:only-of-type {\n",
              "        vertical-align: middle;\n",
              "    }\n",
              "\n",
              "    .dataframe tbody tr th {\n",
              "        vertical-align: top;\n",
              "    }\n",
              "\n",
              "    .dataframe thead th {\n",
              "        text-align: right;\n",
              "    }\n",
              "</style>\n",
              "<table border=\"1\" class=\"dataframe\">\n",
              "  <thead>\n",
              "    <tr style=\"text-align: right;\">\n",
              "      <th></th>\n",
              "      <th>is_sarcastic</th>\n",
              "      <th>title</th>\n",
              "      <th>article_link</th>\n",
              "    </tr>\n",
              "  </thead>\n",
              "  <tbody>\n",
              "    <tr>\n",
              "      <th>0</th>\n",
              "      <td>0</td>\n",
              "      <td>Is a Syria Truce In Putin's Best Interest?</td>\n",
              "      <td>https://www.newsweek.com/syria-truce-putins-be...</td>\n",
              "    </tr>\n",
              "    <tr>\n",
              "      <th>1</th>\n",
              "      <td>1</td>\n",
              "      <td>‘It’s just you and me again, Bunty’ Theresa Ma...</td>\n",
              "      <td>https://newsthump.com/2018/07/11/its-just-you-...</td>\n",
              "    </tr>\n",
              "    <tr>\n",
              "      <th>2</th>\n",
              "      <td>0</td>\n",
              "      <td>Brad Parscale Fell From Trump’s Favor. Now He’...</td>\n",
              "      <td>https://www.nytimes.com/2020/12/24/us/politics...</td>\n",
              "    </tr>\n",
              "    <tr>\n",
              "      <th>3</th>\n",
              "      <td>1</td>\n",
              "      <td>Here’s What Vaccine You Are Based on Your Zodi...</td>\n",
              "      <td>https://thebeaverton.com/2021/05/heres-what-va...</td>\n",
              "    </tr>\n",
              "    <tr>\n",
              "      <th>4</th>\n",
              "      <td>0</td>\n",
              "      <td>David Miliband of the International Rescue Com...</td>\n",
              "      <td>https://www.nytimes.com/2019/04/18/business/da...</td>\n",
              "    </tr>\n",
              "  </tbody>\n",
              "</table>\n",
              "</div>"
            ],
            "text/plain": [
              "   is_sarcastic  ...                                       article_link\n",
              "0             0  ...  https://www.newsweek.com/syria-truce-putins-be...\n",
              "1             1  ...  https://newsthump.com/2018/07/11/its-just-you-...\n",
              "2             0  ...  https://www.nytimes.com/2020/12/24/us/politics...\n",
              "3             1  ...  https://thebeaverton.com/2021/05/heres-what-va...\n",
              "4             0  ...  https://www.nytimes.com/2019/04/18/business/da...\n",
              "\n",
              "[5 rows x 3 columns]"
            ]
          },
          "metadata": {
            "tags": []
          },
          "execution_count": 38
        }
      ]
    },
    {
      "cell_type": "markdown",
      "metadata": {
        "id": "H_CrZDLBuwyp"
      },
      "source": [
        "Với việc phân loại tin châm biếm và tin chính thống, chỉ cần giữ lại 2 cột là **is_sarcastic** *(label)* và **title** *(tiêu đề)* để thực hiện xử lý vào xây dựng model."
      ]
    },
    {
      "cell_type": "code",
      "metadata": {
        "colab": {
          "base_uri": "https://localhost:8080/"
        },
        "id": "TVmptuqzLhlb",
        "outputId": "9df02031-8cc5-407a-ee79-90a1f5aa9f05"
      },
      "source": [
        "df_train = df_train[['is_sarcastic', 'title']]\n",
        "\n",
        "print (df_train.shape)"
      ],
      "execution_count": null,
      "outputs": [
        {
          "output_type": "stream",
          "text": [
            "(381538, 2)\n"
          ],
          "name": "stdout"
        }
      ]
    },
    {
      "cell_type": "code",
      "metadata": {
        "colab": {
          "base_uri": "https://localhost:8080/",
          "height": 204
        },
        "id": "3jOlVRyyLhlc",
        "outputId": "3f974ea1-b32d-4e0d-edb2-cb13d059f9e3"
      },
      "source": [
        "df_train.head()"
      ],
      "execution_count": null,
      "outputs": [
        {
          "output_type": "execute_result",
          "data": {
            "text/html": [
              "<div>\n",
              "<style scoped>\n",
              "    .dataframe tbody tr th:only-of-type {\n",
              "        vertical-align: middle;\n",
              "    }\n",
              "\n",
              "    .dataframe tbody tr th {\n",
              "        vertical-align: top;\n",
              "    }\n",
              "\n",
              "    .dataframe thead th {\n",
              "        text-align: right;\n",
              "    }\n",
              "</style>\n",
              "<table border=\"1\" class=\"dataframe\">\n",
              "  <thead>\n",
              "    <tr style=\"text-align: right;\">\n",
              "      <th></th>\n",
              "      <th>is_sarcastic</th>\n",
              "      <th>title</th>\n",
              "    </tr>\n",
              "  </thead>\n",
              "  <tbody>\n",
              "    <tr>\n",
              "      <th>0</th>\n",
              "      <td>0</td>\n",
              "      <td>Is a Syria Truce In Putin's Best Interest?</td>\n",
              "    </tr>\n",
              "    <tr>\n",
              "      <th>1</th>\n",
              "      <td>1</td>\n",
              "      <td>‘It’s just you and me again, Bunty’ Theresa Ma...</td>\n",
              "    </tr>\n",
              "    <tr>\n",
              "      <th>2</th>\n",
              "      <td>0</td>\n",
              "      <td>Brad Parscale Fell From Trump’s Favor. Now He’...</td>\n",
              "    </tr>\n",
              "    <tr>\n",
              "      <th>3</th>\n",
              "      <td>1</td>\n",
              "      <td>Here’s What Vaccine You Are Based on Your Zodi...</td>\n",
              "    </tr>\n",
              "    <tr>\n",
              "      <th>4</th>\n",
              "      <td>0</td>\n",
              "      <td>David Miliband of the International Rescue Com...</td>\n",
              "    </tr>\n",
              "  </tbody>\n",
              "</table>\n",
              "</div>"
            ],
            "text/plain": [
              "   is_sarcastic                                              title\n",
              "0             0         Is a Syria Truce In Putin's Best Interest?\n",
              "1             1  ‘It’s just you and me again, Bunty’ Theresa Ma...\n",
              "2             0  Brad Parscale Fell From Trump’s Favor. Now He’...\n",
              "3             1  Here’s What Vaccine You Are Based on Your Zodi...\n",
              "4             0  David Miliband of the International Rescue Com..."
            ]
          },
          "metadata": {
            "tags": []
          },
          "execution_count": 11
        }
      ]
    },
    {
      "cell_type": "markdown",
      "metadata": {
        "id": "_2PSz_1syOuX"
      },
      "source": [
        "Kiểm tra và biểu diễn dữ liệu từ *df_train* và *df_test*"
      ]
    },
    {
      "cell_type": "code",
      "metadata": {
        "colab": {
          "base_uri": "https://localhost:8080/",
          "height": 387
        },
        "id": "JWC7wSdSLhld",
        "outputId": "ed665cba-d62d-4736-a2fc-eb2bf0d22d2d"
      },
      "source": [
        "x = df_train['is_sarcastic'].value_counts()\n",
        "print(x)\n",
        "sns.barplot(x.index,x)"
      ],
      "execution_count": null,
      "outputs": [
        {
          "output_type": "stream",
          "text": [
            "0    229813\n",
            "1    151725\n",
            "Name: is_sarcastic, dtype: int64\n"
          ],
          "name": "stdout"
        },
        {
          "output_type": "stream",
          "text": [
            "/usr/local/lib/python3.7/dist-packages/seaborn/_decorators.py:43: FutureWarning: Pass the following variables as keyword args: x, y. From version 0.12, the only valid positional argument will be `data`, and passing other arguments without an explicit keyword will result in an error or misinterpretation.\n",
            "  FutureWarning\n"
          ],
          "name": "stderr"
        },
        {
          "output_type": "execute_result",
          "data": {
            "text/plain": [
              "<matplotlib.axes._subplots.AxesSubplot at 0x7fdd9e4c6f50>"
            ]
          },
          "metadata": {
            "tags": []
          },
          "execution_count": 12
        },
        {
          "output_type": "display_data",
          "data": {
            "image/png": "[encoded data removed]",
            "text/plain": [
              "<Figure size 432x288 with 1 Axes>"
            ]
          },
          "metadata": {
            "tags": []
          }
        }
      ]
    },
    {
      "cell_type": "markdown",
      "metadata": {
        "id": "wzWN668yylwo"
      },
      "source": [
        "Một nhận xét dễ dàng nhận ra là có sự chênh lệch dữ liệu lớn giữa nhãn ***0*** và ***1*** *(dù các trang tin châm biếm được crawl bài từ những năm thành lập)*, cụ thể:\n",
        "  - *df_train*: *label 0* gấp **1.5** lần *label 1* (229813/107945 = 1.514).\n",
        "\n",
        "Điều đó có thể lý giải bởi những trang tin châm biến có tần suất ra bài ít hơn những trang báo chính thống có sự hỗ trợ từ các tổ chức, cơ quan và có nhiều nhà báo hơn."
      ]
    },
    {
      "cell_type": "markdown",
      "metadata": {
        "id": "mzvULqgDzWfc"
      },
      "source": [
        "Kiểm trả xem trong tập dữ liệu *df_train* có giá trị rỗng không. Nếu có thì xóa những hàng đó."
      ]
    },
    {
      "cell_type": "code",
      "metadata": {
        "colab": {
          "base_uri": "https://localhost:8080/"
        },
        "id": "uLiNOnh7Lhle",
        "outputId": "cfdb8216-5dc7-4f53-f0cf-facd00a718ea"
      },
      "source": [
        "print (\"df_train:\\n\",df_train.isnull().sum())\n",
        "\n",
        "df_train = df_train.dropna().reset_index(drop=True)"
      ],
      "execution_count": null,
      "outputs": [
        {
          "output_type": "stream",
          "text": [
            "INFO - 06:53:53: NumExpr defaulting to 2 threads.\n"
          ],
          "name": "stderr"
        },
        {
          "output_type": "stream",
          "text": [
            "df_train:\n",
            " is_sarcastic    0\n",
            "title           1\n",
            "dtype: int64\n"
          ],
          "name": "stdout"
        }
      ]
    },
    {
      "cell_type": "markdown",
      "metadata": {
        "id": "55DUfhe0WuzM"
      },
      "source": []
    },
    {
      "cell_type": "markdown",
      "metadata": {
        "id": "epzFwDoov_31"
      },
      "source": [
        "#**II. Tạo Word Embedding**"
      ]
    },
    {
      "cell_type": "code",
      "metadata": {
        "colab": {
          "base_uri": "https://localhost:8080/"
        },
        "id": "I7SJ3_8fYOaD",
        "outputId": "7acf7bf0-1b0e-4d8d-859f-253fefc331a3"
      },
      "source": [
        "from gensim.models.phrases import Phrases, Phraser\n"
      ],
      "execution_count": null,
      "outputs": [
        {
          "output_type": "stream",
          "text": [
            "INFO - 13:58:01: 'pattern' package not found; tag filters are not available for English\n"
          ],
          "name": "stderr"
        }
      ]
    },
    {
      "cell_type": "markdown",
      "metadata": {
        "id": "GH3kRXCTv_4D"
      },
      "source": [
        "##**1. Clean Text**"
      ]
    },
    {
      "cell_type": "markdown",
      "metadata": {
        "id": "XxrUr9FO5yHV"
      },
      "source": [
        "Bổ sung và loại bỏ các từ dừng *(stopwords)* và các ký tự không phải chữ cái cho mỗi dòng tiêu đề."
      ]
    },
    {
      "cell_type": "code",
      "metadata": {
        "id": "fMr39SVZv_4F"
      },
      "source": [
        "nlp = spacy.load('en', disable=['ner', 'parser']) # disabling Named Entity Recognition for speed\n",
        "\n",
        "def cleaning(doc):\n",
        "    # Lemmatizes and removes stopwords\n",
        "    # doc needs to be a spacy Doc object\n",
        "    txt = [token.lemma_ for token in doc if not token.is_stop]\n",
        "    # Word2Vec uses context words to learn the vector representation of a target word,\n",
        "    # if a sentence is only one or two words long,\n",
        "    # the benefit for the training is very small\n",
        "    if len(txt) > 2:\n",
        "        return ' '.join(txt)"
      ],
      "execution_count": null,
      "outputs": []
    },
    {
      "cell_type": "markdown",
      "metadata": {
        "id": "cfQ0xuNw6_T5"
      },
      "source": [
        "Xóa các ký tự không phải chữ "
      ]
    },
    {
      "cell_type": "code",
      "metadata": {
        "id": "4hCeHcL1v_4G"
      },
      "source": [
        "brief_cleaning = (re.sub(\"[^A-Za-z']+\", ' ', str(row)).lower() for row in df_train['title'])"
      ],
      "execution_count": null,
      "outputs": []
    },
    {
      "cell_type": "code",
      "metadata": {
        "colab": {
          "base_uri": "https://localhost:8080/"
        },
        "id": "t9GzC09Gv_4G",
        "outputId": "59d02b3d-3857-412f-f01a-a69bdb0613a8"
      },
      "source": [
        "t = time()\n",
        "\n",
        "txt = [cleaning(doc) for doc in nlp.pipe(brief_cleaning, batch_size=5000, n_threads=-1)]\n",
        "\n",
        "print('Time to clean up everything: {} mins'.format(round((time() - t) / 60, 2)))"
      ],
      "execution_count": null,
      "outputs": [
        {
          "output_type": "stream",
          "text": [
            "Time to clean up everything: 6.98 mins\n"
          ],
          "name": "stdout"
        }
      ]
    },
    {
      "cell_type": "markdown",
      "metadata": {
        "id": "tc4By0WW7PJ1"
      },
      "source": [
        "Đặt các kết quả vào DataFrame để loại bỏ các giá trị bị thiếu và trùng lặp"
      ]
    },
    {
      "cell_type": "code",
      "metadata": {
        "colab": {
          "base_uri": "https://localhost:8080/",
          "height": 221
        },
        "id": "eIp9vAfTv_4I",
        "outputId": "2fbdf95c-5804-4f0d-bc69-ef8ffe4bda15"
      },
      "source": [
        "df_clean = pd.DataFrame({'clean': txt})\n",
        "df_clean = df_clean.dropna().drop_duplicates()\n",
        "\n",
        "print (df_clean.shape)\n",
        "df_clean.head()"
      ],
      "execution_count": null,
      "outputs": [
        {
          "output_type": "stream",
          "text": [
            "(230109, 1)\n"
          ],
          "name": "stdout"
        },
        {
          "output_type": "execute_result",
          "data": {
            "text/html": [
              "<div>\n",
              "<style scoped>\n",
              "    .dataframe tbody tr th:only-of-type {\n",
              "        vertical-align: middle;\n",
              "    }\n",
              "\n",
              "    .dataframe tbody tr th {\n",
              "        vertical-align: top;\n",
              "    }\n",
              "\n",
              "    .dataframe thead th {\n",
              "        text-align: right;\n",
              "    }\n",
              "</style>\n",
              "<table border=\"1\" class=\"dataframe\">\n",
              "  <thead>\n",
              "    <tr style=\"text-align: right;\">\n",
              "      <th></th>\n",
              "      <th>clean</th>\n",
              "    </tr>\n",
              "  </thead>\n",
              "  <tbody>\n",
              "    <tr>\n",
              "      <th>0</th>\n",
              "      <td>syria truce putin good interest</td>\n",
              "    </tr>\n",
              "    <tr>\n",
              "      <th>1</th>\n",
              "      <td>s bunty theresa tell beloved childhood teddy...</td>\n",
              "    </tr>\n",
              "    <tr>\n",
              "      <th>2</th>\n",
              "      <td>brad parscale fall trump s favor s plot comeback</td>\n",
              "    </tr>\n",
              "    <tr>\n",
              "      <th>3</th>\n",
              "      <td>s vaccine base zodiac sign</td>\n",
              "    </tr>\n",
              "    <tr>\n",
              "      <th>4</th>\n",
              "      <td>david miliband international rescue committee ...</td>\n",
              "    </tr>\n",
              "  </tbody>\n",
              "</table>\n",
              "</div>"
            ],
            "text/plain": [
              "                                               clean\n",
              "0                    syria truce putin good interest\n",
              "1    s bunty theresa tell beloved childhood teddy...\n",
              "2   brad parscale fall trump s favor s plot comeback\n",
              "3                         s vaccine base zodiac sign\n",
              "4  david miliband international rescue committee ..."
            ]
          },
          "metadata": {
            "tags": []
          },
          "execution_count": 17
        }
      ]
    },
    {
      "cell_type": "markdown",
      "metadata": {
        "id": "ei3Ko0ggv_4I"
      },
      "source": [
        "##**2. Bigrams**"
      ]
    },
    {
      "cell_type": "markdown",
      "metadata": {
        "id": "tVn48V2U7Z1I"
      },
      "source": [
        "Sử dụng gói Gensim Phrase để tự động phát hiện các cụm từ phổ biến *(bigram)* từ danh sách các tiêu đề."
      ]
    },
    {
      "cell_type": "code",
      "metadata": {
        "colab": {
          "base_uri": "https://localhost:8080/"
        },
        "id": "6HVpqPu3v_4J",
        "outputId": "14a8c51a-e5e9-44c5-c9f3-6d02b80a4c33"
      },
      "source": [
        "sent = [row.split() for row in df_clean['clean']]\n",
        "\n",
        "#Tạo các cụm từ có liên quan từ danh sách tiêu đề\n",
        "phrases = Phrases(sent, min_count=30, progress_per=10000)\n"
      ],
      "execution_count": null,
      "outputs": [
        {
          "output_type": "stream",
          "text": [
            "INFO - 13:59:18: collecting all words and their counts\n",
            "INFO - 13:59:18: PROGRESS: at sentence #0, processed 0 words and 0 word types\n",
            "INFO - 13:59:18: PROGRESS: at sentence #10000, processed 69592 words and 64826 word types\n",
            "INFO - 13:59:19: PROGRESS: at sentence #20000, processed 139359 words and 117078 word types\n",
            "INFO - 13:59:19: PROGRESS: at sentence #30000, processed 208721 words and 164758 word types\n",
            "INFO - 13:59:19: PROGRESS: at sentence #40000, processed 278339 words and 209857 word types\n",
            "INFO - 13:59:19: PROGRESS: at sentence #50000, processed 347775 words and 252970 word types\n",
            "INFO - 13:59:19: PROGRESS: at sentence #60000, processed 416928 words and 294492 word types\n",
            "INFO - 13:59:19: PROGRESS: at sentence #70000, processed 486451 words and 335281 word types\n",
            "INFO - 13:59:19: PROGRESS: at sentence #80000, processed 555741 words and 374563 word types\n",
            "INFO - 13:59:20: PROGRESS: at sentence #90000, processed 624957 words and 412640 word types\n",
            "INFO - 13:59:20: PROGRESS: at sentence #100000, processed 694440 words and 450191 word types\n",
            "INFO - 13:59:20: PROGRESS: at sentence #110000, processed 763398 words and 486573 word types\n",
            "INFO - 13:59:20: PROGRESS: at sentence #120000, processed 832354 words and 522432 word types\n",
            "INFO - 13:59:20: PROGRESS: at sentence #130000, processed 901723 words and 557672 word types\n",
            "INFO - 13:59:20: PROGRESS: at sentence #140000, processed 970617 words and 592221 word types\n",
            "INFO - 13:59:20: PROGRESS: at sentence #150000, processed 1040034 words and 626574 word types\n",
            "INFO - 13:59:21: PROGRESS: at sentence #160000, processed 1108650 words and 659947 word types\n",
            "INFO - 13:59:21: PROGRESS: at sentence #170000, processed 1177739 words and 693178 word types\n",
            "INFO - 13:59:21: PROGRESS: at sentence #180000, processed 1247183 words and 726405 word types\n",
            "INFO - 13:59:21: PROGRESS: at sentence #190000, processed 1316614 words and 759036 word types\n",
            "INFO - 13:59:21: PROGRESS: at sentence #200000, processed 1385716 words and 790901 word types\n",
            "INFO - 13:59:21: PROGRESS: at sentence #210000, processed 1454893 words and 822673 word types\n",
            "INFO - 13:59:22: PROGRESS: at sentence #220000, processed 1523709 words and 853986 word types\n",
            "INFO - 13:59:22: PROGRESS: at sentence #230000, processed 1592640 words and 884876 word types\n",
            "INFO - 13:59:22: collected 885206 word types from a corpus of 1593344 words (unigram + bigrams) and 230109 sentences\n",
            "INFO - 13:59:22: using 885206 counts as vocab in Phrases<0 vocab, min_count=30, threshold=10.0, max_vocab_size=40000000>\n"
          ],
          "name": "stderr"
        }
      ]
    },
    {
      "cell_type": "markdown",
      "metadata": {
        "id": "FS13wrP4GNY5"
      },
      "source": [
        "Mục tiêu của *Phraser ()* là giảm mức tiêu thụ bộ nhớ của *Phrases ()* *(Phrases() $\\neq$ Phraser())*, bằng cách loại bỏ trạng thái mô hình không hoàn toàn cần thiết cho nhiệm vụ phát hiện bigram:"
      ]
    },
    {
      "cell_type": "code",
      "metadata": {
        "colab": {
          "base_uri": "https://localhost:8080/"
        },
        "id": "Jna_TqtHGTYv",
        "outputId": "10529740-b9c4-475d-cbc1-580924797e0e"
      },
      "source": [
        "bigram = Phraser(phrases)\n",
        "\n",
        "#Chuyển đổi kho dữ liệu dựa trên bigram được phát hiện\n",
        "sentences = bigram[sent]"
      ],
      "execution_count": null,
      "outputs": [
        {
          "output_type": "stream",
          "text": [
            "INFO - 13:59:25: source_vocab length 885206\n",
            "INFO - 13:59:35: Phraser built with 794 phrasegrams\n"
          ],
          "name": "stderr"
        }
      ]
    },
    {
      "cell_type": "markdown",
      "metadata": {
        "id": "8UWg433AHZZy"
      },
      "source": [
        "##**3. Most Frequent Words**"
      ]
    },
    {
      "cell_type": "markdown",
      "metadata": {
        "id": "wcvgDt6AHtxj"
      },
      "source": [
        "Chủ yếu là kiểm tra tính hiệu quả của [lemmatization](https://www.datacamp.com/community/tutorials/stemming-lemmatization-python), loại bỏ các từ khóa và bổ sung bigram"
      ]
    },
    {
      "cell_type": "code",
      "metadata": {
        "colab": {
          "base_uri": "https://localhost:8080/"
        },
        "id": "05eRc1ZPHdJm",
        "outputId": "7df5bc50-8d32-4dcc-9d5d-d599cb3f7952"
      },
      "source": [
        "word_freq = defaultdict(int)\n",
        "for sent in sentences:\n",
        "    for i in sent:\n",
        "        word_freq[i] += 1\n",
        "len(word_freq)"
      ],
      "execution_count": null,
      "outputs": [
        {
          "output_type": "execute_result",
          "data": {
            "text/plain": [
              "53380"
            ]
          },
          "metadata": {
            "tags": []
          },
          "execution_count": 21
        }
      ]
    },
    {
      "cell_type": "code",
      "metadata": {
        "colab": {
          "base_uri": "https://localhost:8080/"
        },
        "id": "FJ_bDyuSv_4L",
        "outputId": "69683f72-091b-40b5-d7d2-c5dd01df5c03"
      },
      "source": [
        "print (sorted(word_freq, key=word_freq.get, reverse=True)[:10])"
      ],
      "execution_count": null,
      "outputs": [
        {
          "output_type": "stream",
          "text": [
            "['s', \"'\", 'trump', 'new', 'say', 'u_s', 'man', 'die', 'year', 'review']\n"
          ],
          "name": "stdout"
        }
      ]
    },
    {
      "cell_type": "markdown",
      "metadata": {
        "id": "aDJQEfviF4jS"
      },
      "source": [
        "#**III. Training the model Word2Vec**"
      ]
    },
    {
      "cell_type": "code",
      "metadata": {
        "colab": {
          "base_uri": "https://localhost:8080/"
        },
        "id": "nO-b99elYZfZ",
        "outputId": "7afd9d6d-7f1d-4faf-a442-9d8d5788d735"
      },
      "source": [
        "import multiprocessing\n",
        "from gensim.models import Word2Vec\n",
        "\n",
        "from gensim.test.utils import common_texts\n",
        "from gensim.models import KeyedVectors\n",
        "from gensim.test.utils import datapath"
      ],
      "execution_count": null,
      "outputs": [
        {
          "output_type": "stream",
          "text": [
            "INFO - 14:02:39: adding document #0 to Dictionary(0 unique tokens: [])\n",
            "INFO - 14:02:39: built Dictionary(12 unique tokens: ['computer', 'human', 'interface', 'response', 'survey']...) from 9 documents (total 29 corpus positions)\n"
          ],
          "name": "stderr"
        }
      ]
    },
    {
      "cell_type": "markdown",
      "metadata": {
        "id": "ffTPo7tSb_0-"
      },
      "source": [
        "Phương pháp Word2Vec có 2 mô hình khác nhau được sử dụng để nhúng từ:\n",
        "\n",
        "1. Continuous Bag-of-Words, or **CBOW** model.\n",
        "2. Continuous **Skip-Gram** Model.\n",
        "\n",
        "CBOW model học cách nhúng bằng cách dự đoán từ hiện tại dựa trên ngữ cảnh của nó. Ngược lại, Skip-Gram model học bằng cách dự đoán các từ xung quanh cho một từ hiện tại.\n",
        "\n",
        "![word2vec](https://machinelearningmastery.com/wp-content/uploads/2017/08/Word2Vec-Training-Models-1024x624.png)"
      ]
    },
    {
      "cell_type": "markdown",
      "metadata": {
        "id": "XE0tj1qoxKr6"
      },
      "source": [
        "##**1. Gensim Word2Vec**"
      ]
    },
    {
      "cell_type": "markdown",
      "metadata": {
        "id": "x4BnVQxhC--J"
      },
      "source": [
        "Thiết lập các tham số của mô hình Word2Vec"
      ]
    },
    {
      "cell_type": "code",
      "metadata": {
        "colab": {
          "base_uri": "https://localhost:8080/"
        },
        "id": "4fW_MtdLF_1b",
        "outputId": "28159973-4709-46a6-9ff0-f491822eed0f"
      },
      "source": [
        "# Count the number of cores in a computer\n",
        "cores = multiprocessing.cpu_count() \n",
        "\n",
        "print (cores)"
      ],
      "execution_count": null,
      "outputs": [
        {
          "output_type": "stream",
          "text": [
            "2\n"
          ],
          "name": "stdout"
        }
      ]
    },
    {
      "cell_type": "markdown",
      "metadata": {
        "id": "FZ8zZbpGIfCW"
      },
      "source": [
        "**Những tham số:**\n",
        "\n",
        "- ***min_count* = int** - Bỏ qua tất cả các từ có tổng tần suất tuyệt đối thấp hơn tần suất này\n",
        "- ***window* = int** - Khoảng cách tối đa giữa từ hiện tại và từ dự đoán trong một câu. Ví dụ. từ *window* ở bên trái và từ *window* ở bên trái mục tiêu.\n",
        "- ***size* = int** - Kích thước của các vectơ đối tượng. - (50, 300)\n",
        "- ***sample* = float** - Ngưỡng để định cấu hình các từ có tần suất cao hơn được lấy mẫu giảm xuống một cách ngẫu nhiên. Phạm vi hữu ích - (0, 1e-5)\n",
        "- ***alpha* = float** - Tỷ lệ học ban đầu - (0,01, 0,05)\n",
        "- ***min_alpha* = float** - Tốc độ học tập sẽ giảm tuyến tính xuống *min_alpha* khi quá trình đào tạo diễn ra. Để đặt nó: alpha - (min_alpha * epochs) ~ 0,00\n",
        "- ***negative* = int** - Nếu > 0, lấy mẫu phủ định sẽ được sử dụng, int cho âm xác định có bao nhiêu \"từ nhiễu\" nên được rút ra. Nếu được đặt thành 0, không có lấy mẫu âm tính nào được sử dụng. - (5, 20)\n",
        "- ***worker* = int** - Sử dụng nhiều luồng worker này để đào tạo mô hình (= đào tạo nhanh hơn với máy nhiều lõi)\n",
        "- **sg**: nếu *sg=1* thì word2vec sử dụng Skip-gram model, ngược lại là CBOW.\n",
        "\n",
        "\n"
      ]
    },
    {
      "cell_type": "markdown",
      "metadata": {
        "id": "h76vy5jzp9gk"
      },
      "source": [
        "Word2Vec mặc định sẽ sử dụng CBOW *(sg=0)*, để sử dụng skip-gram, thêm tham số **sg=1** vào *gensim.models.Word2Vec(..., sg=1)*\n",
        "\n",
        "Nhóm em tạo lần lượt 2 model Word2Vec CBOW và Word2Vec skip-gram. So sánh với nhau và dùng từng model để thực hiện xây dựng model phân loại và dự đoán kết quả."
      ]
    },
    {
      "cell_type": "code",
      "metadata": {
        "id": "F_uh5KL9GDQH"
      },
      "source": [
        "#word2vec skip-gram\n",
        "w2v_model_sg = Word2Vec(min_count=20,\n",
        "                     window=2,\n",
        "                     size=300,\n",
        "                     sample=6e-5, \n",
        "                     alpha=0.03, \n",
        "                     min_alpha=0.0007, \n",
        "                     negative=20,\n",
        "                     workers=cores-1,\n",
        "                      sg=1) #chạy skip-gram"
      ],
      "execution_count": null,
      "outputs": []
    },
    {
      "cell_type": "code",
      "metadata": {
        "id": "ju2dyE0oFCfM"
      },
      "source": [
        "#word2vec CBOW\n",
        "w2v_model_cb = Word2Vec(min_count=20,\n",
        "                     window=2,\n",
        "                     size=300,\n",
        "                     sample=6e-5, \n",
        "                     alpha=0.03, \n",
        "                     min_alpha=0.0007, \n",
        "                     negative=20,\n",
        "                     workers=cores-1)"
      ],
      "execution_count": null,
      "outputs": []
    },
    {
      "cell_type": "markdown",
      "metadata": {
        "id": "i3SS2UtLxSux"
      },
      "source": [
        "##**2. Vocabulary Table**"
      ]
    },
    {
      "cell_type": "markdown",
      "metadata": {
        "id": "xJFoYbD3Dgfa"
      },
      "source": [
        "Xây dựng từ vựng từ các tiêu đề và khởi tạo mô hình. Word2Vec yêu cầu xây dựng bảng từ vựng, tìm hiểu tất cả các từ và lọc ra các từ duy nhất và thực hiện một số phép đếm cơ bản trên các từ"
      ]
    },
    {
      "cell_type": "code",
      "metadata": {
        "id": "Z3PlUou8GNzj"
      },
      "source": [
        "t = time()\n",
        "\n",
        "w2v_model_sg.build_vocab(sentences, progress_per=10000)\n",
        "\n",
        "w2v_model_cb.build_vocab(sentences, progress_per=10000)\n",
        "\n",
        "print('Time to build vocab: {} mins'.format(round((time() - t) / 60, 2)))"
      ],
      "execution_count": null,
      "outputs": []
    },
    {
      "cell_type": "markdown",
      "metadata": {
        "id": "FVpiArYfxtuP"
      },
      "source": [
        "##**3. Training of the model**"
      ]
    },
    {
      "cell_type": "markdown",
      "metadata": {
        "id": "KPzq00mPHeK_"
      },
      "source": [
        "Các thông số của khóa đào tạo: \n",
        " - *total_examples* = int - Số lượng tiêu đề \n",
        " - *epochs* = int - Số lần lặp lại (epochs) trên corpus - [10, 20, 30]"
      ]
    },
    {
      "cell_type": "code",
      "metadata": {
        "id": "SQ2HQCRIyTCh"
      },
      "source": [
        "t = time()\n",
        "\n",
        "w2v_model_sg.train(sentences, total_examples=w2v_model_sg.corpus_count, epochs=30, report_delay=1)\n",
        "\n",
        "w2v_model_cb.train(sentences, total_examples=w2v_model_cb.corpus_count, epochs=30, report_delay=1)\n",
        "\n",
        "print('Time to train the model: {} mins'.format(round((time() - t) / 60, 2)))"
      ],
      "execution_count": null,
      "outputs": []
    },
    {
      "cell_type": "markdown",
      "metadata": {
        "id": "FnzthXEZL1Sp"
      },
      "source": [
        "##**4. Save and Load model Word2Vec**"
      ]
    },
    {
      "cell_type": "markdown",
      "metadata": {
        "id": "6pEI_ZxZ2RSr"
      },
      "source": [
        "Do ở Colab *(free)* sau 12 tiếng sẽ reset một lần nên để tiếm kiệm thời gian và công sức cho những lần sau ta sẽ lưu lại model Word2Vec *(w2v_model)*."
      ]
    },
    {
      "cell_type": "markdown",
      "metadata": {
        "id": "Jue71vGO3AHW"
      },
      "source": [
        "Tận dụng lưu model lại trên Drive hoặc lưu lại model trên thư mục colab hiện tại để tải về máy và upload lên github"
      ]
    },
    {
      "cell_type": "code",
      "metadata": {
        "colab": {
          "base_uri": "https://localhost:8080/"
        },
        "id": "pcxjnm_L_nRs",
        "outputId": "2c6a6da1-b906-4a91-d907-fd128c969198"
      },
      "source": [
        "#Lưu w2v_model_cb vào drive\n",
        "w2v_model_cb.save(\"/content/gdrive/MyDrive/Colab Notebooks/Machine Learning/31062021_sarcasm-detection/report/word2vec_cb.model\")\n",
        "\n",
        "#Lưu w2v_model_sg vào drive\n",
        "w2v_model_sg.save(\"/content/gdrive/MyDrive/Colab Notebooks/Machine Learning/31062021_sarcasm-detection/report/word2vec_sg.model\")"
      ],
      "execution_count": null,
      "outputs": [
        {
          "output_type": "stream",
          "text": [
            "INFO - 03:00:59: saving Word2Vec object under word2vec_cb.model, separately None\n",
            "INFO - 03:00:59: not storing attribute vectors_norm\n",
            "INFO - 03:00:59: not storing attribute cum_table\n",
            "INFO - 03:00:59: saved word2vec_cb.model\n",
            "INFO - 03:01:00: saving Word2Vec object under /content/gdrive/MyDrive/Colab Notebooks/Machine Learning/31062021_sarcasm-detection/report/word2vec_cb.model, separately None\n",
            "INFO - 03:01:00: not storing attribute vectors_norm\n",
            "INFO - 03:01:00: not storing attribute cum_table\n",
            "INFO - 03:01:00: saved /content/gdrive/MyDrive/Colab Notebooks/Machine Learning/31062021_sarcasm-detection/report/word2vec_cb.model\n"
          ],
          "name": "stderr"
        }
      ]
    },
    {
      "cell_type": "code",
      "metadata": {
        "colab": {
          "base_uri": "https://localhost:8080/"
        },
        "id": "Vs3uBUoFJWXF",
        "outputId": "a49eef2a-7c10-42b2-c855-2478078f6574"
      },
      "source": [
        "#lưu w2v_model với format là binary vào thư mục hiện tại\n",
        "w2v_model_sg.wv.save_word2vec_format(\"/content/gdrive/MyDrive/Colab Notebooks/Machine Learning/31062021_sarcasm-detection/report/word2vec_cb.bin\", binary=True)\n",
        "w2v_model_cb.wv.save_word2vec_format(\"/content/gdrive/MyDrive/Colab Notebooks/Machine Learning/31062021_sarcasm-detection/report/word2vec_sg.bin\", binary=True)"
      ],
      "execution_count": null,
      "outputs": [
        {
          "output_type": "stream",
          "text": [
            "INFO - 03:01:12: storing 8493x300 projection weights into /content/gdrive/MyDrive/Colab Notebooks/Machine Learning/31062021_sarcasm-detection/report/word2vec_cb.bin\n",
            "INFO - 03:01:12: storing 8493x300 projection weights into /content/gdrive/MyDrive/Colab Notebooks/Machine Learning/31062021_sarcasm-detection/report/word2vec_sg.bin\n"
          ],
          "name": "stderr"
        }
      ]
    },
    {
      "cell_type": "markdown",
      "metadata": {
        "id": "hJQyPTi52Bxd"
      },
      "source": [
        "- **Load model từ Drive hoặc từ GitHub:**"
      ]
    },
    {
      "cell_type": "code",
      "metadata": {
        "colab": {
          "base_uri": "https://localhost:8080/"
        },
        "id": "j2UuG32FVa6n",
        "outputId": "7665e21f-1ba3-4558-e6e8-7e6a16baff5a"
      },
      "source": [
        "#Load w2v_model từ drive\n",
        "w2v_model_sg = Word2Vec.load(\"/content/word2vec_sg.model\")\n",
        "w2v_model_cb = Word2Vec.load(\"/content/word2vec_cb.model\")"
      ],
      "execution_count": null,
      "outputs": [
        {
          "output_type": "stream",
          "text": [
            "INFO - 14:02:45: loading Word2Vec object from /content/word2vec_sg.model\n",
            "INFO - 14:02:46: loading wv recursively from /content/word2vec_sg.model.wv.* with mmap=None\n",
            "INFO - 14:02:46: setting ignored attribute vectors_norm to None\n",
            "INFO - 14:02:46: loading vocabulary recursively from /content/word2vec_sg.model.vocabulary.* with mmap=None\n",
            "INFO - 14:02:46: loading trainables recursively from /content/word2vec_sg.model.trainables.* with mmap=None\n",
            "INFO - 14:02:46: setting ignored attribute cum_table to None\n",
            "INFO - 14:02:46: loaded /content/word2vec_sg.model\n",
            "INFO - 14:02:46: loading Word2Vec object from /content/word2vec_cb.model\n",
            "INFO - 14:02:46: loading wv recursively from /content/word2vec_cb.model.wv.* with mmap=None\n",
            "INFO - 14:02:46: setting ignored attribute vectors_norm to None\n",
            "INFO - 14:02:46: loading vocabulary recursively from /content/word2vec_cb.model.vocabulary.* with mmap=None\n",
            "INFO - 14:02:46: loading trainables recursively from /content/word2vec_cb.model.trainables.* with mmap=None\n",
            "INFO - 14:02:46: setting ignored attribute cum_table to None\n",
            "INFO - 14:02:46: loaded /content/word2vec_cb.model\n"
          ],
          "name": "stderr"
        }
      ]
    },
    {
      "cell_type": "markdown",
      "metadata": {
        "id": "LLVcw866ybtV"
      },
      "source": [
        "##**5. Example model**"
      ]
    },
    {
      "cell_type": "markdown",
      "metadata": {
        "id": "OU9s1bWjy0Kv"
      },
      "source": [
        "- **Từ gần giống và không giống:**"
      ]
    },
    {
      "cell_type": "code",
      "metadata": {
        "colab": {
          "base_uri": "https://localhost:8080/"
        },
        "id": "c9OPI3MBCgvU",
        "outputId": "56648e03-2738-47c7-e3a2-7b2b9d8fd173"
      },
      "source": [
        "#Từ gần với \"coronavirus\"\n",
        "# Sử dụng cả 2 model để so sánh\n",
        "w2v_model_sg.wv.most_similar('coronavirus'), w2v_model_cb.wv.most_similar('coronavirus')"
      ],
      "execution_count": null,
      "outputs": [
        {
          "output_type": "stream",
          "text": [
            "INFO - 14:02:55: precomputing L2-norms of word weight vectors\n",
            "INFO - 14:02:55: precomputing L2-norms of word weight vectors\n"
          ],
          "name": "stderr"
        },
        {
          "output_type": "execute_result",
          "data": {
            "text/plain": [
              "([('virus', 0.6938843131065369),\n",
              "  ('covid', 0.6718800067901611),\n",
              "  ('pandemic', 0.5410641431808472),\n",
              "  ('coronavirus_outbreak', 0.4747026264667511),\n",
              "  ('lockdown', 0.4653673768043518),\n",
              "  ('epicenter', 0.4579155445098877),\n",
              "  ('virus_spread', 0.439346045255661),\n",
              "  ('variant', 0.43419966101646423),\n",
              "  ('infection', 0.4339911639690399),\n",
              "  ('vaccine_rollout', 0.42973995208740234)],\n",
              " [('virus', 0.7579675912857056),\n",
              "  ('covid', 0.7446305751800537),\n",
              "  ('coronavirus_outbreak', 0.5814684629440308),\n",
              "  ('pandemic', 0.5682507753372192),\n",
              "  ('second_wave', 0.5469757318496704),\n",
              "  ('virus_spread', 0.5118873119354248),\n",
              "  ('zika_virus', 0.5013904571533203),\n",
              "  ('infection', 0.49922600388526917),\n",
              "  ('measle', 0.4949232041835785),\n",
              "  ('h_v', 0.49320948123931885)])"
            ]
          },
          "metadata": {
            "tags": []
          },
          "execution_count": 26
        }
      ]
    },
    {
      "cell_type": "code",
      "metadata": {
        "colab": {
          "base_uri": "https://localhost:8080/"
        },
        "id": "TWMArd02zFdy",
        "outputId": "5c89f93e-f0ec-4c8f-db78-9f13656bd02a"
      },
      "source": [
        "#Từ gần giống \"brexit\"\n",
        "w2v_model_sg.wv.most_similar(\"brexit\"), w2v_model_cb.wv.most_similar(\"brexit\")"
      ],
      "execution_count": null,
      "outputs": [
        {
          "output_type": "execute_result",
          "data": {
            "text/plain": [
              "([('eu', 0.5479477643966675),\n",
              "  ('johnson', 0.5078952312469482),\n",
              "  ('brexit_deal', 0.4950704574584961),\n",
              "  ('tory', 0.48097628355026245),\n",
              "  ('theresa', 0.472481906414032),\n",
              "  ('moan', 0.46687737107276917),\n",
              "  ('deal_brexit', 0.4663698375225067),\n",
              "  ('remainer', 0.4593125879764557),\n",
              "  ('boris_johnson', 0.44393450021743774),\n",
              "  ('brexiteer', 0.43751198053359985)],\n",
              " [('brexit_deal', 0.6190416812896729),\n",
              "  ('eu', 0.569905161857605),\n",
              "  ('deal_brexit', 0.5612530708312988),\n",
              "  ('remainer', 0.5347695350646973),\n",
              "  ('post_brexit', 0.501359760761261),\n",
              "  ('backstop', 0.5008552074432373),\n",
              "  ('dup', 0.4953097105026245),\n",
              "  ('theresa', 0.4918477237224579),\n",
              "  ('general_election', 0.48636025190353394),\n",
              "  ('corbyn', 0.48126959800720215)])"
            ]
          },
          "metadata": {
            "tags": []
          },
          "execution_count": 27
        }
      ]
    },
    {
      "cell_type": "markdown",
      "metadata": {
        "id": "DR1fWavsKF6P"
      },
      "source": [
        "10 từ gần giống và không gần với \"trump\""
      ]
    },
    {
      "cell_type": "code",
      "metadata": {
        "colab": {
          "base_uri": "https://localhost:8080/"
        },
        "id": "ORMwZtFhBVUL",
        "outputId": "42595114-5c39-4b63-e8a3-bce0cfb42c8d"
      },
      "source": [
        "#model Word2Vec skip-gram\n",
        "\n",
        "print (\"10 Most dissimilar:\\n\", [i[0] for i in w2v_model_sg.wv.most_similar(negative=[\"trump\"])])\n",
        "             \n",
        "print (\"10 Most similar:\\n\", [i[0] for i in w2v_model_sg.wv.most_similar('trump')])"
      ],
      "execution_count": null,
      "outputs": [
        {
          "output_type": "stream",
          "text": [
            "10 Most dissimilar:\n",
            " ['hop', 'explorer', 'extinction', 'wander', 'mug', 'function', 'cabin', 'fictional', 'glue', 'spice']\n",
            "10 Most similar:\n",
            " ['donald_trump', 'president', 'biden', 'democrats', 'obama', 'white_house', 'republicans', 'michael_dorf', \"'\", 'arpaio']\n"
          ],
          "name": "stdout"
        }
      ]
    },
    {
      "cell_type": "code",
      "metadata": {
        "colab": {
          "base_uri": "https://localhost:8080/"
        },
        "id": "IDCVe5uYsDYx",
        "outputId": "cb639fdb-cd98-4c00-a200-2b4835f837ff"
      },
      "source": [
        "#model Word2Vec CBOW\n",
        "\n",
        "print (\"10 Most dissimilar:\\n\", [i[0] for i in w2v_model_cb.wv.most_similar(negative=[\"trump\"])])\n",
        "             \n",
        "print (\"10 Most similar:\\n\", [i[0] for i in w2v_model_cb.wv.most_similar('trump')])"
      ],
      "execution_count": null,
      "outputs": [
        {
          "output_type": "stream",
          "text": [
            "10 Most dissimilar:\n",
            " ['hop', 'scent', 'crawl', 'blend', 'stylish', 'sharon', 'pastry', 'explorer', 'gum', 'letter_recommendation']\n",
            "10 Most similar:\n",
            " ['donald_trump', 'obama', 'biden', 'tillerson', 'rudy_giuliani', 'john_bolton', 'michael_dorf', 'president', 'pompeo', 'white_house']\n"
          ],
          "name": "stdout"
        }
      ]
    },
    {
      "cell_type": "markdown",
      "metadata": {
        "id": "hCgZNF3bcJVV"
      },
      "source": [
        "#**IV. Text Classification**"
      ]
    },
    {
      "cell_type": "markdown",
      "metadata": {
        "id": "bYl6iwbgV6lC"
      },
      "source": [
        "##**1. Xử lý dữ liệu**"
      ]
    },
    {
      "cell_type": "code",
      "metadata": {
        "colab": {
          "base_uri": "https://localhost:8080/"
        },
        "id": "jZPRXrHI__5Q",
        "outputId": "4635957c-b265-48e4-aeae-1b5f53ca9e15"
      },
      "source": [
        "# model word2vec skip-gram\n",
        "embeddings = KeyedVectors.load_word2vec_format(\"/content/word2vec_sg.bin\", binary=True)"
      ],
      "execution_count": null,
      "outputs": [
        {
          "output_type": "stream",
          "text": [
            "INFO - 14:04:33: loading projection weights from /content/word2vec_sg.bin\n",
            "INFO - 14:04:33: loaded (8493, 300) matrix from /content/word2vec_sg.bin\n"
          ],
          "name": "stderr"
        }
      ]
    },
    {
      "cell_type": "code",
      "metadata": {
        "colab": {
          "base_uri": "https://localhost:8080/"
        },
        "id": "fyFQTU8FvNI5",
        "outputId": "fa98faa7-9695-485d-acb8-d2532f60f487"
      },
      "source": [
        "# model word2vec CBOW\n",
        "embeddings = KeyedVectors.load_word2vec_format(\"/content/word2vec_cb.bin\", binary=True)"
      ],
      "execution_count": null,
      "outputs": [
        {
          "output_type": "stream",
          "text": [
            "INFO - 14:04:41: loading projection weights from /content/word2vec_cb.bin\n",
            "INFO - 14:04:41: loaded (8493, 300) matrix from /content/word2vec_cb.bin\n"
          ],
          "name": "stderr"
        }
      ]
    },
    {
      "cell_type": "code",
      "metadata": {
        "id": "s0DYuUlCLiTY"
      },
      "source": [
        "def process_title(df):\n",
        "  # tải các từ stopwords\n",
        "  nltk.download('stopwords')\n",
        "  docs_vectors = pd.DataFrame()\n",
        "\n",
        "  # loại bỏ những stop words tiếng anh\n",
        "  stopwords = nltk.corpus.stopwords.words('english') \n",
        "  for doc in df['title'].str.lower().str.replace('[^a-z ]', ''): # duyệt qua từng tiêu đề và xử lý làm sạch\n",
        "      \n",
        "      # tạo khung dữ liệu tạm thời (lưu trữ giá trị cho tài liệu thứ nhất & cho tài liệu thứ hai, xóa các chi tiết của tài liệu thứ nhất và quy trình đến thứ hai, v.v.)\n",
        "      temp = pd.DataFrame() \n",
        "\n",
        "      #lặp lại từng từ của một tiêu đề và tách qua khoảng trắng\n",
        "      for word in doc.split(' '): \n",
        "          if word not in stopwords: # nếu từ không có trong từ dừng thì (try)\n",
        "              try:\n",
        "                  word_vec = embeddings[word] # nếu từ có trong nhúng thì hãy tiếp tục\n",
        "                  temp = temp.append(pd.Series(word_vec), ignore_index = True) # nếu có từ thì nối nó vào khung dữ liệu tạm thời\n",
        "              except:\n",
        "                  pass\n",
        "\n",
        "      doc_vector = temp.mean()\n",
        "      docs_vectors = docs_vectors.append(doc_vector, ignore_index = True) # nối mỗi giá trị tiêu đề vào khung dữ liệu cuối cùng\n",
        "  \n",
        "  #Bổ dung nhãn vào khung dữ liệu cuối cùng và xóa các giá rỗng\n",
        "  docs_vectors['is_sarcastic'] = df['is_sarcastic']\n",
        "  docs_vectors = docs_vectors.dropna()\n",
        "      \n",
        "  return docs_vectors\n"
      ],
      "execution_count": null,
      "outputs": []
    },
    {
      "cell_type": "markdown",
      "metadata": {
        "id": "eVykAKeuvWgD"
      },
      "source": [
        "- Xử lý file data_train *(df_train)*"
      ]
    },
    {
      "cell_type": "code",
      "metadata": {
        "colab": {
          "background_save": true,
          "base_uri": "https://localhost:8080/"
        },
        "id": "mo4BuLZlQV9t",
        "outputId": "0d8d1a30-55a4-4089-96a3-0177fe998bf3"
      },
      "source": [
        "train_vectors = process_title(df_train)"
      ],
      "execution_count": null,
      "outputs": [
        {
          "output_type": "stream",
          "text": [
            "[nltk_data] Downloading package stopwords to /root/nltk_data...\n",
            "[nltk_data]   Unzipping corpora/stopwords.zip.\n"
          ],
          "name": "stdout"
        }
      ]
    },
    {
      "cell_type": "markdown",
      "metadata": {
        "id": "AAOGmAk7vcNr"
      },
      "source": [
        "- Như trình bày ở phần đầu, do việc xử lý file *data_train* mất thời gian và dung lượng lớn nên nhóm đã lưu file lại khi thực hiện xong."
      ]
    },
    {
      "cell_type": "markdown",
      "metadata": {
        "id": "1DjmQ7ifFwgT"
      },
      "source": [
        "**Save vs Read train_vectors**"
      ]
    },
    {
      "cell_type": "markdown",
      "metadata": {
        "id": "R7A7pPtri3gZ"
      },
      "source": [
        "- **Save train_vectors**"
      ]
    },
    {
      "cell_type": "code",
      "metadata": {
        "id": "uRgsChQUjGqz"
      },
      "source": [
        "#train_vector với word2vec skip-gram\n",
        "url_drive = \"/content/gdrive/MyDrive/Colab Notebooks/Machine Learning/31062021_sarcasm-detection/report/train_vectors_sg.csv\"\n",
        "train_vectors.to_csv(url_drive, header=True, index=False)"
      ],
      "execution_count": null,
      "outputs": []
    },
    {
      "cell_type": "code",
      "metadata": {
        "id": "qCrTFxAhTai8"
      },
      "source": [
        "#train_vector với word2vec CBOW\n",
        "url_drive = \"/content/gdrive/MyDrive/Colab Notebooks/Machine Learning/31062021_sarcasm-detection/report/train_vectors_cb.csv\"\n",
        "train_vectors.to_csv(url_drive, header=True, index=False)"
      ],
      "execution_count": null,
      "outputs": []
    },
    {
      "cell_type": "markdown",
      "metadata": {
        "id": "mJZMPiN4i_6a"
      },
      "source": [
        "- **Read train_vectors**"
      ]
    },
    {
      "cell_type": "code",
      "metadata": {
        "colab": {
          "base_uri": "https://localhost:8080/",
          "height": 270
        },
        "id": "Uy5hRJFYOe9P",
        "outputId": "80566e4c-4e76-47b2-fdc6-80de93b50fa5"
      },
      "source": [
        "#xử lý bởi model Word2Vec CBOW\n",
        "train_vectors_cb = pd.read_csv(\"/content/train_vectors_cb.csv\")\n",
        "\n",
        "print (train_vectors_cb.shape)\n",
        "train_vectors_cb.head()"
      ],
      "execution_count": null,
      "outputs": [
        {
          "output_type": "stream",
          "text": [
            "(306149, 301)\n"
          ],
          "name": "stdout"
        },
        {
          "output_type": "execute_result",
          "data": {
            "text/html": [
              "<div>\n",
              "<style scoped>\n",
              "    .dataframe tbody tr th:only-of-type {\n",
              "        vertical-align: middle;\n",
              "    }\n",
              "\n",
              "    .dataframe tbody tr th {\n",
              "        vertical-align: top;\n",
              "    }\n",
              "\n",
              "    .dataframe thead th {\n",
              "        text-align: right;\n",
              "    }\n",
              "</style>\n",
              "<table border=\"1\" class=\"dataframe\">\n",
              "  <thead>\n",
              "    <tr style=\"text-align: right;\">\n",
              "      <th></th>\n",
              "      <th>0</th>\n",
              "      <th>1</th>\n",
              "      <th>2</th>\n",
              "      <th>3</th>\n",
              "      <th>4</th>\n",
              "      <th>5</th>\n",
              "      <th>6</th>\n",
              "      <th>7</th>\n",
              "      <th>8</th>\n",
              "      <th>9</th>\n",
              "      <th>10</th>\n",
              "      <th>11</th>\n",
              "      <th>12</th>\n",
              "      <th>13</th>\n",
              "      <th>14</th>\n",
              "      <th>15</th>\n",
              "      <th>16</th>\n",
              "      <th>17</th>\n",
              "      <th>18</th>\n",
              "      <th>19</th>\n",
              "      <th>20</th>\n",
              "      <th>21</th>\n",
              "      <th>22</th>\n",
              "      <th>23</th>\n",
              "      <th>24</th>\n",
              "      <th>25</th>\n",
              "      <th>26</th>\n",
              "      <th>27</th>\n",
              "      <th>28</th>\n",
              "      <th>29</th>\n",
              "      <th>30</th>\n",
              "      <th>31</th>\n",
              "      <th>32</th>\n",
              "      <th>33</th>\n",
              "      <th>34</th>\n",
              "      <th>35</th>\n",
              "      <th>36</th>\n",
              "      <th>37</th>\n",
              "      <th>38</th>\n",
              "      <th>39</th>\n",
              "      <th>...</th>\n",
              "      <th>261</th>\n",
              "      <th>262</th>\n",
              "      <th>263</th>\n",
              "      <th>264</th>\n",
              "      <th>265</th>\n",
              "      <th>266</th>\n",
              "      <th>267</th>\n",
              "      <th>268</th>\n",
              "      <th>269</th>\n",
              "      <th>270</th>\n",
              "      <th>271</th>\n",
              "      <th>272</th>\n",
              "      <th>273</th>\n",
              "      <th>274</th>\n",
              "      <th>275</th>\n",
              "      <th>276</th>\n",
              "      <th>277</th>\n",
              "      <th>278</th>\n",
              "      <th>279</th>\n",
              "      <th>280</th>\n",
              "      <th>281</th>\n",
              "      <th>282</th>\n",
              "      <th>283</th>\n",
              "      <th>284</th>\n",
              "      <th>285</th>\n",
              "      <th>286</th>\n",
              "      <th>287</th>\n",
              "      <th>288</th>\n",
              "      <th>289</th>\n",
              "      <th>290</th>\n",
              "      <th>291</th>\n",
              "      <th>292</th>\n",
              "      <th>293</th>\n",
              "      <th>294</th>\n",
              "      <th>295</th>\n",
              "      <th>296</th>\n",
              "      <th>297</th>\n",
              "      <th>298</th>\n",
              "      <th>299</th>\n",
              "      <th>is_sarcastic</th>\n",
              "    </tr>\n",
              "  </thead>\n",
              "  <tbody>\n",
              "    <tr>\n",
              "      <th>0</th>\n",
              "      <td>-0.535678</td>\n",
              "      <td>0.344523</td>\n",
              "      <td>-0.262401</td>\n",
              "      <td>0.138592</td>\n",
              "      <td>-0.162678</td>\n",
              "      <td>-0.148587</td>\n",
              "      <td>-0.263709</td>\n",
              "      <td>0.118172</td>\n",
              "      <td>0.165810</td>\n",
              "      <td>0.289190</td>\n",
              "      <td>-0.054791</td>\n",
              "      <td>-0.322778</td>\n",
              "      <td>-0.046923</td>\n",
              "      <td>0.015730</td>\n",
              "      <td>0.003154</td>\n",
              "      <td>0.102439</td>\n",
              "      <td>-0.045788</td>\n",
              "      <td>0.012687</td>\n",
              "      <td>-0.195183</td>\n",
              "      <td>0.142032</td>\n",
              "      <td>-0.101116</td>\n",
              "      <td>-0.250822</td>\n",
              "      <td>0.087148</td>\n",
              "      <td>-0.185045</td>\n",
              "      <td>-0.285375</td>\n",
              "      <td>0.115035</td>\n",
              "      <td>0.169410</td>\n",
              "      <td>0.003926</td>\n",
              "      <td>0.179750</td>\n",
              "      <td>0.600111</td>\n",
              "      <td>-0.197195</td>\n",
              "      <td>-0.041441</td>\n",
              "      <td>-0.255220</td>\n",
              "      <td>0.223379</td>\n",
              "      <td>0.195088</td>\n",
              "      <td>-0.170427</td>\n",
              "      <td>0.018393</td>\n",
              "      <td>-0.126754</td>\n",
              "      <td>-0.260834</td>\n",
              "      <td>-0.470049</td>\n",
              "      <td>...</td>\n",
              "      <td>-0.220016</td>\n",
              "      <td>-0.032893</td>\n",
              "      <td>0.081764</td>\n",
              "      <td>0.037006</td>\n",
              "      <td>0.083880</td>\n",
              "      <td>-0.065347</td>\n",
              "      <td>0.105249</td>\n",
              "      <td>0.223267</td>\n",
              "      <td>-0.121771</td>\n",
              "      <td>0.185504</td>\n",
              "      <td>0.021374</td>\n",
              "      <td>-0.144321</td>\n",
              "      <td>-0.113284</td>\n",
              "      <td>-0.077772</td>\n",
              "      <td>0.153538</td>\n",
              "      <td>0.064202</td>\n",
              "      <td>0.243200</td>\n",
              "      <td>0.087767</td>\n",
              "      <td>0.003224</td>\n",
              "      <td>0.062448</td>\n",
              "      <td>0.170716</td>\n",
              "      <td>-0.007571</td>\n",
              "      <td>-0.185785</td>\n",
              "      <td>0.157862</td>\n",
              "      <td>0.041893</td>\n",
              "      <td>0.179644</td>\n",
              "      <td>0.097095</td>\n",
              "      <td>0.008313</td>\n",
              "      <td>-0.063617</td>\n",
              "      <td>0.182064</td>\n",
              "      <td>0.157484</td>\n",
              "      <td>-0.287224</td>\n",
              "      <td>0.481465</td>\n",
              "      <td>-0.183895</td>\n",
              "      <td>-0.083145</td>\n",
              "      <td>0.079648</td>\n",
              "      <td>0.004276</td>\n",
              "      <td>0.084812</td>\n",
              "      <td>-0.110865</td>\n",
              "      <td>0</td>\n",
              "    </tr>\n",
              "    <tr>\n",
              "      <th>1</th>\n",
              "      <td>-0.233379</td>\n",
              "      <td>0.193487</td>\n",
              "      <td>-0.009435</td>\n",
              "      <td>-0.154770</td>\n",
              "      <td>-0.189387</td>\n",
              "      <td>-0.055402</td>\n",
              "      <td>0.029189</td>\n",
              "      <td>0.357769</td>\n",
              "      <td>-0.041126</td>\n",
              "      <td>-0.117721</td>\n",
              "      <td>0.066785</td>\n",
              "      <td>0.053213</td>\n",
              "      <td>0.122101</td>\n",
              "      <td>0.010109</td>\n",
              "      <td>0.098130</td>\n",
              "      <td>0.082924</td>\n",
              "      <td>0.223062</td>\n",
              "      <td>0.060519</td>\n",
              "      <td>0.081008</td>\n",
              "      <td>0.112854</td>\n",
              "      <td>-0.128700</td>\n",
              "      <td>-0.232251</td>\n",
              "      <td>0.170100</td>\n",
              "      <td>-0.038075</td>\n",
              "      <td>-0.153749</td>\n",
              "      <td>0.042335</td>\n",
              "      <td>0.071745</td>\n",
              "      <td>0.031920</td>\n",
              "      <td>-0.131974</td>\n",
              "      <td>0.132487</td>\n",
              "      <td>0.020931</td>\n",
              "      <td>0.055034</td>\n",
              "      <td>-0.261671</td>\n",
              "      <td>-0.088927</td>\n",
              "      <td>0.209420</td>\n",
              "      <td>0.022832</td>\n",
              "      <td>0.012327</td>\n",
              "      <td>-0.106623</td>\n",
              "      <td>-0.126934</td>\n",
              "      <td>-0.076834</td>\n",
              "      <td>...</td>\n",
              "      <td>0.078732</td>\n",
              "      <td>0.022177</td>\n",
              "      <td>0.108586</td>\n",
              "      <td>0.033127</td>\n",
              "      <td>0.026822</td>\n",
              "      <td>-0.130349</td>\n",
              "      <td>0.079785</td>\n",
              "      <td>0.059742</td>\n",
              "      <td>-0.238595</td>\n",
              "      <td>0.231147</td>\n",
              "      <td>0.088211</td>\n",
              "      <td>-0.287097</td>\n",
              "      <td>-0.101468</td>\n",
              "      <td>0.100053</td>\n",
              "      <td>0.041244</td>\n",
              "      <td>0.253918</td>\n",
              "      <td>0.031508</td>\n",
              "      <td>0.069474</td>\n",
              "      <td>-0.159352</td>\n",
              "      <td>-0.154591</td>\n",
              "      <td>-0.024009</td>\n",
              "      <td>0.213248</td>\n",
              "      <td>0.104125</td>\n",
              "      <td>0.209303</td>\n",
              "      <td>-0.075392</td>\n",
              "      <td>0.190068</td>\n",
              "      <td>0.163472</td>\n",
              "      <td>0.019199</td>\n",
              "      <td>0.197993</td>\n",
              "      <td>-0.016651</td>\n",
              "      <td>0.140138</td>\n",
              "      <td>0.041606</td>\n",
              "      <td>0.139989</td>\n",
              "      <td>-0.043529</td>\n",
              "      <td>-0.037679</td>\n",
              "      <td>-0.039398</td>\n",
              "      <td>-0.022093</td>\n",
              "      <td>0.322774</td>\n",
              "      <td>-0.035297</td>\n",
              "      <td>1</td>\n",
              "    </tr>\n",
              "    <tr>\n",
              "      <th>2</th>\n",
              "      <td>-0.235082</td>\n",
              "      <td>-0.169484</td>\n",
              "      <td>0.064375</td>\n",
              "      <td>0.445260</td>\n",
              "      <td>-0.533067</td>\n",
              "      <td>-0.033547</td>\n",
              "      <td>-0.253011</td>\n",
              "      <td>0.102846</td>\n",
              "      <td>0.080528</td>\n",
              "      <td>-0.036279</td>\n",
              "      <td>0.130170</td>\n",
              "      <td>-0.064122</td>\n",
              "      <td>0.091823</td>\n",
              "      <td>-0.109135</td>\n",
              "      <td>-0.168479</td>\n",
              "      <td>0.433787</td>\n",
              "      <td>-0.017849</td>\n",
              "      <td>0.251277</td>\n",
              "      <td>-0.345739</td>\n",
              "      <td>-0.042340</td>\n",
              "      <td>0.146967</td>\n",
              "      <td>-0.063283</td>\n",
              "      <td>-0.020892</td>\n",
              "      <td>0.289060</td>\n",
              "      <td>-0.275218</td>\n",
              "      <td>-0.170140</td>\n",
              "      <td>0.248943</td>\n",
              "      <td>-0.203116</td>\n",
              "      <td>0.367872</td>\n",
              "      <td>0.324900</td>\n",
              "      <td>-0.130321</td>\n",
              "      <td>0.172778</td>\n",
              "      <td>0.076295</td>\n",
              "      <td>0.274419</td>\n",
              "      <td>0.095467</td>\n",
              "      <td>-0.035341</td>\n",
              "      <td>0.305199</td>\n",
              "      <td>0.219562</td>\n",
              "      <td>-0.196638</td>\n",
              "      <td>0.160964</td>\n",
              "      <td>...</td>\n",
              "      <td>0.008477</td>\n",
              "      <td>-0.054566</td>\n",
              "      <td>0.019778</td>\n",
              "      <td>-0.098426</td>\n",
              "      <td>0.072189</td>\n",
              "      <td>0.007837</td>\n",
              "      <td>-0.169601</td>\n",
              "      <td>-0.166860</td>\n",
              "      <td>-0.237213</td>\n",
              "      <td>-0.113566</td>\n",
              "      <td>-0.036208</td>\n",
              "      <td>-0.364632</td>\n",
              "      <td>-0.213467</td>\n",
              "      <td>-0.116903</td>\n",
              "      <td>0.495801</td>\n",
              "      <td>0.479967</td>\n",
              "      <td>0.045662</td>\n",
              "      <td>-0.211952</td>\n",
              "      <td>0.301491</td>\n",
              "      <td>-0.038895</td>\n",
              "      <td>0.594772</td>\n",
              "      <td>0.241369</td>\n",
              "      <td>-0.109144</td>\n",
              "      <td>0.337974</td>\n",
              "      <td>0.257221</td>\n",
              "      <td>0.035002</td>\n",
              "      <td>0.013557</td>\n",
              "      <td>-0.346130</td>\n",
              "      <td>-0.150385</td>\n",
              "      <td>-0.196474</td>\n",
              "      <td>0.283668</td>\n",
              "      <td>-0.235420</td>\n",
              "      <td>0.100244</td>\n",
              "      <td>0.184146</td>\n",
              "      <td>-0.083518</td>\n",
              "      <td>0.078835</td>\n",
              "      <td>0.286957</td>\n",
              "      <td>0.248334</td>\n",
              "      <td>0.073380</td>\n",
              "      <td>0</td>\n",
              "    </tr>\n",
              "    <tr>\n",
              "      <th>3</th>\n",
              "      <td>-0.121005</td>\n",
              "      <td>-0.027502</td>\n",
              "      <td>-0.368056</td>\n",
              "      <td>0.196006</td>\n",
              "      <td>-0.075984</td>\n",
              "      <td>0.076198</td>\n",
              "      <td>0.188696</td>\n",
              "      <td>0.191259</td>\n",
              "      <td>-0.004566</td>\n",
              "      <td>0.047173</td>\n",
              "      <td>-0.011302</td>\n",
              "      <td>-0.117373</td>\n",
              "      <td>-0.214447</td>\n",
              "      <td>0.035656</td>\n",
              "      <td>-0.057080</td>\n",
              "      <td>0.121140</td>\n",
              "      <td>-0.010763</td>\n",
              "      <td>0.179588</td>\n",
              "      <td>-0.126804</td>\n",
              "      <td>-0.045646</td>\n",
              "      <td>0.108602</td>\n",
              "      <td>0.038041</td>\n",
              "      <td>0.461506</td>\n",
              "      <td>-0.042444</td>\n",
              "      <td>-0.196380</td>\n",
              "      <td>-0.126284</td>\n",
              "      <td>0.076813</td>\n",
              "      <td>0.063012</td>\n",
              "      <td>0.454412</td>\n",
              "      <td>0.185148</td>\n",
              "      <td>0.039693</td>\n",
              "      <td>-0.215786</td>\n",
              "      <td>-0.158428</td>\n",
              "      <td>0.309451</td>\n",
              "      <td>0.406135</td>\n",
              "      <td>0.121337</td>\n",
              "      <td>0.082249</td>\n",
              "      <td>-0.059496</td>\n",
              "      <td>-0.147269</td>\n",
              "      <td>-0.378651</td>\n",
              "      <td>...</td>\n",
              "      <td>-0.094510</td>\n",
              "      <td>-0.107362</td>\n",
              "      <td>-0.023400</td>\n",
              "      <td>-0.049541</td>\n",
              "      <td>0.121019</td>\n",
              "      <td>-0.122580</td>\n",
              "      <td>0.037163</td>\n",
              "      <td>0.122952</td>\n",
              "      <td>-0.198081</td>\n",
              "      <td>0.050516</td>\n",
              "      <td>0.002055</td>\n",
              "      <td>0.228673</td>\n",
              "      <td>-0.010662</td>\n",
              "      <td>0.081673</td>\n",
              "      <td>0.382961</td>\n",
              "      <td>0.139871</td>\n",
              "      <td>0.101474</td>\n",
              "      <td>-0.148938</td>\n",
              "      <td>0.168512</td>\n",
              "      <td>0.048918</td>\n",
              "      <td>0.002493</td>\n",
              "      <td>-0.124789</td>\n",
              "      <td>-0.158104</td>\n",
              "      <td>0.313557</td>\n",
              "      <td>0.041322</td>\n",
              "      <td>0.107699</td>\n",
              "      <td>0.069404</td>\n",
              "      <td>0.058646</td>\n",
              "      <td>0.260766</td>\n",
              "      <td>0.197317</td>\n",
              "      <td>0.129825</td>\n",
              "      <td>-0.288211</td>\n",
              "      <td>0.206060</td>\n",
              "      <td>-0.285010</td>\n",
              "      <td>-0.115153</td>\n",
              "      <td>0.104247</td>\n",
              "      <td>0.039086</td>\n",
              "      <td>-0.353257</td>\n",
              "      <td>0.086667</td>\n",
              "      <td>1</td>\n",
              "    </tr>\n",
              "    <tr>\n",
              "      <th>4</th>\n",
              "      <td>0.079524</td>\n",
              "      <td>-0.244897</td>\n",
              "      <td>0.043569</td>\n",
              "      <td>0.174805</td>\n",
              "      <td>-0.118556</td>\n",
              "      <td>0.224020</td>\n",
              "      <td>-0.173496</td>\n",
              "      <td>0.196636</td>\n",
              "      <td>0.042692</td>\n",
              "      <td>0.014062</td>\n",
              "      <td>0.088707</td>\n",
              "      <td>-0.091129</td>\n",
              "      <td>0.153851</td>\n",
              "      <td>0.067017</td>\n",
              "      <td>0.082250</td>\n",
              "      <td>0.047656</td>\n",
              "      <td>0.098063</td>\n",
              "      <td>-0.003330</td>\n",
              "      <td>-0.179937</td>\n",
              "      <td>0.039139</td>\n",
              "      <td>-0.075080</td>\n",
              "      <td>-0.266259</td>\n",
              "      <td>0.051281</td>\n",
              "      <td>-0.119917</td>\n",
              "      <td>-0.132247</td>\n",
              "      <td>-0.024405</td>\n",
              "      <td>0.157927</td>\n",
              "      <td>0.063417</td>\n",
              "      <td>0.258689</td>\n",
              "      <td>0.464244</td>\n",
              "      <td>-0.142828</td>\n",
              "      <td>-0.065529</td>\n",
              "      <td>-0.069076</td>\n",
              "      <td>0.291207</td>\n",
              "      <td>0.236737</td>\n",
              "      <td>-0.018927</td>\n",
              "      <td>-0.077986</td>\n",
              "      <td>0.148859</td>\n",
              "      <td>-0.177961</td>\n",
              "      <td>-0.037538</td>\n",
              "      <td>...</td>\n",
              "      <td>-0.169929</td>\n",
              "      <td>0.017364</td>\n",
              "      <td>0.043517</td>\n",
              "      <td>0.138313</td>\n",
              "      <td>0.156190</td>\n",
              "      <td>0.051386</td>\n",
              "      <td>0.245449</td>\n",
              "      <td>-0.138271</td>\n",
              "      <td>-0.344458</td>\n",
              "      <td>0.105763</td>\n",
              "      <td>0.122491</td>\n",
              "      <td>-0.258468</td>\n",
              "      <td>-0.181772</td>\n",
              "      <td>0.107737</td>\n",
              "      <td>0.038337</td>\n",
              "      <td>-0.060688</td>\n",
              "      <td>0.188834</td>\n",
              "      <td>-0.087608</td>\n",
              "      <td>0.042902</td>\n",
              "      <td>0.203910</td>\n",
              "      <td>0.355430</td>\n",
              "      <td>0.133039</td>\n",
              "      <td>-0.121425</td>\n",
              "      <td>-0.012224</td>\n",
              "      <td>0.279903</td>\n",
              "      <td>-0.180012</td>\n",
              "      <td>0.267628</td>\n",
              "      <td>-0.050613</td>\n",
              "      <td>0.095614</td>\n",
              "      <td>0.011147</td>\n",
              "      <td>-0.019816</td>\n",
              "      <td>0.016691</td>\n",
              "      <td>-0.014433</td>\n",
              "      <td>0.194742</td>\n",
              "      <td>0.082643</td>\n",
              "      <td>0.180123</td>\n",
              "      <td>0.010236</td>\n",
              "      <td>0.270311</td>\n",
              "      <td>-0.017812</td>\n",
              "      <td>0</td>\n",
              "    </tr>\n",
              "  </tbody>\n",
              "</table>\n",
              "<p>5 rows × 301 columns</p>\n",
              "</div>"
            ],
            "text/plain": [
              "          0         1         2  ...       298       299  is_sarcastic\n",
              "0 -0.535678  0.344523 -0.262401  ...  0.084812 -0.110865             0\n",
              "1 -0.233379  0.193487 -0.009435  ...  0.322774 -0.035297             1\n",
              "2 -0.235082 -0.169484  0.064375  ...  0.248334  0.073380             0\n",
              "3 -0.121005 -0.027502 -0.368056  ... -0.353257  0.086667             1\n",
              "4  0.079524 -0.244897  0.043569  ...  0.270311 -0.017812             0\n",
              "\n",
              "[5 rows x 301 columns]"
            ]
          },
          "metadata": {
            "tags": []
          },
          "execution_count": 2
        }
      ]
    },
    {
      "cell_type": "code",
      "metadata": {
        "colab": {
          "base_uri": "https://localhost:8080/",
          "height": 270
        },
        "id": "NIkgAkj2v3tM",
        "outputId": "ed92b2c5-de11-4c8c-d2a7-ecd332ddddaf"
      },
      "source": [
        "#xử lý bởi model Word2Vec skip-gram\n",
        "train_vectors_sg = pd.read_csv(\"/content/train_vectors_sg.csv\")\n",
        "\n",
        "print (train_vectors_sg.shape)\n",
        "train_vectors_sg.head()"
      ],
      "execution_count": null,
      "outputs": [
        {
          "output_type": "stream",
          "text": [
            "(375977, 301)\n"
          ],
          "name": "stdout"
        },
        {
          "output_type": "execute_result",
          "data": {
            "text/html": [
              "<div>\n",
              "<style scoped>\n",
              "    .dataframe tbody tr th:only-of-type {\n",
              "        vertical-align: middle;\n",
              "    }\n",
              "\n",
              "    .dataframe tbody tr th {\n",
              "        vertical-align: top;\n",
              "    }\n",
              "\n",
              "    .dataframe thead th {\n",
              "        text-align: right;\n",
              "    }\n",
              "</style>\n",
              "<table border=\"1\" class=\"dataframe\">\n",
              "  <thead>\n",
              "    <tr style=\"text-align: right;\">\n",
              "      <th></th>\n",
              "      <th>0</th>\n",
              "      <th>1</th>\n",
              "      <th>2</th>\n",
              "      <th>3</th>\n",
              "      <th>4</th>\n",
              "      <th>5</th>\n",
              "      <th>6</th>\n",
              "      <th>7</th>\n",
              "      <th>8</th>\n",
              "      <th>9</th>\n",
              "      <th>10</th>\n",
              "      <th>11</th>\n",
              "      <th>12</th>\n",
              "      <th>13</th>\n",
              "      <th>14</th>\n",
              "      <th>15</th>\n",
              "      <th>16</th>\n",
              "      <th>17</th>\n",
              "      <th>18</th>\n",
              "      <th>19</th>\n",
              "      <th>20</th>\n",
              "      <th>21</th>\n",
              "      <th>22</th>\n",
              "      <th>23</th>\n",
              "      <th>24</th>\n",
              "      <th>25</th>\n",
              "      <th>26</th>\n",
              "      <th>27</th>\n",
              "      <th>28</th>\n",
              "      <th>29</th>\n",
              "      <th>30</th>\n",
              "      <th>31</th>\n",
              "      <th>32</th>\n",
              "      <th>33</th>\n",
              "      <th>34</th>\n",
              "      <th>35</th>\n",
              "      <th>36</th>\n",
              "      <th>37</th>\n",
              "      <th>38</th>\n",
              "      <th>39</th>\n",
              "      <th>...</th>\n",
              "      <th>261</th>\n",
              "      <th>262</th>\n",
              "      <th>263</th>\n",
              "      <th>264</th>\n",
              "      <th>265</th>\n",
              "      <th>266</th>\n",
              "      <th>267</th>\n",
              "      <th>268</th>\n",
              "      <th>269</th>\n",
              "      <th>270</th>\n",
              "      <th>271</th>\n",
              "      <th>272</th>\n",
              "      <th>273</th>\n",
              "      <th>274</th>\n",
              "      <th>275</th>\n",
              "      <th>276</th>\n",
              "      <th>277</th>\n",
              "      <th>278</th>\n",
              "      <th>279</th>\n",
              "      <th>280</th>\n",
              "      <th>281</th>\n",
              "      <th>282</th>\n",
              "      <th>283</th>\n",
              "      <th>284</th>\n",
              "      <th>285</th>\n",
              "      <th>286</th>\n",
              "      <th>287</th>\n",
              "      <th>288</th>\n",
              "      <th>289</th>\n",
              "      <th>290</th>\n",
              "      <th>291</th>\n",
              "      <th>292</th>\n",
              "      <th>293</th>\n",
              "      <th>294</th>\n",
              "      <th>295</th>\n",
              "      <th>296</th>\n",
              "      <th>297</th>\n",
              "      <th>298</th>\n",
              "      <th>299</th>\n",
              "      <th>is_sarcastic</th>\n",
              "    </tr>\n",
              "  </thead>\n",
              "  <tbody>\n",
              "    <tr>\n",
              "      <th>0</th>\n",
              "      <td>-0.518816</td>\n",
              "      <td>0.296910</td>\n",
              "      <td>-0.337493</td>\n",
              "      <td>0.215343</td>\n",
              "      <td>-0.189444</td>\n",
              "      <td>-0.183413</td>\n",
              "      <td>0.068378</td>\n",
              "      <td>0.084411</td>\n",
              "      <td>0.263366</td>\n",
              "      <td>0.477756</td>\n",
              "      <td>-0.217265</td>\n",
              "      <td>-0.261960</td>\n",
              "      <td>0.158024</td>\n",
              "      <td>0.067116</td>\n",
              "      <td>0.297130</td>\n",
              "      <td>-0.035234</td>\n",
              "      <td>-0.484552</td>\n",
              "      <td>0.081206</td>\n",
              "      <td>-0.051089</td>\n",
              "      <td>0.260732</td>\n",
              "      <td>-0.358355</td>\n",
              "      <td>-0.121655</td>\n",
              "      <td>0.161040</td>\n",
              "      <td>-0.217798</td>\n",
              "      <td>-0.302960</td>\n",
              "      <td>0.003004</td>\n",
              "      <td>-0.038444</td>\n",
              "      <td>-0.124521</td>\n",
              "      <td>-0.558252</td>\n",
              "      <td>0.488653</td>\n",
              "      <td>-0.348078</td>\n",
              "      <td>0.072205</td>\n",
              "      <td>-0.037748</td>\n",
              "      <td>0.361384</td>\n",
              "      <td>0.144424</td>\n",
              "      <td>0.061370</td>\n",
              "      <td>-0.055429</td>\n",
              "      <td>-0.104901</td>\n",
              "      <td>-0.026055</td>\n",
              "      <td>-0.353621</td>\n",
              "      <td>...</td>\n",
              "      <td>-0.335324</td>\n",
              "      <td>0.022858</td>\n",
              "      <td>0.085148</td>\n",
              "      <td>-0.029313</td>\n",
              "      <td>-0.018876</td>\n",
              "      <td>-0.125595</td>\n",
              "      <td>0.067295</td>\n",
              "      <td>-0.206926</td>\n",
              "      <td>-0.045714</td>\n",
              "      <td>-0.142171</td>\n",
              "      <td>0.143412</td>\n",
              "      <td>0.304967</td>\n",
              "      <td>0.035395</td>\n",
              "      <td>-0.065534</td>\n",
              "      <td>0.103595</td>\n",
              "      <td>0.147395</td>\n",
              "      <td>0.276284</td>\n",
              "      <td>0.058824</td>\n",
              "      <td>0.035470</td>\n",
              "      <td>-0.097851</td>\n",
              "      <td>0.132376</td>\n",
              "      <td>-0.062272</td>\n",
              "      <td>-0.215749</td>\n",
              "      <td>0.092397</td>\n",
              "      <td>0.157527</td>\n",
              "      <td>-0.093637</td>\n",
              "      <td>0.113551</td>\n",
              "      <td>-0.017560</td>\n",
              "      <td>-0.135328</td>\n",
              "      <td>0.426124</td>\n",
              "      <td>-0.013229</td>\n",
              "      <td>-0.233247</td>\n",
              "      <td>0.227038</td>\n",
              "      <td>-0.178131</td>\n",
              "      <td>-0.001486</td>\n",
              "      <td>0.059871</td>\n",
              "      <td>0.266176</td>\n",
              "      <td>0.334979</td>\n",
              "      <td>0.085550</td>\n",
              "      <td>0</td>\n",
              "    </tr>\n",
              "    <tr>\n",
              "      <th>1</th>\n",
              "      <td>-0.063235</td>\n",
              "      <td>0.256896</td>\n",
              "      <td>-0.140151</td>\n",
              "      <td>-0.072815</td>\n",
              "      <td>-0.284079</td>\n",
              "      <td>-0.101310</td>\n",
              "      <td>0.443268</td>\n",
              "      <td>0.258144</td>\n",
              "      <td>-0.068438</td>\n",
              "      <td>-0.048265</td>\n",
              "      <td>-0.128233</td>\n",
              "      <td>0.234744</td>\n",
              "      <td>-0.001167</td>\n",
              "      <td>0.146258</td>\n",
              "      <td>0.186952</td>\n",
              "      <td>0.187579</td>\n",
              "      <td>0.129798</td>\n",
              "      <td>0.203317</td>\n",
              "      <td>0.221918</td>\n",
              "      <td>0.296197</td>\n",
              "      <td>-0.058361</td>\n",
              "      <td>-0.277396</td>\n",
              "      <td>0.486237</td>\n",
              "      <td>0.083740</td>\n",
              "      <td>-0.111387</td>\n",
              "      <td>0.059513</td>\n",
              "      <td>0.057950</td>\n",
              "      <td>0.001598</td>\n",
              "      <td>-0.334262</td>\n",
              "      <td>0.036347</td>\n",
              "      <td>-0.027187</td>\n",
              "      <td>0.119761</td>\n",
              "      <td>-0.082139</td>\n",
              "      <td>-0.105331</td>\n",
              "      <td>0.303198</td>\n",
              "      <td>0.091529</td>\n",
              "      <td>0.080389</td>\n",
              "      <td>-0.222999</td>\n",
              "      <td>0.134159</td>\n",
              "      <td>-0.159204</td>\n",
              "      <td>...</td>\n",
              "      <td>-0.037897</td>\n",
              "      <td>0.177115</td>\n",
              "      <td>-0.106470</td>\n",
              "      <td>0.037914</td>\n",
              "      <td>0.076026</td>\n",
              "      <td>-0.048547</td>\n",
              "      <td>0.041424</td>\n",
              "      <td>-0.078272</td>\n",
              "      <td>-0.264480</td>\n",
              "      <td>0.095303</td>\n",
              "      <td>0.082000</td>\n",
              "      <td>-0.092318</td>\n",
              "      <td>-0.100708</td>\n",
              "      <td>0.012485</td>\n",
              "      <td>-0.046059</td>\n",
              "      <td>0.388430</td>\n",
              "      <td>0.054606</td>\n",
              "      <td>0.035248</td>\n",
              "      <td>-0.093436</td>\n",
              "      <td>-0.168163</td>\n",
              "      <td>0.038302</td>\n",
              "      <td>0.090022</td>\n",
              "      <td>0.094632</td>\n",
              "      <td>-0.165415</td>\n",
              "      <td>-0.136180</td>\n",
              "      <td>0.409412</td>\n",
              "      <td>0.184204</td>\n",
              "      <td>0.239344</td>\n",
              "      <td>0.060184</td>\n",
              "      <td>-0.137211</td>\n",
              "      <td>0.096055</td>\n",
              "      <td>0.047371</td>\n",
              "      <td>-0.039225</td>\n",
              "      <td>-0.006939</td>\n",
              "      <td>-0.138123</td>\n",
              "      <td>-0.109716</td>\n",
              "      <td>0.076390</td>\n",
              "      <td>0.338048</td>\n",
              "      <td>0.091842</td>\n",
              "      <td>1</td>\n",
              "    </tr>\n",
              "    <tr>\n",
              "      <th>2</th>\n",
              "      <td>-0.057057</td>\n",
              "      <td>-0.335855</td>\n",
              "      <td>-0.027191</td>\n",
              "      <td>0.528094</td>\n",
              "      <td>-0.555472</td>\n",
              "      <td>-0.143953</td>\n",
              "      <td>0.078065</td>\n",
              "      <td>0.046699</td>\n",
              "      <td>-0.060982</td>\n",
              "      <td>-0.048627</td>\n",
              "      <td>0.107946</td>\n",
              "      <td>0.076006</td>\n",
              "      <td>0.030438</td>\n",
              "      <td>-0.359398</td>\n",
              "      <td>-0.231791</td>\n",
              "      <td>0.408929</td>\n",
              "      <td>0.066941</td>\n",
              "      <td>0.393173</td>\n",
              "      <td>-0.434638</td>\n",
              "      <td>-0.104606</td>\n",
              "      <td>0.056017</td>\n",
              "      <td>-0.143294</td>\n",
              "      <td>0.311880</td>\n",
              "      <td>0.184190</td>\n",
              "      <td>-0.434742</td>\n",
              "      <td>-0.229263</td>\n",
              "      <td>0.093035</td>\n",
              "      <td>-0.042586</td>\n",
              "      <td>0.187964</td>\n",
              "      <td>0.575026</td>\n",
              "      <td>-0.068265</td>\n",
              "      <td>0.084856</td>\n",
              "      <td>0.185955</td>\n",
              "      <td>0.299080</td>\n",
              "      <td>-0.284678</td>\n",
              "      <td>0.148818</td>\n",
              "      <td>0.516228</td>\n",
              "      <td>0.074676</td>\n",
              "      <td>0.005909</td>\n",
              "      <td>0.083673</td>\n",
              "      <td>...</td>\n",
              "      <td>0.014247</td>\n",
              "      <td>-0.107251</td>\n",
              "      <td>0.026772</td>\n",
              "      <td>-0.110058</td>\n",
              "      <td>-0.315305</td>\n",
              "      <td>0.034213</td>\n",
              "      <td>-0.024955</td>\n",
              "      <td>-0.428599</td>\n",
              "      <td>-0.123676</td>\n",
              "      <td>-0.146067</td>\n",
              "      <td>-0.060413</td>\n",
              "      <td>-0.409100</td>\n",
              "      <td>-0.173823</td>\n",
              "      <td>0.045177</td>\n",
              "      <td>0.642673</td>\n",
              "      <td>0.613394</td>\n",
              "      <td>-0.100198</td>\n",
              "      <td>0.007523</td>\n",
              "      <td>0.346730</td>\n",
              "      <td>-0.114213</td>\n",
              "      <td>0.334538</td>\n",
              "      <td>-0.081506</td>\n",
              "      <td>-0.340418</td>\n",
              "      <td>0.220123</td>\n",
              "      <td>0.433689</td>\n",
              "      <td>0.142707</td>\n",
              "      <td>0.231170</td>\n",
              "      <td>-0.322989</td>\n",
              "      <td>-0.228132</td>\n",
              "      <td>-0.175683</td>\n",
              "      <td>0.257809</td>\n",
              "      <td>-0.141085</td>\n",
              "      <td>-0.052594</td>\n",
              "      <td>0.160925</td>\n",
              "      <td>0.003957</td>\n",
              "      <td>0.101145</td>\n",
              "      <td>0.160365</td>\n",
              "      <td>0.259874</td>\n",
              "      <td>0.160518</td>\n",
              "      <td>0</td>\n",
              "    </tr>\n",
              "    <tr>\n",
              "      <th>3</th>\n",
              "      <td>-0.058442</td>\n",
              "      <td>0.190886</td>\n",
              "      <td>-0.317128</td>\n",
              "      <td>0.344995</td>\n",
              "      <td>0.039545</td>\n",
              "      <td>-0.039438</td>\n",
              "      <td>0.590257</td>\n",
              "      <td>0.193363</td>\n",
              "      <td>-0.116360</td>\n",
              "      <td>0.701816</td>\n",
              "      <td>-0.433960</td>\n",
              "      <td>-0.152942</td>\n",
              "      <td>-0.611122</td>\n",
              "      <td>-0.017407</td>\n",
              "      <td>0.015506</td>\n",
              "      <td>0.202223</td>\n",
              "      <td>0.055701</td>\n",
              "      <td>0.115552</td>\n",
              "      <td>-0.131477</td>\n",
              "      <td>0.048160</td>\n",
              "      <td>-0.138484</td>\n",
              "      <td>0.067177</td>\n",
              "      <td>0.506001</td>\n",
              "      <td>0.216013</td>\n",
              "      <td>-0.449543</td>\n",
              "      <td>0.201590</td>\n",
              "      <td>-0.031811</td>\n",
              "      <td>-0.016248</td>\n",
              "      <td>0.197076</td>\n",
              "      <td>0.307029</td>\n",
              "      <td>-0.066298</td>\n",
              "      <td>-0.106734</td>\n",
              "      <td>-0.350221</td>\n",
              "      <td>0.559930</td>\n",
              "      <td>0.539200</td>\n",
              "      <td>0.117284</td>\n",
              "      <td>0.008109</td>\n",
              "      <td>-0.458355</td>\n",
              "      <td>-0.217730</td>\n",
              "      <td>-0.604912</td>\n",
              "      <td>...</td>\n",
              "      <td>-0.009767</td>\n",
              "      <td>0.545574</td>\n",
              "      <td>-0.246560</td>\n",
              "      <td>-0.149918</td>\n",
              "      <td>0.327241</td>\n",
              "      <td>-0.228579</td>\n",
              "      <td>0.350878</td>\n",
              "      <td>-0.028387</td>\n",
              "      <td>-0.207385</td>\n",
              "      <td>-0.177757</td>\n",
              "      <td>0.068347</td>\n",
              "      <td>0.150184</td>\n",
              "      <td>0.032569</td>\n",
              "      <td>0.115410</td>\n",
              "      <td>0.503961</td>\n",
              "      <td>0.134977</td>\n",
              "      <td>0.043730</td>\n",
              "      <td>-0.415665</td>\n",
              "      <td>0.323797</td>\n",
              "      <td>0.177802</td>\n",
              "      <td>-0.433542</td>\n",
              "      <td>-0.056991</td>\n",
              "      <td>-0.131498</td>\n",
              "      <td>0.476352</td>\n",
              "      <td>-0.234705</td>\n",
              "      <td>0.530037</td>\n",
              "      <td>0.292551</td>\n",
              "      <td>-0.007511</td>\n",
              "      <td>0.126303</td>\n",
              "      <td>0.793671</td>\n",
              "      <td>-0.102514</td>\n",
              "      <td>-0.578881</td>\n",
              "      <td>0.149904</td>\n",
              "      <td>-0.195118</td>\n",
              "      <td>-0.081794</td>\n",
              "      <td>0.315515</td>\n",
              "      <td>0.256775</td>\n",
              "      <td>-0.648429</td>\n",
              "      <td>0.064794</td>\n",
              "      <td>1</td>\n",
              "    </tr>\n",
              "    <tr>\n",
              "      <th>4</th>\n",
              "      <td>-0.059866</td>\n",
              "      <td>-0.241970</td>\n",
              "      <td>0.031918</td>\n",
              "      <td>0.364825</td>\n",
              "      <td>-0.111859</td>\n",
              "      <td>-0.063702</td>\n",
              "      <td>-0.049639</td>\n",
              "      <td>0.145677</td>\n",
              "      <td>0.101281</td>\n",
              "      <td>0.003260</td>\n",
              "      <td>0.011423</td>\n",
              "      <td>-0.018009</td>\n",
              "      <td>0.392530</td>\n",
              "      <td>0.039555</td>\n",
              "      <td>0.170430</td>\n",
              "      <td>0.080268</td>\n",
              "      <td>0.235145</td>\n",
              "      <td>0.133791</td>\n",
              "      <td>-0.407745</td>\n",
              "      <td>0.130994</td>\n",
              "      <td>-0.184457</td>\n",
              "      <td>-0.295931</td>\n",
              "      <td>0.096918</td>\n",
              "      <td>0.127727</td>\n",
              "      <td>0.060448</td>\n",
              "      <td>-0.205717</td>\n",
              "      <td>0.195222</td>\n",
              "      <td>-0.138867</td>\n",
              "      <td>0.095992</td>\n",
              "      <td>0.477834</td>\n",
              "      <td>-0.221867</td>\n",
              "      <td>-0.151934</td>\n",
              "      <td>0.100188</td>\n",
              "      <td>0.261662</td>\n",
              "      <td>0.036504</td>\n",
              "      <td>0.203546</td>\n",
              "      <td>-0.021457</td>\n",
              "      <td>0.164396</td>\n",
              "      <td>-0.253866</td>\n",
              "      <td>-0.093778</td>\n",
              "      <td>...</td>\n",
              "      <td>-0.030074</td>\n",
              "      <td>0.222389</td>\n",
              "      <td>0.047038</td>\n",
              "      <td>0.181899</td>\n",
              "      <td>0.006457</td>\n",
              "      <td>0.126336</td>\n",
              "      <td>0.205389</td>\n",
              "      <td>-0.005220</td>\n",
              "      <td>-0.408021</td>\n",
              "      <td>-0.007573</td>\n",
              "      <td>0.158433</td>\n",
              "      <td>-0.270457</td>\n",
              "      <td>-0.010258</td>\n",
              "      <td>0.271528</td>\n",
              "      <td>-0.229287</td>\n",
              "      <td>-0.066272</td>\n",
              "      <td>0.259431</td>\n",
              "      <td>-0.093026</td>\n",
              "      <td>-0.136019</td>\n",
              "      <td>0.231116</td>\n",
              "      <td>0.095450</td>\n",
              "      <td>0.178035</td>\n",
              "      <td>0.010714</td>\n",
              "      <td>-0.202972</td>\n",
              "      <td>0.307552</td>\n",
              "      <td>-0.053201</td>\n",
              "      <td>0.279564</td>\n",
              "      <td>-0.116704</td>\n",
              "      <td>0.050600</td>\n",
              "      <td>0.052677</td>\n",
              "      <td>-0.152288</td>\n",
              "      <td>0.041934</td>\n",
              "      <td>-0.010373</td>\n",
              "      <td>0.193210</td>\n",
              "      <td>0.167976</td>\n",
              "      <td>0.270184</td>\n",
              "      <td>-0.024889</td>\n",
              "      <td>0.323494</td>\n",
              "      <td>-0.017807</td>\n",
              "      <td>0</td>\n",
              "    </tr>\n",
              "  </tbody>\n",
              "</table>\n",
              "<p>5 rows × 301 columns</p>\n",
              "</div>"
            ],
            "text/plain": [
              "          0         1         2  ...       298       299  is_sarcastic\n",
              "0 -0.518816  0.296910 -0.337493  ...  0.334979  0.085550             0\n",
              "1 -0.063235  0.256896 -0.140151  ...  0.338048  0.091842             1\n",
              "2 -0.057057 -0.335855 -0.027191  ...  0.259874  0.160518             0\n",
              "3 -0.058442  0.190886 -0.317128  ... -0.648429  0.064794             1\n",
              "4 -0.059866 -0.241970  0.031918  ...  0.323494 -0.017807             0\n",
              "\n",
              "[5 rows x 301 columns]"
            ]
          },
          "metadata": {
            "tags": []
          },
          "execution_count": 3
        }
      ]
    },
    {
      "cell_type": "markdown",
      "metadata": {
        "id": "qa5mApaOFkPn"
      },
      "source": [
        "**Chia dữ liệu train thành 2 phần là train và test**"
      ]
    },
    {
      "cell_type": "markdown",
      "metadata": {
        "id": "znhSEYxWVLi4"
      },
      "source": [
        "- *CBOW*"
      ]
    },
    {
      "cell_type": "code",
      "metadata": {
        "colab": {
          "base_uri": "https://localhost:8080/"
        },
        "id": "4uBY1wRlN4FC",
        "outputId": "f72e0761-26eb-4329-b185-1050c9be35e3"
      },
      "source": [
        "#split train data\n",
        "train_x_cb, test_x_cb, train_y_cb, test_y_cb = train_test_split(train_vectors_cb.drop('is_sarcastic', axis = 1),\n",
        "                                                   train_vectors_cb['is_sarcastic'],\n",
        "                                                   test_size = 0.2,\n",
        "                                                   random_state = 1)\n",
        "\n",
        "train_x_cb.shape, train_y_cb.shape, test_x_cb.shape, test_y_cb.shape"
      ],
      "execution_count": null,
      "outputs": [
        {
          "output_type": "execute_result",
          "data": {
            "text/plain": [
              "((244919, 300), (244919,), (61230, 300), (61230,))"
            ]
          },
          "metadata": {
            "tags": []
          },
          "execution_count": 4
        }
      ]
    },
    {
      "cell_type": "markdown",
      "metadata": {
        "id": "Dj2RB3NFVOz-"
      },
      "source": [
        "- *skip-gram*"
      ]
    },
    {
      "cell_type": "code",
      "metadata": {
        "colab": {
          "base_uri": "https://localhost:8080/"
        },
        "id": "RvTFNaLqVJoR",
        "outputId": "134da75c-ab19-4d49-c466-3a2201b5cac6"
      },
      "source": [
        "#split train data\n",
        "train_x_sg, test_x_sg, train_y_sg, test_y_sg = train_test_split(train_vectors_sg.drop('is_sarcastic', axis = 1),\n",
        "                                                   train_vectors_sg['is_sarcastic'],\n",
        "                                                   test_size = 0.2,\n",
        "                                                   random_state = 1)\n",
        "\n",
        "train_x_sg.shape, train_y_sg.shape, test_x_sg.shape, test_y_sg.shape"
      ],
      "execution_count": null,
      "outputs": [
        {
          "output_type": "execute_result",
          "data": {
            "text/plain": [
              "((300781, 300), (300781,), (75196, 300), (75196,))"
            ]
          },
          "metadata": {
            "tags": []
          },
          "execution_count": 5
        }
      ]
    },
    {
      "cell_type": "markdown",
      "metadata": {
        "id": "Js0DhFYyVCKj"
      },
      "source": [
        "*Biểu diễn dữ liệu train và test*"
      ]
    },
    {
      "cell_type": "markdown",
      "metadata": {
        "id": "lc2qRv7W71YY"
      },
      "source": [
        "##**2. Training model classification**"
      ]
    },
    {
      "cell_type": "markdown",
      "metadata": {
        "id": "-KYIPd90wt2j"
      },
      "source": [
        "**Load các model phân loại**"
      ]
    },
    {
      "cell_type": "code",
      "metadata": {
        "id": "dTArqOLOuj4Y"
      },
      "source": [
        "# sử dụng word2vec skip-gram\n",
        "\n",
        "#AdaBoost Classifier\n",
        "model_abc_sg = pickle.load(open(\"/content/AdaBoostClassifier_model_sg.sav\", 'rb'))\n",
        "\n",
        "#Random Forest Classifier\n",
        "model_rfc_sg = pickle.load(open(\"/content/RandomForestClassifier_model_sg.sav\", 'rb'))\n",
        "\n",
        "#Logistic Regression\n",
        "model_lgr_sg = pickle.load(open(\"/content/LogisticRegressionClassifier_model_sg.sav\", 'rb'))"
      ],
      "execution_count": null,
      "outputs": []
    },
    {
      "cell_type": "code",
      "metadata": {
        "id": "x4u8PQ0LIcrh"
      },
      "source": [
        "# sử dụng word2vec CBOW\n",
        "\n",
        "#AdaBoost Classifier\n",
        "model_abc_cb = pickle.load(open(\"/content/AdaBoostClassifier_model_cb.sav\", 'rb'))\n",
        "\n",
        "#Random Forest Classifier\n",
        "model_rfc_cb = pickle.load(open(\"/content/RandomForestClassifier_model_cb.sav\", 'rb'))\n",
        "\n",
        "#Logistic Regression\n",
        "model_lgr_cb = pickle.load(open(\"/content/LogisticRegressionClassifier_model_cb.sav\", 'rb'))"
      ],
      "execution_count": null,
      "outputs": []
    },
    {
      "cell_type": "markdown",
      "metadata": {
        "id": "roIZBsxXZzMm"
      },
      "source": [
        "**Giải thích Các thông số đánh giá model được sử dụng trong bài**\n",
        "\n",
        "1. *Accuracy*\n",
        "\n",
        "- Cách đơn giản và hay thường dùng để đánh giá. Cách đánh giá này *tính tỉ lệ giữa số điểm dự đoán đúng và tổng số điểm trong tập dữ liệu*. Áp dụng vào bài toán phân loại 2 nhãn này *(binary classification)*, có thể cụ thể hóa bằng công thức sau:\n",
        "\n",
        "$$\n",
        "\\text{Accuracy} = \\frac{TP + TN}{TP + TN + FP + FN}\n",
        "$$\n",
        "\n",
        "- Trong đó *(1: Positive, 0: Nagative)*:\n",
        "  - **TP:** True positive *(thực tế 1, dự đoán 1)*\n",
        "  - **TN:** True Nagative *(thực tế 0, dự đoán 0)*\n",
        "  - **FP:** False Positive *(thực tế 1, dự đoán 0)*\n",
        "  - **FN:** False Nagative *(thực tế 0, dự đoán 1)*\n",
        "\n",
        "2. *precision*\n",
        "\n",
        "- Tỷ lệ nhãn dự đoán đúng trên tổng các nhãn được phân loại thuộc nhãn đó.\n",
        "\n",
        "3. *recall*\n",
        "\n",
        "- Tỷ lệ nhãn dự đoán đúng trên tất cả các nhãn cùng loại.\n",
        "\n",
        "4. *f1-score*\n",
        "\n",
        "- Có giá trị trong khoảng $[0;1]$, được tính bằng:\n",
        "$$\n",
        "\\text{F1-score} = \\frac{precision.recall}{precision+recall}\n",
        "$$\n",
        "\n",
        "5. *Macro average*\n",
        "\n",
        "- Trung bình của tất các các nhãn theo các cách đánh giá **precision, recall** hoặc **f1-score**.\n",
        "\n",
        "6. *Weighted average*\n",
        "\n",
        "- Trung bình số lượng của tất cả các nhãn với mỗi nhãn nhân với số lượng của nó *(trung bình có trọng số)* \n"
      ]
    },
    {
      "cell_type": "markdown",
      "metadata": {
        "id": "A5vblGtwyC1C"
      },
      "source": [
        "###**1. AdaBoost Classifier**"
      ]
    },
    {
      "cell_type": "code",
      "metadata": {
        "id": "fIAB_XRoRGrh"
      },
      "source": [
        "from sklearn.ensemble import AdaBoostClassifier\n",
        "\n",
        "# initialize the model\n",
        "model_abc = AdaBoostClassifier(n_estimators=800, random_state = 1)\n",
        "\n",
        "#train the model\n",
        "model_abc.fit(train_x, train_y)"
      ],
      "execution_count": null,
      "outputs": []
    },
    {
      "cell_type": "markdown",
      "metadata": {
        "id": "qzEhSgCUxnax"
      },
      "source": [
        "**1.1.** *Dự đoán với model được tạo train từ Word2Vec CBOW*"
      ]
    },
    {
      "cell_type": "code",
      "metadata": {
        "colab": {
          "base_uri": "https://localhost:8080/"
        },
        "id": "5_Ykfkczy47P",
        "outputId": "f06b9908-9ad3-4939-8152-63ec42b3a1da"
      },
      "source": [
        "# use the model to predict the testing instances\n",
        "y_pred_abc_cb = model_abc_cb.predict(test_x_cb)\n",
        "\n",
        "# generate the classification report\n",
        "print(classification_report(test_y_cb, y_pred_abc_cb))"
      ],
      "execution_count": null,
      "outputs": [
        {
          "output_type": "stream",
          "text": [
            "              precision    recall  f1-score   support\n",
            "\n",
            "           0       0.89      0.92      0.90     36686\n",
            "           1       0.88      0.82      0.85     24544\n",
            "\n",
            "    accuracy                           0.88     61230\n",
            "   macro avg       0.88      0.87      0.88     61230\n",
            "weighted avg       0.88      0.88      0.88     61230\n",
            "\n"
          ],
          "name": "stdout"
        }
      ]
    },
    {
      "cell_type": "code",
      "metadata": {
        "colab": {
          "base_uri": "https://localhost:8080/",
          "height": 282
        },
        "id": "cifz7p-ziAap",
        "outputId": "73937f38-633c-468b-aa0b-d9824c497f23"
      },
      "source": [
        "cm_abc = confusion_matrix(test_y, y_pred_abc_cb)\n",
        "\n",
        "df_abc = pd.DataFrame(cm_abc)\n",
        "\n",
        "sns.heatmap(cm_abc, cmap='Blues',annot = True, fmt='')"
      ],
      "execution_count": null,
      "outputs": [
        {
          "output_type": "execute_result",
          "data": {
            "text/plain": [
              "<matplotlib.axes._subplots.AxesSubplot at 0x7fdd6f193ed0>"
            ]
          },
          "metadata": {
            "tags": []
          },
          "execution_count": 139
        },
        {
          "output_type": "display_data",
          "data": {
            "image/png": "[encoded data removed]",
            "text/plain": [
              "<Figure size 432x288 with 2 Axes>"
            ]
          },
          "metadata": {
            "tags": []
          }
        }
      ]
    },
    {
      "cell_type": "markdown",
      "metadata": {
        "id": "w1vEGk5F5byC"
      },
      "source": [
        "**Giải thích cách tính** \n",
        "\n",
        "  Dữ liệu gồm 61,230 cả 2 nhãn *(1: Positive, 0: Nagative)*, trong đó có 36,686 nhãn 0 và 24,544 nhãn 1. Kết quả mô hình dự đoán:\n",
        "  - Nhãn 1 gồm: *20,162 nhãn 1 (TP); 2,792 nhãn 0 (FN)*\n",
        "  - Nhãn 0 gồm: *4,382 nhãn 1 (FP); 33,894 nhãn 0 (TN)*\n",
        "\n",
        "- **Precision**\n",
        "\n",
        "  - precision *(label 1)* = 20,162 / (20,162 + 2,792) = 0.87836 ~ 0.88\n",
        "\n",
        "  - precision *(label 0)* = 33,894 / (33,894 + 4,382) = 0.88551 ~ 0.89\n",
        "\n",
        "- **Recall**\n",
        "\n",
        "  - recall *(label 1)* = 20,162 / (20,162 + 4,382) = 0.82146 ~ 0.82\n",
        "\n",
        "  - recall *(label 0)* = 33,894 / (33,894 + 2,792) = 0.92389 ~ 0.92\n",
        "\n",
        "- **F1-Score**\n",
        "\n",
        "  - F1-Score *(label 1)* = 2 * 0.88 * 0.82 / (0.88 + 0.82) = 0.8489 ~ 0.85\n",
        "\n",
        "  - F1-Score *(label 0)* = 2 * 0.88 * 0.92 / (0.88 + 0.92) = 0.89955 ~ 0.90\n",
        "\n",
        "- **Macro Average**\n",
        "\n",
        "  - Macro Average *(precision)* = 1/2 * (0.88 + 0.89) = 0.88\n",
        "\n",
        "  - Macro Average *(recall)* = 1/2 * (0.82 + 0.92) = 0.87\n",
        "\n",
        "  - Macro Average *(f1-score)* = 1/2 * (0.85 + 0.90) = 0.88\n",
        "\n",
        "- **Weighted Average**\n",
        "\n",
        "  - Weighted Average *(precision)* = (0.88 * 24,544 + 0.89 * 36,686) / 61,230 = 0.88599 \n",
        "\n",
        "  - Weighted Average *(recall)* = (0.82 * 24,544 + 0.92 * 36,686) / 61,230 = 0.8799\n",
        "\n",
        "  - Weighted Average *(f1-score)* = (0.85 * 24,544 + 0.90 * 36,686) / 61,230 = 0.8799\n"
      ]
    },
    {
      "cell_type": "markdown",
      "metadata": {
        "id": "4mWQuJ8kxwA7"
      },
      "source": [
        "**1.2.** *Dự đoán với model được tạo train từ Word2Vec skip-gram*"
      ]
    },
    {
      "cell_type": "code",
      "metadata": {
        "colab": {
          "base_uri": "https://localhost:8080/"
        },
        "id": "iTx1APscxlfB",
        "outputId": "feb2301e-3976-4487-accf-c459b626ae77"
      },
      "source": [
        "# use the model to predict the testing instances\n",
        "y_pred_abc_sg = model_abc_sg.predict(test_x_sg)\n",
        "\n",
        "# generate the classification report\n",
        "print(classification_report(test_y_sg, y_pred_abc_sg))"
      ],
      "execution_count": null,
      "outputs": [
        {
          "output_type": "stream",
          "text": [
            "              precision    recall  f1-score   support\n",
            "\n",
            "           0       0.89      0.93      0.91     45232\n",
            "           1       0.88      0.82      0.85     29964\n",
            "\n",
            "    accuracy                           0.89     75196\n",
            "   macro avg       0.88      0.88      0.88     75196\n",
            "weighted avg       0.89      0.89      0.88     75196\n",
            "\n"
          ],
          "name": "stdout"
        }
      ]
    },
    {
      "cell_type": "code",
      "metadata": {
        "colab": {
          "base_uri": "https://localhost:8080/",
          "height": 282
        },
        "id": "FUODYHv2Jx2r",
        "outputId": "ecaa32c8-f5fa-41ad-fd4a-0dc0f341302a"
      },
      "source": [
        "cm_abc = confusion_matrix(test_y, y_pred_abc_sg)\n",
        "\n",
        "df_abc = pd.DataFrame(cm_abc)\n",
        "\n",
        "sns.heatmap(cm_abc, cmap='Blues',annot = True, fmt='')"
      ],
      "execution_count": null,
      "outputs": [
        {
          "output_type": "execute_result",
          "data": {
            "text/plain": [
              "<matplotlib.axes._subplots.AxesSubplot at 0x7fdd6f19cad0>"
            ]
          },
          "metadata": {
            "tags": []
          },
          "execution_count": 146
        },
        {
          "output_type": "display_data",
          "data": {
            "image/png": "[encoded data removed]",
            "text/plain": [
              "<Figure size 432x288 with 2 Axes>"
            ]
          },
          "metadata": {
            "tags": []
          }
        }
      ]
    },
    {
      "cell_type": "markdown",
      "metadata": {
        "id": "bCpEvreLcmVy"
      },
      "source": [
        "###**2. SVM Classifier**"
      ]
    },
    {
      "cell_type": "markdown",
      "metadata": {
        "id": "S3s0WSP6-ork"
      },
      "source": [
        "Vì dữ liệu rất mất cân bằng, nên sẽ gán trọng số cao hơn cho label đại diện thấp hơn. Cụ thể là **label 0** được gán trọng số cao hơn."
      ]
    },
    {
      "cell_type": "code",
      "metadata": {
        "colab": {
          "base_uri": "https://localhost:8080/"
        },
        "id": "P1pwgNntcqiN",
        "outputId": "6faae910-e483-4609-b7ac-31ab882f12c2"
      },
      "source": [
        "class_weight = compute_class_weight(\n",
        "    class_weight='balanced', classes=[0,1], y = train_y)\n",
        "\n",
        "class_weight"
      ],
      "execution_count": null,
      "outputs": [
        {
          "output_type": "execute_result",
          "data": {
            "text/plain": [
              "array([0.83127712, 1.2546552 ])"
            ]
          },
          "metadata": {
            "tags": []
          },
          "execution_count": 54
        }
      ]
    },
    {
      "cell_type": "markdown",
      "metadata": {
        "id": "ZwnHpRzIxolR"
      },
      "source": [
        "####**2.1. Random Forest Classifier**"
      ]
    },
    {
      "cell_type": "code",
      "metadata": {
        "id": "t51ZtM-ZJAIR"
      },
      "source": [
        "# initialize the model and assign weights to each class\n",
        "model_rfc = RandomForestClassifier(class_weight={0:class_weight[0], 1:class_weight[1]})\n",
        "\n",
        "#train the model\n",
        "model_rfc.fit(train_x, train_y)"
      ],
      "execution_count": null,
      "outputs": []
    },
    {
      "cell_type": "markdown",
      "metadata": {
        "id": "7FMddzb6yyid"
      },
      "source": [
        "**2.1.1**. *Dự đoán với model được tạo train từ Word2Vec CBOW*"
      ]
    },
    {
      "cell_type": "code",
      "metadata": {
        "colab": {
          "base_uri": "https://localhost:8080/"
        },
        "id": "lAhS2FrfxlNz",
        "outputId": "f20951bd-c0f4-489b-a08d-e0bc52146f1e"
      },
      "source": [
        "# use the model to predict the testing instances\n",
        "y_pred_rfc_cb = model_rfc_cb.predict(np.array(test_x_cb))\n",
        "\n",
        "# generate the classification report\n",
        "print(classification_report(test_y_cb, y_pred_rfc_cb))"
      ],
      "execution_count": null,
      "outputs": [
        {
          "output_type": "stream",
          "text": [
            "              precision    recall  f1-score   support\n",
            "\n",
            "           0       0.88      1.00      0.93     36686\n",
            "           1       1.00      0.79      0.88     24544\n",
            "\n",
            "    accuracy                           0.91     61230\n",
            "   macro avg       0.94      0.89      0.91     61230\n",
            "weighted avg       0.92      0.91      0.91     61230\n",
            "\n"
          ],
          "name": "stdout"
        }
      ]
    },
    {
      "cell_type": "code",
      "metadata": {
        "colab": {
          "base_uri": "https://localhost:8080/",
          "height": 282
        },
        "id": "dXxlrY96MCzN",
        "outputId": "ab31e34c-3104-4a53-e493-aee08ed490f5"
      },
      "source": [
        "cm_rfc = confusion_matrix(test_y, y_pred_rfc_cb)\n",
        "\n",
        "df_rfc = pd.DataFrame(cm_rfc)\n",
        "\n",
        "sns.heatmap(cm_rfc, cmap='Blues',annot = True, fmt='')"
      ],
      "execution_count": null,
      "outputs": [
        {
          "output_type": "execute_result",
          "data": {
            "text/plain": [
              "<matplotlib.axes._subplots.AxesSubplot at 0x7fdd6eeafe10>"
            ]
          },
          "metadata": {
            "tags": []
          },
          "execution_count": 141
        },
        {
          "output_type": "display_data",
          "data": {
            "image/png": "[encoded data removed]",
            "text/plain": [
              "<Figure size 432x288 with 2 Axes>"
            ]
          },
          "metadata": {
            "tags": []
          }
        }
      ]
    },
    {
      "cell_type": "markdown",
      "metadata": {
        "id": "7eIsdCBWzmbc"
      },
      "source": [
        "**2.1.2.** *Dự đoán với model được tạo train từ Word2Vec skip-gram*"
      ]
    },
    {
      "cell_type": "code",
      "metadata": {
        "colab": {
          "base_uri": "https://localhost:8080/"
        },
        "id": "qLL-JlDHzwj0",
        "outputId": "5fe5bb2f-db59-4089-a69c-ee9529a81860"
      },
      "source": [
        "# use the model to predict the testing instances\n",
        "y_pred_rfc_sg = model_rfc_sg.predict(np.array(test_x_sg))\n",
        "\n",
        "# generate the classification report\n",
        "print(classification_report(test_y_sg, y_pred_rfc_sg))"
      ],
      "execution_count": null,
      "outputs": [
        {
          "output_type": "stream",
          "text": [
            "              precision    recall  f1-score   support\n",
            "\n",
            "           0       0.90      0.99      0.94     45232\n",
            "           1       0.99      0.83      0.90     29964\n",
            "\n",
            "    accuracy                           0.93     75196\n",
            "   macro avg       0.94      0.91      0.92     75196\n",
            "weighted avg       0.93      0.93      0.93     75196\n",
            "\n"
          ],
          "name": "stdout"
        }
      ]
    },
    {
      "cell_type": "code",
      "metadata": {
        "colab": {
          "base_uri": "https://localhost:8080/",
          "height": 282
        },
        "id": "aXSE6DzSzyOo",
        "outputId": "5fbcaf04-d37d-41ad-d421-443a9e73c3b1"
      },
      "source": [
        "cm_rfc = confusion_matrix(test_y, y_pred_rfc_sg)\n",
        "\n",
        "df_rfc = pd.DataFrame(cm_rfc)\n",
        "\n",
        "sns.heatmap(cm_rfc, cmap='Blues',annot = True, fmt='')"
      ],
      "execution_count": null,
      "outputs": [
        {
          "output_type": "execute_result",
          "data": {
            "text/plain": [
              "<matplotlib.axes._subplots.AxesSubplot at 0x7fdd6f088c10>"
            ]
          },
          "metadata": {
            "tags": []
          },
          "execution_count": 152
        },
        {
          "output_type": "display_data",
          "data": {
            "image/png": "[encoded data removed]",
            "text/plain": [
              "<Figure size 432x288 with 2 Axes>"
            ]
          },
          "metadata": {
            "tags": []
          }
        }
      ]
    },
    {
      "cell_type": "markdown",
      "metadata": {
        "id": "rfD10D91x1Gj"
      },
      "source": [
        "####**2.2. Logistic Regression**"
      ]
    },
    {
      "cell_type": "code",
      "metadata": {
        "colab": {
          "base_uri": "https://localhost:8080/"
        },
        "id": "FgwIyr-XUAEH",
        "outputId": "e1825d9b-4e1d-4937-9a16-91c661c0e0ad"
      },
      "source": [
        "# initialize the model and assign weights to each class\n",
        "model_lgr = LogisticRegression(class_weight={0:class_weight[0], 1:class_weight[1]})\n",
        "\n",
        "#train the model\n",
        "model_lgr.fit(train_x, train_y)\n"
      ],
      "execution_count": null,
      "outputs": [
        {
          "output_type": "execute_result",
          "data": {
            "text/plain": [
              "LogisticRegression(C=1.0,\n",
              "                   class_weight={0: 0.831277119089075, 1: 1.2546551983047736},\n",
              "                   dual=False, fit_intercept=True, intercept_scaling=1,\n",
              "                   l1_ratio=None, max_iter=100, multi_class='auto', n_jobs=None,\n",
              "                   penalty='l2', random_state=None, solver='lbfgs', tol=0.0001,\n",
              "                   verbose=0, warm_start=False)"
            ]
          },
          "metadata": {
            "tags": []
          },
          "execution_count": 24
        }
      ]
    },
    {
      "cell_type": "markdown",
      "metadata": {
        "id": "7IRjQC2DzUVo"
      },
      "source": [
        "**2.2.1.** *Dự đoán với model được tạo train từ Word2Vec CBOW*"
      ]
    },
    {
      "cell_type": "code",
      "metadata": {
        "colab": {
          "base_uri": "https://localhost:8080/"
        },
        "id": "XivqLUrdiCQh",
        "outputId": "a1d0a3bb-d686-4e94-ca4c-a7e94989f921"
      },
      "source": [
        "# use the model to predict the testing instances\n",
        "y_pred_lgr_cb = model_lgr_cb.predict(np.array(test_x_cb))\n",
        "\n",
        "# generate the classification report\n",
        "print(classification_report(test_y_cb, y_pred_lgr_cb))"
      ],
      "execution_count": null,
      "outputs": [
        {
          "output_type": "stream",
          "text": [
            "              precision    recall  f1-score   support\n",
            "\n",
            "           0       0.89      0.82      0.85     36686\n",
            "           1       0.76      0.84      0.80     24544\n",
            "\n",
            "    accuracy                           0.83     61230\n",
            "   macro avg       0.82      0.83      0.83     61230\n",
            "weighted avg       0.84      0.83      0.83     61230\n",
            "\n"
          ],
          "name": "stdout"
        }
      ]
    },
    {
      "cell_type": "code",
      "metadata": {
        "colab": {
          "base_uri": "https://localhost:8080/",
          "height": 285
        },
        "id": "6Jh1esRGLafQ",
        "outputId": "3dd2c92b-3a84-4a7c-c1ec-de1fc49d1dad"
      },
      "source": [
        "cm_lgr = confusion_matrix(test_y, y_pred_lgr_cb)\n",
        "\n",
        "df_lgr = pd.DataFrame(cm_lgr)\n",
        "\n",
        "sns.heatmap(cm_lgr, cmap='Blues',annot = True, fmt='')"
      ],
      "execution_count": null,
      "outputs": [
        {
          "output_type": "execute_result",
          "data": {
            "text/plain": [
              "<matplotlib.axes._subplots.AxesSubplot at 0x7fdd6ec3d410>"
            ]
          },
          "metadata": {
            "tags": []
          },
          "execution_count": 156
        },
        {
          "output_type": "display_data",
          "data": {
            "image/png": "[encoded data removed]",
            "text/plain": [
              "<Figure size 432x288 with 2 Axes>"
            ]
          },
          "metadata": {
            "tags": []
          }
        }
      ]
    },
    {
      "cell_type": "markdown",
      "metadata": {
        "id": "_lKRec8tzc1X"
      },
      "source": [
        "**2.2.2.** *Dự đoán với model được tạo train từ Word2Vec skip-gram*"
      ]
    },
    {
      "cell_type": "code",
      "metadata": {
        "colab": {
          "base_uri": "https://localhost:8080/"
        },
        "id": "bhEiS-gIzgjQ",
        "outputId": "989bbff0-db1d-493e-cd05-f238bedd124a"
      },
      "source": [
        "# use the model to predict the testing instances\n",
        "y_pred_lgr_sg = model_lgr_sg.predict(np.array(test_x_sg))\n",
        "\n",
        "# generate the classification report\n",
        "print(classification_report(test_y_sg, y_pred_lgr_sg))"
      ],
      "execution_count": null,
      "outputs": [
        {
          "output_type": "stream",
          "text": [
            "              precision    recall  f1-score   support\n",
            "\n",
            "           0       0.88      0.82      0.85     45232\n",
            "           1       0.75      0.83      0.79     29964\n",
            "\n",
            "    accuracy                           0.82     75196\n",
            "   macro avg       0.82      0.83      0.82     75196\n",
            "weighted avg       0.83      0.82      0.83     75196\n",
            "\n"
          ],
          "name": "stdout"
        }
      ]
    },
    {
      "cell_type": "code",
      "metadata": {
        "colab": {
          "base_uri": "https://localhost:8080/",
          "height": 282
        },
        "id": "l2xJjB0DKF06",
        "outputId": "573f7d65-5161-4b9a-b3d6-20872a781f2c"
      },
      "source": [
        "cm_lgr = confusion_matrix(test_y, y_pred_lgr_sg)\n",
        "\n",
        "df_lgr = pd.DataFrame(cm_lgr)\n",
        "\n",
        "sns.heatmap(cm_lgr, cmap='Blues',annot = True, fmt='')"
      ],
      "execution_count": null,
      "outputs": [
        {
          "output_type": "execute_result",
          "data": {
            "text/plain": [
              "<matplotlib.axes._subplots.AxesSubplot at 0x7fdd6ef07d50>"
            ]
          },
          "metadata": {
            "tags": []
          },
          "execution_count": 151
        },
        {
          "output_type": "display_data",
          "data": {
            "image/png": "[encoded data removed]",
            "text/plain": [
              "<Figure size 432x288 with 2 Axes>"
            ]
          },
          "metadata": {
            "tags": []
          }
        }
      ]
    },
    {
      "cell_type": "markdown",
      "metadata": {
        "id": "qZfuORucE7kp"
      },
      "source": [
        "###**3. Save model**"
      ]
    },
    {
      "cell_type": "markdown",
      "metadata": {
        "id": "GYieywx9IUSg"
      },
      "source": [
        "- **Save model:**"
      ]
    },
    {
      "cell_type": "code",
      "metadata": {
        "id": "9kMpaskIErNx"
      },
      "source": [
        "#lưu model classification với Word2Vec skip-gram trên drive\n",
        "\n",
        "#AdaBoost Classifier\n",
        "filename_abc = \"/content/gdrive/MyDrive/Colab Notebooks/Machine Learning/31062021_sarcasm-detection/report/AdaBoostClassifier_model_sg.sav\")\n",
        "pickle.dump(model_abc, open(filename_abc, 'wb'))\n",
        "\n",
        "#Random Forest Classifier\n",
        "filename_rfc = \"/content/gdrive/MyDrive/Colab Notebooks/Machine Learning/31062021_sarcasm-detection/report/RandomForestClassifier_model_sg.sav\"\n",
        "pickle.dump(model_rfc, open(filename_rfc, 'wb'))\n",
        "\n",
        "#Logistic Regression\n",
        "filename_lgr = \"/content/gdrive/MyDrive/Colab Notebooks/Machine Learning/31062021_sarcasm-detection/report/LogisticRegressionClassifier_model_sg.sav\"\n",
        "pickle.dump(model_lgr, open(filename_lgr, 'wb'))"
      ],
      "execution_count": null,
      "outputs": []
    },
    {
      "cell_type": "code",
      "metadata": {
        "id": "axtSxIJUIL4C"
      },
      "source": [
        "#lưu model classification với Word2Vec CBOW trên drive\n",
        "\n",
        "#AdaBoost Classifier\n",
        "filename_abc = \"/content/gdrive/MyDrive/Colab Notebooks/Machine Learning/31062021_sarcasm-detection/report/AdaBoostClassifier_model_cb.sav\")\n",
        "pickle.dump(model_abc, open(filename_abc, 'wb'))\n",
        "\n",
        "#Random Forest Classifier\n",
        "filename_rfc = \"/content/gdrive/MyDrive/Colab Notebooks/Machine Learning/31062021_sarcasm-detection/report/RandomForestClassifier_model_cb.sav\"\n",
        "pickle.dump(model_rfc, open(filename_rfc, 'wb'))\n",
        "\n",
        "#Logistic Regression\n",
        "filename_lgr = \"/content/gdrive/MyDrive/Colab Notebooks/Machine Learning/31062021_sarcasm-detection/report/LogisticRegressionClassifier_model_cb.sav\"\n",
        "pickle.dump(model_lgr, open(filename_lgr, 'wb'))"
      ],
      "execution_count": null,
      "outputs": []
    },
    {
      "cell_type": "markdown",
      "metadata": {
        "id": "Y6FUCrSzx5qH"
      },
      "source": [
        "###**4. So sánh và nhận xét giữa các model**"
      ]
    },
    {
      "cell_type": "markdown",
      "metadata": {
        "id": "24sEBnfjE7Ss"
      },
      "source": [
        "Như so sánh về số lượng nhãn ở tập data_train mà nhóm đã thu thập ở trên,  có sự chênh lệch lớn giữa nhãn 0 *(tin chính thống)* chiếm phần lớn so với nhãn 1 *(tin châm biếm)*.\n",
        "\n",
        "Vì thế, tụi em sử dụng *presicion-recall curve* để đánh giá và so sánh hiệu quả giữa các model đã thực hiện với nhau. \n"
      ]
    },
    {
      "cell_type": "markdown",
      "metadata": {
        "id": "2RSYcWsXBO9M"
      },
      "source": [
        "**4.1.** *Model sử dụng Word2Vec skip-gram*"
      ]
    },
    {
      "cell_type": "code",
      "metadata": {
        "colab": {
          "base_uri": "https://localhost:8080/",
          "height": 548
        },
        "id": "amgtG6FVEpVI",
        "outputId": "0294f465-4c0e-4d1e-9a38-dcee25766b9c"
      },
      "source": [
        "# predict probabilities\n",
        "y_pred_abc_sg = model_abc_sg.predict_proba(test_x_sg)\n",
        "y_pred_rfc_sg = model_rfc_sg.predict_proba(test_x_sg)\n",
        "y_pred_lgr_sg = model_lgr_sg.predict_proba(test_x_sg)\n",
        "\n",
        "\n",
        "# keep probabilities for the positive outcome only\n",
        "y_pred_abc_sg = y_pred_abc_sg[:, 1]\n",
        "y_pred_rfc_sg = y_pred_rfc_sg[:, 1]\n",
        "y_pred_lgr_sg = y_pred_lgr_sg[:, 1]\n",
        "\n",
        "\n",
        "# predict class values\n",
        "yhat = model_abc_sg.predict(test_x_sg)\n",
        "abc_precision, abc_recall, _ = precision_recall_curve(test_y_sg, y_pred_abc_sg)\n",
        "abc_f1, abc_auc = f1_score(test_y_sg, yhat), auc(abc_recall, abc_precision)\n",
        "\n",
        "yhat = model_rfc_sg.predict(test_x_sg)\n",
        "rfc_precision, rfc_recall, _ = precision_recall_curve(test_y_sg, y_pred_rfc_sg)\n",
        "rfc_f1, rfc_auc = f1_score(test_y_sg, yhat), auc(rfc_recall, rfc_precision)\n",
        "\n",
        "yhat = model_lgr_sg.predict(test_x_sg)\n",
        "lgr_precision, lgr_recall, _ = precision_recall_curve(test_y_sg, y_pred_lgr_sg)\n",
        "lgr_f1, lgr_auc = f1_score(test_y_sg, yhat), auc(lgr_recall, lgr_precision)\n",
        "\n",
        "# summarize scores\n",
        "print('AdaBoost Classifier: f1=%.3f auc=%.3f' % (abc_f1, abc_auc))\n",
        "print('Random Forest Classifier: f1=%.3f auc=%.3f' % (rfc_f1, rfc_auc))\n",
        "print('Logistic Regression: f1=%.3f auc=%.3f' % (lgr_f1, lgr_auc))\n",
        "\n",
        "\n",
        "# plot the precision-recall curves\n",
        "pyplot.subplots(figsize =(12, 8))\n",
        "no_skill = len(test_y_sg[test_y_sg==1]) / len(test_y_sg)\n",
        "pyplot.plot([0, 1], [no_skill, no_skill], linestyle='--', label='No Skill')\n",
        "pyplot.plot(abc_recall, abc_precision, marker='.', label='AdaBoost Classifier')\n",
        "pyplot.plot(rfc_recall, rfc_precision, marker='.', label='Random Forest Classifier')\n",
        "pyplot.plot(lgr_recall, lgr_precision, marker='.', label='Logistic Regression')\n",
        "\n",
        "\n",
        "# axis labels\n",
        "pyplot.xlabel('Recall (sensitivity)')\n",
        "pyplot.ylabel('Precision (positive predictive value)')\n",
        "\n",
        "# show the legend\n",
        "pyplot.legend()\n",
        "# show the plot\n",
        "pyplot.show()"
      ],
      "execution_count": null,
      "outputs": [
        {
          "output_type": "stream",
          "text": [
            "AdaBoost Classifier: f1=0.852 auc=0.939\n",
            "Random Forest Classifier: f1=0.902 auc=0.968\n",
            "Logistic Regression: f1=0.791 auc=0.830\n"
          ],
          "name": "stdout"
        },
        {
          "output_type": "display_data",
          "data": {
            "image/png": "[encoded data removed]",
            "text/plain": [
              "<Figure size 864x576 with 1 Axes>"
            ]
          },
          "metadata": {
            "tags": [],
            "needs_background": "light"
          }
        }
      ]
    },
    {
      "cell_type": "markdown",
      "metadata": {
        "id": "DKc2QdUhBVaC"
      },
      "source": [
        "**4.2.** *Model sử dụng Word2Vec CBOW*"
      ]
    },
    {
      "cell_type": "code",
      "metadata": {
        "colab": {
          "base_uri": "https://localhost:8080/",
          "height": 548
        },
        "id": "jsHbkesLlYmA",
        "outputId": "a59a98ac-37b8-4659-ae1b-42bbd7900df7"
      },
      "source": [
        "# predict probabilities\n",
        "y_pred_abc_cb = model_abc_cb.predict_proba(test_x_cb)\n",
        "y_pred_rfc_cb = model_rfc_cb.predict_proba(test_x_cb)\n",
        "y_pred_lgr_cb = model_lgr_cb.predict_proba(test_x_cb)\n",
        "\n",
        "\n",
        "# keep probabilities for the positive outcome only\n",
        "y_pred_abc_cb = y_pred_abc_cb[:, 1]\n",
        "y_pred_rfc_cb = y_pred_rfc_cb[:, 1]\n",
        "y_pred_lgr_cb = y_pred_lgr_cb[:, 1]\n",
        "\n",
        "\n",
        "# predict class values\n",
        "yhat = model_abc_cb.predict(test_x_cb)\n",
        "abc_precision, abc_recall, _ = precision_recall_curve(test_y_cb, y_pred_abc_cb)\n",
        "abc_f1, abc_auc = f1_score(test_y_cb, yhat), auc(abc_recall, abc_precision)\n",
        "\n",
        "yhat = model_rfc_cb.predict(test_x_cb)\n",
        "rfc_precision, rfc_recall, _ = precision_recall_curve(test_y_cb, y_pred_rfc_cb)\n",
        "rfc_f1, rfc_auc = f1_score(test_y_cb, yhat), auc(rfc_recall, rfc_precision)\n",
        "\n",
        "yhat = model_lgr_cb.predict(test_x_cb)\n",
        "lgr_precision, lgr_recall, _ = precision_recall_curve(test_y_cb, y_pred_lgr_cb)\n",
        "lgr_f1, lgr_auc = f1_score(test_y_cb, yhat), auc(lgr_recall, lgr_precision)\n",
        "\n",
        "# summarize scores\n",
        "print('AdaBoost Classifier: f1=%.3f auc=%.3f' % (abc_f1, abc_auc))\n",
        "print('Random Forest Classifier: f1=%.3f auc=%.3f' % (rfc_f1, rfc_auc))\n",
        "print('Logistic Regression: f1=%.3f auc=%.3f' % (lgr_f1, lgr_auc))\n",
        "\n",
        "\n",
        "# plot the precision-recall curves\n",
        "pyplot.subplots(figsize =(12, 8))\n",
        "no_skill = len(test_y_cb[test_y_cb==1]) / len(test_y_cb)\n",
        "pyplot.plot([0, 1], [no_skill, no_skill], linestyle='--', label='No Skill')\n",
        "pyplot.plot(abc_recall, abc_precision, marker='.', label='AdaBoost Classifier')\n",
        "pyplot.plot(rfc_recall, rfc_precision, marker='.', label='Random Forest Classifier')\n",
        "pyplot.plot(lgr_recall, lgr_precision, marker='.', label='Logistic Regression')\n",
        "\n",
        "\n",
        "# axis labels\n",
        "pyplot.xlabel('Recall (sensitivity)')\n",
        "pyplot.ylabel('Precision (positive predictive value)')\n",
        "\n",
        "# show the legend\n",
        "pyplot.legend()\n",
        "# show the plot\n",
        "pyplot.show()"
      ],
      "execution_count": null,
      "outputs": [
        {
          "output_type": "stream",
          "text": [
            "AdaBoost Classifier: f1=0.849 auc=0.936\n",
            "Random Forest Classifier: f1=0.879 auc=0.961\n",
            "Logistic Regression: f1=0.799 auc=0.832\n"
          ],
          "name": "stdout"
        },
        {
          "output_type": "display_data",
          "data": {
            "image/png": "[encoded data removed]",
            "text/plain": [
              "<Figure size 864x576 with 1 Axes>"
            ]
          },
          "metadata": {
            "tags": [],
            "needs_background": "light"
          }
        }
      ]
    },
    {
      "cell_type": "markdown",
      "metadata": {
        "id": "BASfXDLCGzIQ"
      },
      "source": [
        "- Một đường cong precision-recall cho thấy mối quan hệ giữa precision (= giá trị dự đoán dương) và recall (= độ nhạy) đối với mọi điểm cắt có thể xảy ra. PRC là một đồ thị với: \n",
        "\n",
        "  - Trục x hiển thị recall (= độ nhạy = TP / (TP + FN)) \n",
        "  - Trục y hiển thị precision (= giá trị dự đoán dương = TP / (TP + FP))\n",
        "\n",
        "- Đường cong precision-recall chỉ quan tâm đến dự đoán của nhãn thiểu số, cụ thể là nhãn 1.\n",
        "\n",
        "- **No-skill classifier** *(đường gạch đứt màu xanh)* là một bộ phân loại không thể phân biệt giữa các lớp và sẽ dự đoán một lớp ngẫu nhiên hoặc một lớp không đổi trong mọi trường hợp. Dòng **no-skill* thay thay đổi dựa trên sự phân bố của các lớp *positive* đến *negative*. Nó là một đường ngang với giá trị của tỷ lệ các trường hợp *positive* trong tập dữ liệu. *(Đối với một tập dữ liệu cân bằng, đây là 0,5)*.\n",
        "\n",
        "- Một đường cong precision-recall tốt là đường cong càng gần góc trên bên phải (hướng tới điểm (1;1)), ứng vô mô hình đó dự đoán càng tốt."
      ]
    },
    {
      "cell_type": "markdown",
      "metadata": {
        "id": "m70yhjWnedu0"
      },
      "source": [
        "- Trên lý thuyết đó, ta thấy cả hai hướng sử dụng model Word2Vec là CBOW và Skip-gram thì model phân loại tướng tốt nhất đều là **Random Forest Classifier**. Tuy nhiên, đó là việc model thử nghiệm trên tập dev_set, còn trên bộ test_set độc lập hoàn toàn mới thì việc mô hình **Random Forest Classifier** dự đoán ra sao thì nhóm em sẽ thử nghiệm trên tập test độc lập dưới đây.\n",
        "\n",
        "- Với **Random Forest Classifier** trên cả 2 mô hình Word2Vec thì mô hình phân loại nào sẽ đươc đánh giá tốt hơn. Tụi em có vẽ một biểu đồ để so sánh dưới đây."
      ]
    },
    {
      "cell_type": "code",
      "metadata": {
        "colab": {
          "base_uri": "https://localhost:8080/",
          "height": 441
        },
        "id": "Ckbstocffx6A",
        "outputId": "dc87dd02-e377-4206-c8b1-22efcde7c8f8"
      },
      "source": [
        "labels = ['precision', 'recall', 'f1_score', 'accuracy']\n",
        "\n",
        "# set width of ba\n",
        "\n",
        "rfc_cb = []\n",
        "rfc_sg = []\n",
        "\n",
        "w2v = [test_y_cb, test_y_sg]\n",
        "pred_rfc = [y_pred_rfc_cb, y_pred_rfc_sg]\n",
        "for i in range(2):\n",
        "  x1 = precision_score(w2v[i], pred_rfc[i], average='macro')\n",
        "  x2 = recall_score(w2v[i], pred_rfc[i], average='macro')\n",
        "  x3 = f1_score(w2v[i], pred_rfc[i], average='macro')\n",
        "  x4 = accuracy_score(w2v[i], pred_rfc[i])\n",
        "  if i == 0:\n",
        "    rfc_cb.append(x1)\n",
        "    rfc_cb.append(x2)\n",
        "    rfc_cb.append(x3)\n",
        "    rfc_cb.append(x4)\n",
        "  else:\n",
        "    rfc_sg.append(x1)\n",
        "    rfc_sg.append(x2)\n",
        "    rfc_sg.append(x3)\n",
        "    rfc_sg.append(x4)\n",
        "\n",
        "\n",
        "x = np.arange(len(labels))  # the label locations\n",
        "width = 0.35  # the width of the bars\n",
        "\n",
        "fig, ax = plt.subplots(figsize =(10, 6))\n",
        "rects1 = ax.bar(x - width/2, rfc_cb, width, label='rfc_CBOW')\n",
        "rects2 = ax.bar(x + width/2, rfc_sg, width, label='rfc_skip-gram')\n",
        "\n",
        "# Add some text for labels, title and custom x-axis tick labels, etc.\n",
        "ax.set_ylabel('Scores')\n",
        "ax.set_title('Scores by group and model Word2Vec')\n",
        "ax.set_xticks(x)\n",
        "ax.set_xticklabels(labels)\n",
        "ax.legend(bbox_to_anchor = (1.05, 0.6))\n",
        "\n",
        "#update matplotlib in order use\n",
        "ax.bar_label(rects1, padding=3)\n",
        "ax.bar_label(rects2, padding=3)\n",
        "\n",
        "fig.tight_layout()\n",
        "\n",
        "plt.show()"
      ],
      "execution_count": null,
      "outputs": [
        {
          "output_type": "display_data",
          "data": {
            "image/png": "[encoded data removed]",
            "text/plain": [
              "<Figure size 720x432 with 1 Axes>"
            ]
          },
          "metadata": {
            "tags": [],
            "needs_background": "light"
          }
        }
      ]
    },
    {
      "cell_type": "markdown",
      "metadata": {
        "id": "ljG4YBRcDY_9"
      },
      "source": [
        "So sánh ở trên cho ta thấy với precision, recall, f1 và accuracy thì model **Random forest classifier skip-gram** đều nhỉnh hơn **CBOW**.\n",
        "\n",
        "Nhìn tổng quát hơn, thì các mô hình phân loại sử dụng Word2Vec skip-gram đều cho kết quả dự đoán tốt hơn mô hình tương tự sử dụng CBOW"
      ]
    },
    {
      "cell_type": "markdown",
      "metadata": {
        "id": "56LFqglqKlh1"
      },
      "source": [
        "#**V. Kiểm tra model với test_set**"
      ]
    },
    {
      "cell_type": "markdown",
      "metadata": {
        "id": "HKVQPPK-7ZH8"
      },
      "source": [
        "##**1. test_set**"
      ]
    },
    {
      "cell_type": "markdown",
      "metadata": {
        "id": "7hL0RTBnDDoo"
      },
      "source": [
        "Tập test_set được crawl từ 5 trang báo. Trong đó, chính thống 1 trang là:\n",
        "\n",
        "  - The Mirror: https://www.mirror.co.uk/\n",
        "\n",
        "và châm biếm 4 trang là:\n",
        "\n",
        "  - The Dailyer: http://thedailyer.com/\n",
        "  - The Onion: https://www.theonion.com/\n",
        "  - The True North Times: http://www.truenorthtimes.ca/\n",
        "  - The New Biscuit: http://www.newsbiscuit.com/\n",
        "\n",
        "Sở dĩ có sự chênh lệch như vậy là do tin châm biếm ít, phải crawl từ nhiều trang.\n"
      ]
    },
    {
      "cell_type": "markdown",
      "metadata": {
        "id": "oUHA9dpNLwZL"
      },
      "source": [
        "Lấy link url file *Sarcasm_Detection_Test.csv*"
      ]
    },
    {
      "cell_type": "code",
      "metadata": {
        "id": "7d2eek4jLwZM"
      },
      "source": [
        "url_df_test = \"/content/Sarcasm_Detection_upTest.csv\"\n",
        "\n",
        "#url_df_test = \"/content/gdrive/MyDrive/Colab Notebooks/Machine Learning/31062021_sarcasm-detection/dataset/Sarcasm_Detection_upTest.csv\""
      ],
      "execution_count": null,
      "outputs": []
    },
    {
      "cell_type": "markdown",
      "metadata": {
        "id": "3Ni-oA5DLwZO"
      },
      "source": [
        "file df_test *(Sarcasm_Detection_Test.csv)* có 42158 dòng."
      ]
    },
    {
      "cell_type": "code",
      "metadata": {
        "colab": {
          "base_uri": "https://localhost:8080/",
          "height": 221
        },
        "id": "zcUBfKsrLwZR",
        "outputId": "34bcc5d7-abc5-48e3-900f-af8b4e368944"
      },
      "source": [
        "df_test = pd.read_csv(url_df_test, usecols=['is_sarcastic', 'title'])\n",
        "\n",
        "print (df_test.shape)\n",
        "df_test.head()"
      ],
      "execution_count": null,
      "outputs": [
        {
          "output_type": "stream",
          "text": [
            "(42158, 2)\n"
          ],
          "name": "stdout"
        },
        {
          "output_type": "execute_result",
          "data": {
            "text/html": [
              "<div>\n",
              "<style scoped>\n",
              "    .dataframe tbody tr th:only-of-type {\n",
              "        vertical-align: middle;\n",
              "    }\n",
              "\n",
              "    .dataframe tbody tr th {\n",
              "        vertical-align: top;\n",
              "    }\n",
              "\n",
              "    .dataframe thead th {\n",
              "        text-align: right;\n",
              "    }\n",
              "</style>\n",
              "<table border=\"1\" class=\"dataframe\">\n",
              "  <thead>\n",
              "    <tr style=\"text-align: right;\">\n",
              "      <th></th>\n",
              "      <th>is_sarcastic</th>\n",
              "      <th>title</th>\n",
              "    </tr>\n",
              "  </thead>\n",
              "  <tbody>\n",
              "    <tr>\n",
              "      <th>0</th>\n",
              "      <td>0</td>\n",
              "      <td>Embarrassing dads surprise their children by t...</td>\n",
              "    </tr>\n",
              "    <tr>\n",
              "      <th>1</th>\n",
              "      <td>1</td>\n",
              "      <td>Man Takes Solace In Fact That World’s Oldest P...</td>\n",
              "    </tr>\n",
              "    <tr>\n",
              "      <th>2</th>\n",
              "      <td>1</td>\n",
              "      <td>Man Takes Solace In Fact That World’s Oldest P...</td>\n",
              "    </tr>\n",
              "    <tr>\n",
              "      <th>3</th>\n",
              "      <td>0</td>\n",
              "      <td>Elderly couple who locked up five children in ...</td>\n",
              "    </tr>\n",
              "    <tr>\n",
              "      <th>4</th>\n",
              "      <td>0</td>\n",
              "      <td>Mum whose tiny daughter is fed through a tube ...</td>\n",
              "    </tr>\n",
              "  </tbody>\n",
              "</table>\n",
              "</div>"
            ],
            "text/plain": [
              "   is_sarcastic                                              title\n",
              "0             0  Embarrassing dads surprise their children by t...\n",
              "1             1  Man Takes Solace In Fact That World’s Oldest P...\n",
              "2             1  Man Takes Solace In Fact That World’s Oldest P...\n",
              "3             0  Elderly couple who locked up five children in ...\n",
              "4             0  Mum whose tiny daughter is fed through a tube ..."
            ]
          },
          "metadata": {
            "tags": []
          },
          "execution_count": 64
        }
      ]
    },
    {
      "cell_type": "markdown",
      "metadata": {
        "id": "o71eqDL5LwZX"
      },
      "source": [
        "Kiểm tra và biểu diễn dữ liệu từ *df_test*"
      ]
    },
    {
      "cell_type": "code",
      "metadata": {
        "colab": {
          "base_uri": "https://localhost:8080/",
          "height": 387
        },
        "id": "R5UtewZGLwZY",
        "outputId": "40df5ab2-ed60-4393-e9e1-d6ea22511156"
      },
      "source": [
        "z = df_test['is_sarcastic'].value_counts()\n",
        "print(z)\n",
        "sns.barplot(z.index,z)"
      ],
      "execution_count": null,
      "outputs": [
        {
          "output_type": "stream",
          "text": [
            "0    26400\n",
            "1    15758\n",
            "Name: is_sarcastic, dtype: int64\n"
          ],
          "name": "stdout"
        },
        {
          "output_type": "stream",
          "text": [
            "/usr/local/lib/python3.7/dist-packages/seaborn/_decorators.py:43: FutureWarning: Pass the following variables as keyword args: x, y. From version 0.12, the only valid positional argument will be `data`, and passing other arguments without an explicit keyword will result in an error or misinterpretation.\n",
            "  FutureWarning\n"
          ],
          "name": "stderr"
        },
        {
          "output_type": "execute_result",
          "data": {
            "text/plain": [
              "<matplotlib.axes._subplots.AxesSubplot at 0x7fdd78293dd0>"
            ]
          },
          "metadata": {
            "tags": []
          },
          "execution_count": 65
        },
        {
          "output_type": "display_data",
          "data": {
            "image/png": "[encoded data removed]",
            "text/plain": [
              "<Figure size 432x288 with 1 Axes>"
            ]
          },
          "metadata": {
            "tags": []
          }
        }
      ]
    },
    {
      "cell_type": "markdown",
      "metadata": {
        "id": "8x2S-x62LwZZ"
      },
      "source": [
        "Vẫn có sự chênh lệch tương đối lớn giữa 2 nhãn *label 0* gấp hơn **1.6** lần *label 1* (26400/1807 = 1.67)."
      ]
    },
    {
      "cell_type": "markdown",
      "metadata": {
        "id": "HyV6NwMnLwZa"
      },
      "source": [
        "Kiểm trả xem trong tập dữ liệu *df_train* và *df_test* có giá trị rỗng không. Nếu có thì xóa những hàng đó."
      ]
    },
    {
      "cell_type": "code",
      "metadata": {
        "colab": {
          "base_uri": "https://localhost:8080/"
        },
        "id": "XVGcdh6dLwZa",
        "outputId": "7665d20b-c9c9-4f81-cf87-d4af5b36ae61"
      },
      "source": [
        "print (\"df_test:\\n\",df_test.isnull().sum())\n",
        "\n",
        "df_test = df_test.dropna().reset_index(drop=True)"
      ],
      "execution_count": null,
      "outputs": [
        {
          "output_type": "stream",
          "text": [
            "df_test:\n",
            " is_sarcastic    0\n",
            "title           0\n",
            "dtype: int64\n"
          ],
          "name": "stdout"
        }
      ]
    },
    {
      "cell_type": "markdown",
      "metadata": {
        "id": "Ar60B98O4BZv"
      },
      "source": [
        "- Xử lý file data_test. Và như nhóm đã đề cập và như file train_data thì tụi em cũng đã lưu lại file ***test_vectors*** ứng với 2 model Word2Vec sau khi xử lý xong."
      ]
    },
    {
      "cell_type": "code",
      "metadata": {
        "colab": {
          "base_uri": "https://localhost:8080/"
        },
        "id": "NMRELF2tQh6y",
        "outputId": "6939fbbd-cc17-4321-aa1f-8d82b1421cbb"
      },
      "source": [
        "test_vectors = process_title(df_test) "
      ],
      "execution_count": null,
      "outputs": [
        {
          "output_type": "stream",
          "text": [
            "[nltk_data] Downloading package stopwords to /root/nltk_data...\n",
            "[nltk_data]   Unzipping corpora/stopwords.zip.\n"
          ],
          "name": "stdout"
        }
      ]
    },
    {
      "cell_type": "markdown",
      "metadata": {
        "id": "wgB6xfb-4pnE"
      },
      "source": [
        "##**2. Read test_vectors**"
      ]
    },
    {
      "cell_type": "markdown",
      "metadata": {
        "id": "21a4JAke5QmT"
      },
      "source": [
        "- *xử lý bởi model Word2Vec CBOW*"
      ]
    },
    {
      "cell_type": "code",
      "metadata": {
        "colab": {
          "base_uri": "https://localhost:8080/",
          "height": 270
        },
        "id": "nZOferEYe3g9",
        "outputId": "83241af3-ca43-4169-a0a9-9e1c201ca73d"
      },
      "source": [
        "test_vectors_cb = pd.read_csv(\"/content/test_vectors_cb.csv\")\n",
        "\n",
        "print (test_vectors_cb.shape)\n",
        "test_vectors_cb.head()"
      ],
      "execution_count": null,
      "outputs": [
        {
          "output_type": "stream",
          "text": [
            "(42094, 301)\n"
          ],
          "name": "stdout"
        },
        {
          "output_type": "execute_result",
          "data": {
            "text/html": [
              "<div>\n",
              "<style scoped>\n",
              "    .dataframe tbody tr th:only-of-type {\n",
              "        vertical-align: middle;\n",
              "    }\n",
              "\n",
              "    .dataframe tbody tr th {\n",
              "        vertical-align: top;\n",
              "    }\n",
              "\n",
              "    .dataframe thead th {\n",
              "        text-align: right;\n",
              "    }\n",
              "</style>\n",
              "<table border=\"1\" class=\"dataframe\">\n",
              "  <thead>\n",
              "    <tr style=\"text-align: right;\">\n",
              "      <th></th>\n",
              "      <th>0</th>\n",
              "      <th>1</th>\n",
              "      <th>2</th>\n",
              "      <th>3</th>\n",
              "      <th>4</th>\n",
              "      <th>5</th>\n",
              "      <th>6</th>\n",
              "      <th>7</th>\n",
              "      <th>8</th>\n",
              "      <th>9</th>\n",
              "      <th>10</th>\n",
              "      <th>11</th>\n",
              "      <th>12</th>\n",
              "      <th>13</th>\n",
              "      <th>14</th>\n",
              "      <th>15</th>\n",
              "      <th>16</th>\n",
              "      <th>17</th>\n",
              "      <th>18</th>\n",
              "      <th>19</th>\n",
              "      <th>20</th>\n",
              "      <th>21</th>\n",
              "      <th>22</th>\n",
              "      <th>23</th>\n",
              "      <th>24</th>\n",
              "      <th>25</th>\n",
              "      <th>26</th>\n",
              "      <th>27</th>\n",
              "      <th>28</th>\n",
              "      <th>29</th>\n",
              "      <th>30</th>\n",
              "      <th>31</th>\n",
              "      <th>32</th>\n",
              "      <th>33</th>\n",
              "      <th>34</th>\n",
              "      <th>35</th>\n",
              "      <th>36</th>\n",
              "      <th>37</th>\n",
              "      <th>38</th>\n",
              "      <th>39</th>\n",
              "      <th>...</th>\n",
              "      <th>261</th>\n",
              "      <th>262</th>\n",
              "      <th>263</th>\n",
              "      <th>264</th>\n",
              "      <th>265</th>\n",
              "      <th>266</th>\n",
              "      <th>267</th>\n",
              "      <th>268</th>\n",
              "      <th>269</th>\n",
              "      <th>270</th>\n",
              "      <th>271</th>\n",
              "      <th>272</th>\n",
              "      <th>273</th>\n",
              "      <th>274</th>\n",
              "      <th>275</th>\n",
              "      <th>276</th>\n",
              "      <th>277</th>\n",
              "      <th>278</th>\n",
              "      <th>279</th>\n",
              "      <th>280</th>\n",
              "      <th>281</th>\n",
              "      <th>282</th>\n",
              "      <th>283</th>\n",
              "      <th>284</th>\n",
              "      <th>285</th>\n",
              "      <th>286</th>\n",
              "      <th>287</th>\n",
              "      <th>288</th>\n",
              "      <th>289</th>\n",
              "      <th>290</th>\n",
              "      <th>291</th>\n",
              "      <th>292</th>\n",
              "      <th>293</th>\n",
              "      <th>294</th>\n",
              "      <th>295</th>\n",
              "      <th>296</th>\n",
              "      <th>297</th>\n",
              "      <th>298</th>\n",
              "      <th>299</th>\n",
              "      <th>is_sarcastic</th>\n",
              "    </tr>\n",
              "  </thead>\n",
              "  <tbody>\n",
              "    <tr>\n",
              "      <th>0</th>\n",
              "      <td>-0.325403</td>\n",
              "      <td>0.239614</td>\n",
              "      <td>-0.297187</td>\n",
              "      <td>0.160539</td>\n",
              "      <td>-0.090473</td>\n",
              "      <td>-0.025442</td>\n",
              "      <td>-0.049459</td>\n",
              "      <td>0.226378</td>\n",
              "      <td>0.306336</td>\n",
              "      <td>-0.065929</td>\n",
              "      <td>0.297472</td>\n",
              "      <td>-0.019530</td>\n",
              "      <td>0.148979</td>\n",
              "      <td>0.024822</td>\n",
              "      <td>-0.191805</td>\n",
              "      <td>0.122003</td>\n",
              "      <td>0.115924</td>\n",
              "      <td>0.127859</td>\n",
              "      <td>0.000638</td>\n",
              "      <td>-0.115195</td>\n",
              "      <td>0.133346</td>\n",
              "      <td>-0.189248</td>\n",
              "      <td>-0.033449</td>\n",
              "      <td>0.071049</td>\n",
              "      <td>-0.095812</td>\n",
              "      <td>0.027377</td>\n",
              "      <td>0.072827</td>\n",
              "      <td>-0.194604</td>\n",
              "      <td>0.314529</td>\n",
              "      <td>0.246390</td>\n",
              "      <td>-0.035375</td>\n",
              "      <td>-0.082526</td>\n",
              "      <td>0.007437</td>\n",
              "      <td>0.162848</td>\n",
              "      <td>0.199792</td>\n",
              "      <td>0.169471</td>\n",
              "      <td>0.158499</td>\n",
              "      <td>0.139550</td>\n",
              "      <td>-0.156721</td>\n",
              "      <td>-0.261887</td>\n",
              "      <td>...</td>\n",
              "      <td>0.141552</td>\n",
              "      <td>-0.111390</td>\n",
              "      <td>-0.017325</td>\n",
              "      <td>-0.138517</td>\n",
              "      <td>-0.220995</td>\n",
              "      <td>-0.403565</td>\n",
              "      <td>-0.100447</td>\n",
              "      <td>0.194844</td>\n",
              "      <td>-0.016498</td>\n",
              "      <td>0.287020</td>\n",
              "      <td>-0.135881</td>\n",
              "      <td>0.052328</td>\n",
              "      <td>-0.098251</td>\n",
              "      <td>0.038502</td>\n",
              "      <td>-0.082366</td>\n",
              "      <td>0.043516</td>\n",
              "      <td>0.001511</td>\n",
              "      <td>-0.129111</td>\n",
              "      <td>0.029665</td>\n",
              "      <td>0.078014</td>\n",
              "      <td>0.284370</td>\n",
              "      <td>-0.131432</td>\n",
              "      <td>-0.035719</td>\n",
              "      <td>0.159707</td>\n",
              "      <td>0.124598</td>\n",
              "      <td>0.019206</td>\n",
              "      <td>0.041793</td>\n",
              "      <td>-0.042067</td>\n",
              "      <td>-0.075826</td>\n",
              "      <td>0.227802</td>\n",
              "      <td>0.213607</td>\n",
              "      <td>0.149545</td>\n",
              "      <td>0.188272</td>\n",
              "      <td>-0.240113</td>\n",
              "      <td>0.059732</td>\n",
              "      <td>0.358840</td>\n",
              "      <td>0.016842</td>\n",
              "      <td>0.092082</td>\n",
              "      <td>-0.007073</td>\n",
              "      <td>0</td>\n",
              "    </tr>\n",
              "    <tr>\n",
              "      <th>1</th>\n",
              "      <td>-0.314016</td>\n",
              "      <td>-0.082805</td>\n",
              "      <td>-0.094286</td>\n",
              "      <td>-0.226285</td>\n",
              "      <td>-0.054396</td>\n",
              "      <td>-0.108194</td>\n",
              "      <td>-0.261575</td>\n",
              "      <td>-0.065578</td>\n",
              "      <td>-0.048672</td>\n",
              "      <td>-0.222607</td>\n",
              "      <td>0.379194</td>\n",
              "      <td>0.074785</td>\n",
              "      <td>0.228055</td>\n",
              "      <td>0.204274</td>\n",
              "      <td>-0.109971</td>\n",
              "      <td>0.210351</td>\n",
              "      <td>-0.250879</td>\n",
              "      <td>0.053076</td>\n",
              "      <td>-0.229213</td>\n",
              "      <td>0.134832</td>\n",
              "      <td>0.221186</td>\n",
              "      <td>-0.271272</td>\n",
              "      <td>0.174454</td>\n",
              "      <td>-0.097347</td>\n",
              "      <td>0.218293</td>\n",
              "      <td>0.098799</td>\n",
              "      <td>0.127219</td>\n",
              "      <td>-0.127123</td>\n",
              "      <td>0.321742</td>\n",
              "      <td>0.080654</td>\n",
              "      <td>-0.089783</td>\n",
              "      <td>0.325231</td>\n",
              "      <td>0.144329</td>\n",
              "      <td>-0.174021</td>\n",
              "      <td>0.304271</td>\n",
              "      <td>-0.030527</td>\n",
              "      <td>-0.052190</td>\n",
              "      <td>-0.062978</td>\n",
              "      <td>-0.101282</td>\n",
              "      <td>-0.148983</td>\n",
              "      <td>...</td>\n",
              "      <td>-0.213690</td>\n",
              "      <td>0.013431</td>\n",
              "      <td>0.153695</td>\n",
              "      <td>-0.095121</td>\n",
              "      <td>-0.113172</td>\n",
              "      <td>-0.142402</td>\n",
              "      <td>0.170110</td>\n",
              "      <td>-0.248363</td>\n",
              "      <td>-0.155854</td>\n",
              "      <td>0.140369</td>\n",
              "      <td>0.198446</td>\n",
              "      <td>0.016511</td>\n",
              "      <td>-0.103796</td>\n",
              "      <td>-0.338961</td>\n",
              "      <td>0.171668</td>\n",
              "      <td>0.103645</td>\n",
              "      <td>0.249403</td>\n",
              "      <td>-0.163884</td>\n",
              "      <td>0.081215</td>\n",
              "      <td>-0.186522</td>\n",
              "      <td>0.170485</td>\n",
              "      <td>0.200195</td>\n",
              "      <td>-0.070525</td>\n",
              "      <td>0.279595</td>\n",
              "      <td>0.350895</td>\n",
              "      <td>-0.068169</td>\n",
              "      <td>0.020315</td>\n",
              "      <td>-0.114449</td>\n",
              "      <td>0.015765</td>\n",
              "      <td>0.199776</td>\n",
              "      <td>0.024072</td>\n",
              "      <td>-0.271045</td>\n",
              "      <td>-0.067834</td>\n",
              "      <td>-0.131068</td>\n",
              "      <td>-0.096822</td>\n",
              "      <td>0.126037</td>\n",
              "      <td>0.128761</td>\n",
              "      <td>0.259669</td>\n",
              "      <td>-0.036611</td>\n",
              "      <td>1</td>\n",
              "    </tr>\n",
              "    <tr>\n",
              "      <th>2</th>\n",
              "      <td>-0.314016</td>\n",
              "      <td>-0.082805</td>\n",
              "      <td>-0.094286</td>\n",
              "      <td>-0.226285</td>\n",
              "      <td>-0.054396</td>\n",
              "      <td>-0.108194</td>\n",
              "      <td>-0.261575</td>\n",
              "      <td>-0.065578</td>\n",
              "      <td>-0.048672</td>\n",
              "      <td>-0.222607</td>\n",
              "      <td>0.379194</td>\n",
              "      <td>0.074785</td>\n",
              "      <td>0.228055</td>\n",
              "      <td>0.204274</td>\n",
              "      <td>-0.109971</td>\n",
              "      <td>0.210351</td>\n",
              "      <td>-0.250879</td>\n",
              "      <td>0.053076</td>\n",
              "      <td>-0.229213</td>\n",
              "      <td>0.134832</td>\n",
              "      <td>0.221186</td>\n",
              "      <td>-0.271272</td>\n",
              "      <td>0.174454</td>\n",
              "      <td>-0.097347</td>\n",
              "      <td>0.218293</td>\n",
              "      <td>0.098799</td>\n",
              "      <td>0.127219</td>\n",
              "      <td>-0.127123</td>\n",
              "      <td>0.321742</td>\n",
              "      <td>0.080654</td>\n",
              "      <td>-0.089783</td>\n",
              "      <td>0.325231</td>\n",
              "      <td>0.144329</td>\n",
              "      <td>-0.174021</td>\n",
              "      <td>0.304271</td>\n",
              "      <td>-0.030527</td>\n",
              "      <td>-0.052190</td>\n",
              "      <td>-0.062978</td>\n",
              "      <td>-0.101282</td>\n",
              "      <td>-0.148983</td>\n",
              "      <td>...</td>\n",
              "      <td>-0.213690</td>\n",
              "      <td>0.013431</td>\n",
              "      <td>0.153695</td>\n",
              "      <td>-0.095121</td>\n",
              "      <td>-0.113172</td>\n",
              "      <td>-0.142402</td>\n",
              "      <td>0.170110</td>\n",
              "      <td>-0.248363</td>\n",
              "      <td>-0.155854</td>\n",
              "      <td>0.140369</td>\n",
              "      <td>0.198446</td>\n",
              "      <td>0.016511</td>\n",
              "      <td>-0.103796</td>\n",
              "      <td>-0.338961</td>\n",
              "      <td>0.171668</td>\n",
              "      <td>0.103645</td>\n",
              "      <td>0.249403</td>\n",
              "      <td>-0.163884</td>\n",
              "      <td>0.081215</td>\n",
              "      <td>-0.186522</td>\n",
              "      <td>0.170485</td>\n",
              "      <td>0.200195</td>\n",
              "      <td>-0.070525</td>\n",
              "      <td>0.279595</td>\n",
              "      <td>0.350895</td>\n",
              "      <td>-0.068169</td>\n",
              "      <td>0.020315</td>\n",
              "      <td>-0.114449</td>\n",
              "      <td>0.015765</td>\n",
              "      <td>0.199776</td>\n",
              "      <td>0.024072</td>\n",
              "      <td>-0.271045</td>\n",
              "      <td>-0.067834</td>\n",
              "      <td>-0.131068</td>\n",
              "      <td>-0.096822</td>\n",
              "      <td>0.126037</td>\n",
              "      <td>0.128761</td>\n",
              "      <td>0.259669</td>\n",
              "      <td>-0.036611</td>\n",
              "      <td>1</td>\n",
              "    </tr>\n",
              "    <tr>\n",
              "      <th>3</th>\n",
              "      <td>-0.144914</td>\n",
              "      <td>0.163986</td>\n",
              "      <td>-0.103014</td>\n",
              "      <td>0.111232</td>\n",
              "      <td>-0.143847</td>\n",
              "      <td>0.026147</td>\n",
              "      <td>0.020622</td>\n",
              "      <td>0.092166</td>\n",
              "      <td>-0.068099</td>\n",
              "      <td>-0.100285</td>\n",
              "      <td>0.101783</td>\n",
              "      <td>0.320376</td>\n",
              "      <td>0.101065</td>\n",
              "      <td>-0.073042</td>\n",
              "      <td>0.031915</td>\n",
              "      <td>0.023744</td>\n",
              "      <td>-0.148409</td>\n",
              "      <td>-0.116256</td>\n",
              "      <td>-0.093086</td>\n",
              "      <td>0.031142</td>\n",
              "      <td>-0.157437</td>\n",
              "      <td>-0.224562</td>\n",
              "      <td>-0.071917</td>\n",
              "      <td>-0.036071</td>\n",
              "      <td>0.047591</td>\n",
              "      <td>-0.191248</td>\n",
              "      <td>-0.039803</td>\n",
              "      <td>0.033545</td>\n",
              "      <td>-0.205342</td>\n",
              "      <td>0.060869</td>\n",
              "      <td>-0.230917</td>\n",
              "      <td>0.047417</td>\n",
              "      <td>-0.204513</td>\n",
              "      <td>-0.157430</td>\n",
              "      <td>0.079427</td>\n",
              "      <td>0.016655</td>\n",
              "      <td>0.048005</td>\n",
              "      <td>-0.302967</td>\n",
              "      <td>-0.243293</td>\n",
              "      <td>0.045687</td>\n",
              "      <td>...</td>\n",
              "      <td>-0.094065</td>\n",
              "      <td>-0.233304</td>\n",
              "      <td>0.304303</td>\n",
              "      <td>-0.209513</td>\n",
              "      <td>0.004082</td>\n",
              "      <td>-0.094486</td>\n",
              "      <td>0.307185</td>\n",
              "      <td>0.101765</td>\n",
              "      <td>-0.332789</td>\n",
              "      <td>0.251622</td>\n",
              "      <td>-0.282582</td>\n",
              "      <td>-0.098741</td>\n",
              "      <td>0.067531</td>\n",
              "      <td>0.012815</td>\n",
              "      <td>0.108857</td>\n",
              "      <td>-0.080067</td>\n",
              "      <td>0.187886</td>\n",
              "      <td>0.172588</td>\n",
              "      <td>-0.122321</td>\n",
              "      <td>0.026763</td>\n",
              "      <td>0.053473</td>\n",
              "      <td>0.173099</td>\n",
              "      <td>-0.027897</td>\n",
              "      <td>0.095907</td>\n",
              "      <td>-0.010981</td>\n",
              "      <td>0.075079</td>\n",
              "      <td>0.055207</td>\n",
              "      <td>0.228248</td>\n",
              "      <td>-0.034509</td>\n",
              "      <td>0.141063</td>\n",
              "      <td>0.099454</td>\n",
              "      <td>0.039480</td>\n",
              "      <td>0.092540</td>\n",
              "      <td>-0.199174</td>\n",
              "      <td>-0.008145</td>\n",
              "      <td>0.384314</td>\n",
              "      <td>0.105503</td>\n",
              "      <td>0.167025</td>\n",
              "      <td>-0.172047</td>\n",
              "      <td>0</td>\n",
              "    </tr>\n",
              "    <tr>\n",
              "      <th>4</th>\n",
              "      <td>-0.231078</td>\n",
              "      <td>-0.056054</td>\n",
              "      <td>-0.264205</td>\n",
              "      <td>0.143474</td>\n",
              "      <td>-0.098694</td>\n",
              "      <td>-0.058938</td>\n",
              "      <td>-0.057771</td>\n",
              "      <td>0.164785</td>\n",
              "      <td>0.136064</td>\n",
              "      <td>-0.057395</td>\n",
              "      <td>0.307670</td>\n",
              "      <td>-0.021711</td>\n",
              "      <td>-0.139568</td>\n",
              "      <td>-0.111555</td>\n",
              "      <td>0.048043</td>\n",
              "      <td>0.140387</td>\n",
              "      <td>0.010232</td>\n",
              "      <td>-0.050091</td>\n",
              "      <td>-0.035300</td>\n",
              "      <td>0.017351</td>\n",
              "      <td>0.053468</td>\n",
              "      <td>-0.523442</td>\n",
              "      <td>-0.034659</td>\n",
              "      <td>-0.074883</td>\n",
              "      <td>-0.200336</td>\n",
              "      <td>-0.167380</td>\n",
              "      <td>0.120876</td>\n",
              "      <td>-0.224962</td>\n",
              "      <td>0.365662</td>\n",
              "      <td>-0.080014</td>\n",
              "      <td>-0.145133</td>\n",
              "      <td>-0.018811</td>\n",
              "      <td>-0.207450</td>\n",
              "      <td>0.066071</td>\n",
              "      <td>-0.024720</td>\n",
              "      <td>0.053798</td>\n",
              "      <td>0.080934</td>\n",
              "      <td>-0.016696</td>\n",
              "      <td>0.000452</td>\n",
              "      <td>-0.216046</td>\n",
              "      <td>...</td>\n",
              "      <td>0.125812</td>\n",
              "      <td>-0.180612</td>\n",
              "      <td>0.221568</td>\n",
              "      <td>0.158277</td>\n",
              "      <td>0.093161</td>\n",
              "      <td>-0.326395</td>\n",
              "      <td>-0.087101</td>\n",
              "      <td>-0.022632</td>\n",
              "      <td>-0.228636</td>\n",
              "      <td>0.127665</td>\n",
              "      <td>-0.061498</td>\n",
              "      <td>-0.388538</td>\n",
              "      <td>-0.199458</td>\n",
              "      <td>-0.080454</td>\n",
              "      <td>-0.048236</td>\n",
              "      <td>-0.100194</td>\n",
              "      <td>0.145863</td>\n",
              "      <td>-0.152133</td>\n",
              "      <td>0.043162</td>\n",
              "      <td>0.019922</td>\n",
              "      <td>0.277872</td>\n",
              "      <td>0.025439</td>\n",
              "      <td>-0.121737</td>\n",
              "      <td>0.171417</td>\n",
              "      <td>0.038193</td>\n",
              "      <td>0.131260</td>\n",
              "      <td>0.103656</td>\n",
              "      <td>-0.226476</td>\n",
              "      <td>0.027000</td>\n",
              "      <td>-0.031823</td>\n",
              "      <td>0.072223</td>\n",
              "      <td>0.133353</td>\n",
              "      <td>-0.029127</td>\n",
              "      <td>-0.158909</td>\n",
              "      <td>0.033447</td>\n",
              "      <td>0.080937</td>\n",
              "      <td>0.169989</td>\n",
              "      <td>0.066538</td>\n",
              "      <td>-0.210106</td>\n",
              "      <td>0</td>\n",
              "    </tr>\n",
              "  </tbody>\n",
              "</table>\n",
              "<p>5 rows × 301 columns</p>\n",
              "</div>"
            ],
            "text/plain": [
              "          0         1         2  ...       298       299  is_sarcastic\n",
              "0 -0.325403  0.239614 -0.297187  ...  0.092082 -0.007073             0\n",
              "1 -0.314016 -0.082805 -0.094286  ...  0.259669 -0.036611             1\n",
              "2 -0.314016 -0.082805 -0.094286  ...  0.259669 -0.036611             1\n",
              "3 -0.144914  0.163986 -0.103014  ...  0.167025 -0.172047             0\n",
              "4 -0.231078 -0.056054 -0.264205  ...  0.066538 -0.210106             0\n",
              "\n",
              "[5 rows x 301 columns]"
            ]
          },
          "metadata": {
            "tags": []
          },
          "execution_count": 17
        }
      ]
    },
    {
      "cell_type": "markdown",
      "metadata": {
        "id": "1tz_SNx85TmL"
      },
      "source": [
        "- *xử lý bởi model Word2Vec skip-gram*"
      ]
    },
    {
      "cell_type": "code",
      "metadata": {
        "colab": {
          "base_uri": "https://localhost:8080/",
          "height": 270
        },
        "id": "2I9bUtm85E1_",
        "outputId": "18b88dcf-4f32-452f-a384-554431e1b41e"
      },
      "source": [
        "test_vectors_sg = pd.read_csv(\"/content/test_vectors_sg.csv\")\n",
        "\n",
        "print (test_vectors_sg.shape)\n",
        "test_vectors_sg.head()"
      ],
      "execution_count": null,
      "outputs": [
        {
          "output_type": "stream",
          "text": [
            "(42094, 301)\n"
          ],
          "name": "stdout"
        },
        {
          "output_type": "execute_result",
          "data": {
            "text/html": [
              "<div>\n",
              "<style scoped>\n",
              "    .dataframe tbody tr th:only-of-type {\n",
              "        vertical-align: middle;\n",
              "    }\n",
              "\n",
              "    .dataframe tbody tr th {\n",
              "        vertical-align: top;\n",
              "    }\n",
              "\n",
              "    .dataframe thead th {\n",
              "        text-align: right;\n",
              "    }\n",
              "</style>\n",
              "<table border=\"1\" class=\"dataframe\">\n",
              "  <thead>\n",
              "    <tr style=\"text-align: right;\">\n",
              "      <th></th>\n",
              "      <th>0</th>\n",
              "      <th>1</th>\n",
              "      <th>2</th>\n",
              "      <th>3</th>\n",
              "      <th>4</th>\n",
              "      <th>5</th>\n",
              "      <th>6</th>\n",
              "      <th>7</th>\n",
              "      <th>8</th>\n",
              "      <th>9</th>\n",
              "      <th>10</th>\n",
              "      <th>11</th>\n",
              "      <th>12</th>\n",
              "      <th>13</th>\n",
              "      <th>14</th>\n",
              "      <th>15</th>\n",
              "      <th>16</th>\n",
              "      <th>17</th>\n",
              "      <th>18</th>\n",
              "      <th>19</th>\n",
              "      <th>20</th>\n",
              "      <th>21</th>\n",
              "      <th>22</th>\n",
              "      <th>23</th>\n",
              "      <th>24</th>\n",
              "      <th>25</th>\n",
              "      <th>26</th>\n",
              "      <th>27</th>\n",
              "      <th>28</th>\n",
              "      <th>29</th>\n",
              "      <th>30</th>\n",
              "      <th>31</th>\n",
              "      <th>32</th>\n",
              "      <th>33</th>\n",
              "      <th>34</th>\n",
              "      <th>35</th>\n",
              "      <th>36</th>\n",
              "      <th>37</th>\n",
              "      <th>38</th>\n",
              "      <th>39</th>\n",
              "      <th>...</th>\n",
              "      <th>261</th>\n",
              "      <th>262</th>\n",
              "      <th>263</th>\n",
              "      <th>264</th>\n",
              "      <th>265</th>\n",
              "      <th>266</th>\n",
              "      <th>267</th>\n",
              "      <th>268</th>\n",
              "      <th>269</th>\n",
              "      <th>270</th>\n",
              "      <th>271</th>\n",
              "      <th>272</th>\n",
              "      <th>273</th>\n",
              "      <th>274</th>\n",
              "      <th>275</th>\n",
              "      <th>276</th>\n",
              "      <th>277</th>\n",
              "      <th>278</th>\n",
              "      <th>279</th>\n",
              "      <th>280</th>\n",
              "      <th>281</th>\n",
              "      <th>282</th>\n",
              "      <th>283</th>\n",
              "      <th>284</th>\n",
              "      <th>285</th>\n",
              "      <th>286</th>\n",
              "      <th>287</th>\n",
              "      <th>288</th>\n",
              "      <th>289</th>\n",
              "      <th>290</th>\n",
              "      <th>291</th>\n",
              "      <th>292</th>\n",
              "      <th>293</th>\n",
              "      <th>294</th>\n",
              "      <th>295</th>\n",
              "      <th>296</th>\n",
              "      <th>297</th>\n",
              "      <th>298</th>\n",
              "      <th>299</th>\n",
              "      <th>is_sarcastic</th>\n",
              "    </tr>\n",
              "  </thead>\n",
              "  <tbody>\n",
              "    <tr>\n",
              "      <th>0</th>\n",
              "      <td>-0.251680</td>\n",
              "      <td>0.271856</td>\n",
              "      <td>-0.134861</td>\n",
              "      <td>0.477065</td>\n",
              "      <td>-0.175816</td>\n",
              "      <td>-0.215723</td>\n",
              "      <td>0.053331</td>\n",
              "      <td>0.158093</td>\n",
              "      <td>0.230221</td>\n",
              "      <td>-0.141310</td>\n",
              "      <td>0.318499</td>\n",
              "      <td>0.125520</td>\n",
              "      <td>0.103854</td>\n",
              "      <td>-0.050013</td>\n",
              "      <td>-0.390045</td>\n",
              "      <td>0.047075</td>\n",
              "      <td>0.230402</td>\n",
              "      <td>0.043042</td>\n",
              "      <td>0.272994</td>\n",
              "      <td>-0.072890</td>\n",
              "      <td>0.212952</td>\n",
              "      <td>-0.254671</td>\n",
              "      <td>-0.237613</td>\n",
              "      <td>0.381082</td>\n",
              "      <td>-0.313155</td>\n",
              "      <td>-0.039361</td>\n",
              "      <td>-0.040605</td>\n",
              "      <td>-0.235859</td>\n",
              "      <td>0.160884</td>\n",
              "      <td>0.286331</td>\n",
              "      <td>0.214303</td>\n",
              "      <td>0.192266</td>\n",
              "      <td>0.289003</td>\n",
              "      <td>0.215405</td>\n",
              "      <td>0.300727</td>\n",
              "      <td>0.037501</td>\n",
              "      <td>0.165554</td>\n",
              "      <td>0.035156</td>\n",
              "      <td>-0.004833</td>\n",
              "      <td>-0.149176</td>\n",
              "      <td>...</td>\n",
              "      <td>0.261219</td>\n",
              "      <td>-0.111066</td>\n",
              "      <td>-0.089276</td>\n",
              "      <td>0.014209</td>\n",
              "      <td>-0.278581</td>\n",
              "      <td>-0.181187</td>\n",
              "      <td>-0.177257</td>\n",
              "      <td>-0.165715</td>\n",
              "      <td>0.109524</td>\n",
              "      <td>0.343088</td>\n",
              "      <td>-0.181278</td>\n",
              "      <td>0.157070</td>\n",
              "      <td>-0.214566</td>\n",
              "      <td>0.113482</td>\n",
              "      <td>0.026452</td>\n",
              "      <td>0.144353</td>\n",
              "      <td>-0.223210</td>\n",
              "      <td>-0.190508</td>\n",
              "      <td>-0.101060</td>\n",
              "      <td>0.067401</td>\n",
              "      <td>0.084867</td>\n",
              "      <td>-0.134669</td>\n",
              "      <td>-0.018264</td>\n",
              "      <td>0.060391</td>\n",
              "      <td>0.123947</td>\n",
              "      <td>0.210519</td>\n",
              "      <td>-0.072350</td>\n",
              "      <td>-0.069697</td>\n",
              "      <td>-0.059692</td>\n",
              "      <td>0.232547</td>\n",
              "      <td>-0.002682</td>\n",
              "      <td>0.053273</td>\n",
              "      <td>0.136535</td>\n",
              "      <td>-0.429705</td>\n",
              "      <td>-0.026739</td>\n",
              "      <td>0.142951</td>\n",
              "      <td>0.028901</td>\n",
              "      <td>-0.086922</td>\n",
              "      <td>-0.096581</td>\n",
              "      <td>0</td>\n",
              "    </tr>\n",
              "    <tr>\n",
              "      <th>1</th>\n",
              "      <td>-0.269554</td>\n",
              "      <td>0.110733</td>\n",
              "      <td>0.040648</td>\n",
              "      <td>-0.119593</td>\n",
              "      <td>-0.039489</td>\n",
              "      <td>-0.166664</td>\n",
              "      <td>-0.293510</td>\n",
              "      <td>-0.307204</td>\n",
              "      <td>-0.075367</td>\n",
              "      <td>-0.105625</td>\n",
              "      <td>0.598539</td>\n",
              "      <td>0.046937</td>\n",
              "      <td>0.103767</td>\n",
              "      <td>0.092218</td>\n",
              "      <td>-0.052893</td>\n",
              "      <td>0.378657</td>\n",
              "      <td>-0.064584</td>\n",
              "      <td>-0.072932</td>\n",
              "      <td>-0.536509</td>\n",
              "      <td>-0.117450</td>\n",
              "      <td>0.466422</td>\n",
              "      <td>-0.414049</td>\n",
              "      <td>-0.035728</td>\n",
              "      <td>0.167546</td>\n",
              "      <td>-0.114442</td>\n",
              "      <td>0.237135</td>\n",
              "      <td>-0.091397</td>\n",
              "      <td>-0.174555</td>\n",
              "      <td>0.448365</td>\n",
              "      <td>-0.396086</td>\n",
              "      <td>-0.082671</td>\n",
              "      <td>0.527526</td>\n",
              "      <td>0.251353</td>\n",
              "      <td>-0.304750</td>\n",
              "      <td>0.042601</td>\n",
              "      <td>-0.076670</td>\n",
              "      <td>0.086352</td>\n",
              "      <td>0.066602</td>\n",
              "      <td>0.042234</td>\n",
              "      <td>-0.192463</td>\n",
              "      <td>...</td>\n",
              "      <td>0.005837</td>\n",
              "      <td>-0.046382</td>\n",
              "      <td>0.102524</td>\n",
              "      <td>-0.281636</td>\n",
              "      <td>-0.272072</td>\n",
              "      <td>-0.158346</td>\n",
              "      <td>0.315067</td>\n",
              "      <td>-0.386923</td>\n",
              "      <td>-0.193946</td>\n",
              "      <td>0.038715</td>\n",
              "      <td>0.376929</td>\n",
              "      <td>0.272823</td>\n",
              "      <td>-0.296991</td>\n",
              "      <td>-0.537720</td>\n",
              "      <td>0.185933</td>\n",
              "      <td>-0.037601</td>\n",
              "      <td>0.496996</td>\n",
              "      <td>-0.192113</td>\n",
              "      <td>0.224907</td>\n",
              "      <td>-0.146282</td>\n",
              "      <td>0.240572</td>\n",
              "      <td>0.181742</td>\n",
              "      <td>-0.103252</td>\n",
              "      <td>0.219974</td>\n",
              "      <td>0.363051</td>\n",
              "      <td>-0.128460</td>\n",
              "      <td>-0.022969</td>\n",
              "      <td>-0.083934</td>\n",
              "      <td>0.153559</td>\n",
              "      <td>0.391095</td>\n",
              "      <td>-0.052492</td>\n",
              "      <td>-0.298524</td>\n",
              "      <td>0.085937</td>\n",
              "      <td>-0.027399</td>\n",
              "      <td>-0.155266</td>\n",
              "      <td>-0.085409</td>\n",
              "      <td>0.162235</td>\n",
              "      <td>0.555444</td>\n",
              "      <td>-0.066707</td>\n",
              "      <td>1</td>\n",
              "    </tr>\n",
              "    <tr>\n",
              "      <th>2</th>\n",
              "      <td>-0.269554</td>\n",
              "      <td>0.110733</td>\n",
              "      <td>0.040648</td>\n",
              "      <td>-0.119593</td>\n",
              "      <td>-0.039489</td>\n",
              "      <td>-0.166664</td>\n",
              "      <td>-0.293510</td>\n",
              "      <td>-0.307204</td>\n",
              "      <td>-0.075367</td>\n",
              "      <td>-0.105625</td>\n",
              "      <td>0.598539</td>\n",
              "      <td>0.046937</td>\n",
              "      <td>0.103767</td>\n",
              "      <td>0.092218</td>\n",
              "      <td>-0.052893</td>\n",
              "      <td>0.378657</td>\n",
              "      <td>-0.064584</td>\n",
              "      <td>-0.072932</td>\n",
              "      <td>-0.536509</td>\n",
              "      <td>-0.117450</td>\n",
              "      <td>0.466422</td>\n",
              "      <td>-0.414049</td>\n",
              "      <td>-0.035728</td>\n",
              "      <td>0.167546</td>\n",
              "      <td>-0.114442</td>\n",
              "      <td>0.237135</td>\n",
              "      <td>-0.091397</td>\n",
              "      <td>-0.174555</td>\n",
              "      <td>0.448365</td>\n",
              "      <td>-0.396086</td>\n",
              "      <td>-0.082671</td>\n",
              "      <td>0.527526</td>\n",
              "      <td>0.251353</td>\n",
              "      <td>-0.304750</td>\n",
              "      <td>0.042601</td>\n",
              "      <td>-0.076670</td>\n",
              "      <td>0.086352</td>\n",
              "      <td>0.066602</td>\n",
              "      <td>0.042234</td>\n",
              "      <td>-0.192463</td>\n",
              "      <td>...</td>\n",
              "      <td>0.005837</td>\n",
              "      <td>-0.046382</td>\n",
              "      <td>0.102524</td>\n",
              "      <td>-0.281636</td>\n",
              "      <td>-0.272072</td>\n",
              "      <td>-0.158346</td>\n",
              "      <td>0.315067</td>\n",
              "      <td>-0.386923</td>\n",
              "      <td>-0.193946</td>\n",
              "      <td>0.038715</td>\n",
              "      <td>0.376929</td>\n",
              "      <td>0.272823</td>\n",
              "      <td>-0.296991</td>\n",
              "      <td>-0.537720</td>\n",
              "      <td>0.185933</td>\n",
              "      <td>-0.037601</td>\n",
              "      <td>0.496996</td>\n",
              "      <td>-0.192113</td>\n",
              "      <td>0.224907</td>\n",
              "      <td>-0.146282</td>\n",
              "      <td>0.240572</td>\n",
              "      <td>0.181742</td>\n",
              "      <td>-0.103252</td>\n",
              "      <td>0.219974</td>\n",
              "      <td>0.363051</td>\n",
              "      <td>-0.128460</td>\n",
              "      <td>-0.022969</td>\n",
              "      <td>-0.083934</td>\n",
              "      <td>0.153559</td>\n",
              "      <td>0.391095</td>\n",
              "      <td>-0.052492</td>\n",
              "      <td>-0.298524</td>\n",
              "      <td>0.085937</td>\n",
              "      <td>-0.027399</td>\n",
              "      <td>-0.155266</td>\n",
              "      <td>-0.085409</td>\n",
              "      <td>0.162235</td>\n",
              "      <td>0.555444</td>\n",
              "      <td>-0.066707</td>\n",
              "      <td>1</td>\n",
              "    </tr>\n",
              "    <tr>\n",
              "      <th>3</th>\n",
              "      <td>-0.070144</td>\n",
              "      <td>0.191926</td>\n",
              "      <td>-0.100465</td>\n",
              "      <td>0.168242</td>\n",
              "      <td>-0.154220</td>\n",
              "      <td>-0.011049</td>\n",
              "      <td>0.125689</td>\n",
              "      <td>0.045623</td>\n",
              "      <td>0.029871</td>\n",
              "      <td>-0.048811</td>\n",
              "      <td>0.109464</td>\n",
              "      <td>0.498968</td>\n",
              "      <td>0.007539</td>\n",
              "      <td>-0.308241</td>\n",
              "      <td>0.145376</td>\n",
              "      <td>0.056479</td>\n",
              "      <td>-0.098691</td>\n",
              "      <td>0.081243</td>\n",
              "      <td>-0.122709</td>\n",
              "      <td>0.029005</td>\n",
              "      <td>-0.215079</td>\n",
              "      <td>-0.301893</td>\n",
              "      <td>-0.083550</td>\n",
              "      <td>0.186420</td>\n",
              "      <td>0.061833</td>\n",
              "      <td>-0.213228</td>\n",
              "      <td>-0.008422</td>\n",
              "      <td>-0.055924</td>\n",
              "      <td>-0.308907</td>\n",
              "      <td>-0.245166</td>\n",
              "      <td>0.034756</td>\n",
              "      <td>0.163451</td>\n",
              "      <td>-0.200142</td>\n",
              "      <td>-0.201712</td>\n",
              "      <td>-0.084316</td>\n",
              "      <td>-0.007539</td>\n",
              "      <td>-0.116786</td>\n",
              "      <td>-0.066295</td>\n",
              "      <td>0.020901</td>\n",
              "      <td>0.019034</td>\n",
              "      <td>...</td>\n",
              "      <td>0.047573</td>\n",
              "      <td>-0.136164</td>\n",
              "      <td>0.319764</td>\n",
              "      <td>-0.273328</td>\n",
              "      <td>-0.155636</td>\n",
              "      <td>-0.142651</td>\n",
              "      <td>0.259084</td>\n",
              "      <td>0.071336</td>\n",
              "      <td>-0.453290</td>\n",
              "      <td>0.050016</td>\n",
              "      <td>-0.163350</td>\n",
              "      <td>-0.002541</td>\n",
              "      <td>0.085844</td>\n",
              "      <td>0.006051</td>\n",
              "      <td>0.021000</td>\n",
              "      <td>-0.257837</td>\n",
              "      <td>-0.013580</td>\n",
              "      <td>0.057760</td>\n",
              "      <td>-0.044435</td>\n",
              "      <td>0.198415</td>\n",
              "      <td>-0.104257</td>\n",
              "      <td>-0.057029</td>\n",
              "      <td>-0.124265</td>\n",
              "      <td>-0.156689</td>\n",
              "      <td>-0.140270</td>\n",
              "      <td>-0.032036</td>\n",
              "      <td>-0.002127</td>\n",
              "      <td>0.426032</td>\n",
              "      <td>-0.027098</td>\n",
              "      <td>0.155641</td>\n",
              "      <td>0.303790</td>\n",
              "      <td>0.044868</td>\n",
              "      <td>0.073666</td>\n",
              "      <td>-0.160203</td>\n",
              "      <td>0.138093</td>\n",
              "      <td>0.534848</td>\n",
              "      <td>-0.172448</td>\n",
              "      <td>0.263827</td>\n",
              "      <td>-0.217927</td>\n",
              "      <td>0</td>\n",
              "    </tr>\n",
              "    <tr>\n",
              "      <th>4</th>\n",
              "      <td>0.088623</td>\n",
              "      <td>0.007579</td>\n",
              "      <td>-0.203317</td>\n",
              "      <td>0.161680</td>\n",
              "      <td>0.063357</td>\n",
              "      <td>-0.266017</td>\n",
              "      <td>0.295252</td>\n",
              "      <td>0.124472</td>\n",
              "      <td>0.405546</td>\n",
              "      <td>0.120341</td>\n",
              "      <td>0.221447</td>\n",
              "      <td>0.006165</td>\n",
              "      <td>-0.175058</td>\n",
              "      <td>-0.143430</td>\n",
              "      <td>0.133590</td>\n",
              "      <td>0.178195</td>\n",
              "      <td>-0.086267</td>\n",
              "      <td>-0.102215</td>\n",
              "      <td>0.048838</td>\n",
              "      <td>0.039358</td>\n",
              "      <td>0.017422</td>\n",
              "      <td>-0.544915</td>\n",
              "      <td>0.076715</td>\n",
              "      <td>0.111942</td>\n",
              "      <td>-0.332329</td>\n",
              "      <td>-0.302672</td>\n",
              "      <td>0.003273</td>\n",
              "      <td>-0.181241</td>\n",
              "      <td>0.171942</td>\n",
              "      <td>-0.344653</td>\n",
              "      <td>-0.185487</td>\n",
              "      <td>-0.104501</td>\n",
              "      <td>-0.154089</td>\n",
              "      <td>-0.019720</td>\n",
              "      <td>-0.002498</td>\n",
              "      <td>0.096115</td>\n",
              "      <td>0.134686</td>\n",
              "      <td>-0.123499</td>\n",
              "      <td>0.180010</td>\n",
              "      <td>-0.180288</td>\n",
              "      <td>...</td>\n",
              "      <td>0.153851</td>\n",
              "      <td>-0.161414</td>\n",
              "      <td>0.193868</td>\n",
              "      <td>0.124657</td>\n",
              "      <td>-0.028355</td>\n",
              "      <td>-0.410197</td>\n",
              "      <td>0.087296</td>\n",
              "      <td>-0.217802</td>\n",
              "      <td>-0.319312</td>\n",
              "      <td>-0.095247</td>\n",
              "      <td>-0.110612</td>\n",
              "      <td>-0.209726</td>\n",
              "      <td>-0.235197</td>\n",
              "      <td>-0.192628</td>\n",
              "      <td>-0.146040</td>\n",
              "      <td>-0.142193</td>\n",
              "      <td>0.200052</td>\n",
              "      <td>-0.155387</td>\n",
              "      <td>0.177097</td>\n",
              "      <td>-0.122923</td>\n",
              "      <td>0.196504</td>\n",
              "      <td>-0.060480</td>\n",
              "      <td>-0.377964</td>\n",
              "      <td>-0.119265</td>\n",
              "      <td>-0.195308</td>\n",
              "      <td>0.233186</td>\n",
              "      <td>-0.046283</td>\n",
              "      <td>-0.056567</td>\n",
              "      <td>0.192022</td>\n",
              "      <td>-0.064857</td>\n",
              "      <td>0.056364</td>\n",
              "      <td>0.228267</td>\n",
              "      <td>-0.191048</td>\n",
              "      <td>-0.321141</td>\n",
              "      <td>-0.061711</td>\n",
              "      <td>-0.034278</td>\n",
              "      <td>-0.052970</td>\n",
              "      <td>-0.135400</td>\n",
              "      <td>-0.191530</td>\n",
              "      <td>0</td>\n",
              "    </tr>\n",
              "  </tbody>\n",
              "</table>\n",
              "<p>5 rows × 301 columns</p>\n",
              "</div>"
            ],
            "text/plain": [
              "          0         1         2  ...       298       299  is_sarcastic\n",
              "0 -0.251680  0.271856 -0.134861  ... -0.086922 -0.096581             0\n",
              "1 -0.269554  0.110733  0.040648  ...  0.555444 -0.066707             1\n",
              "2 -0.269554  0.110733  0.040648  ...  0.555444 -0.066707             1\n",
              "3 -0.070144  0.191926 -0.100465  ...  0.263827 -0.217927             0\n",
              "4  0.088623  0.007579 -0.203317  ... -0.135400 -0.191530             0\n",
              "\n",
              "[5 rows x 301 columns]"
            ]
          },
          "metadata": {
            "tags": []
          },
          "execution_count": 18
        }
      ]
    },
    {
      "cell_type": "markdown",
      "metadata": {
        "id": "58fSx57cETet"
      },
      "source": [
        "**Lưu và file test_vector** \n",
        "\n",
        "Sử dụng lại để tiết kiệm thời gian xử lý lại."
      ]
    },
    {
      "cell_type": "markdown",
      "metadata": {
        "id": "qJA7Et79kEfF"
      },
      "source": [
        "- **Lưu test_vector:** Với 2 mô hình của word2vec "
      ]
    },
    {
      "cell_type": "code",
      "metadata": {
        "id": "9EUuau9oESec"
      },
      "source": [
        "#lưu test_vector với Word2Vec skip-gram\n",
        "url_drive = \"/content/gdrive/MyDrive/Colab Notebooks/Machine Learning/31062021_sarcasm-detection/report/test_vector_sg.csv\"\n",
        "test_vector.to_csv(url_drive, header=True, index=False)"
      ],
      "execution_count": null,
      "outputs": []
    },
    {
      "cell_type": "code",
      "metadata": {
        "id": "51kEqKfojZbo"
      },
      "source": [
        "#lưu test_vector với Word2Vec SBOW\n",
        "url_drive = \"/content/gdrive/MyDrive/Colab Notebooks/Machine Learning/31062021_sarcasm-detection/report/test_vector_cb.csv\"\n",
        "test_vector.to_csv(url_drive, header=True, index=False)"
      ],
      "execution_count": null,
      "outputs": []
    },
    {
      "cell_type": "markdown",
      "metadata": {
        "id": "RHmDrydID9vk"
      },
      "source": [
        "##**3. Chia tập X_test và y_test**"
      ]
    },
    {
      "cell_type": "markdown",
      "metadata": {
        "id": "Jj4nyw6kOYNs"
      },
      "source": [
        "- *Theo test_vectors_sg xử lý từ Word2Vec skip-gram*"
      ]
    },
    {
      "cell_type": "code",
      "metadata": {
        "colab": {
          "base_uri": "https://localhost:8080/"
        },
        "id": "vlJCnZchU1iP",
        "outputId": "95e505b1-7f4d-4447-9e9e-f3726ba2db02"
      },
      "source": [
        "X_test_sg = test_vectors_sg.drop('is_sarcastic', axis = 1)\n",
        "y_test_sg = test_vectors_sg['is_sarcastic']\n",
        "\n",
        "X_test_sg.shape, y_test_sg.shape"
      ],
      "execution_count": null,
      "outputs": [
        {
          "output_type": "execute_result",
          "data": {
            "text/plain": [
              "((42094, 300), (42094,))"
            ]
          },
          "metadata": {
            "tags": []
          },
          "execution_count": 19
        }
      ]
    },
    {
      "cell_type": "markdown",
      "metadata": {
        "id": "DJ_QAQacOjPI"
      },
      "source": [
        "- *Theo test_vectors_cb xử lý từ Word2Vec CBOW*"
      ]
    },
    {
      "cell_type": "code",
      "metadata": {
        "colab": {
          "base_uri": "https://localhost:8080/"
        },
        "id": "ZP6Sd1vr50tA",
        "outputId": "e50e160a-312e-4b28-98e4-20e49c45fcc6"
      },
      "source": [
        "X_test_cb = test_vectors_cb.drop('is_sarcastic', axis = 1)\n",
        "y_test_cb = test_vectors_cb['is_sarcastic']\n",
        "\n",
        "X_test_cb.shape, y_test_cb.shape"
      ],
      "execution_count": null,
      "outputs": [
        {
          "output_type": "execute_result",
          "data": {
            "text/plain": [
              "((42094, 300), (42094,))"
            ]
          },
          "metadata": {
            "tags": []
          },
          "execution_count": 20
        }
      ]
    },
    {
      "cell_type": "markdown",
      "metadata": {
        "id": "UIyLNO22_92X"
      },
      "source": [
        "##**4. Dự đoán**"
      ]
    },
    {
      "cell_type": "markdown",
      "metadata": {
        "id": "5dqDtgAX7pQj"
      },
      "source": [
        "###**4.1. Với Word2Vec skip-gram**"
      ]
    },
    {
      "cell_type": "markdown",
      "metadata": {
        "id": "ovzNlVO46-Tz"
      },
      "source": [
        "- *Random Forest Classifier model*"
      ]
    },
    {
      "cell_type": "code",
      "metadata": {
        "colab": {
          "base_uri": "https://localhost:8080/"
        },
        "id": "j6nvF6MC9tcD",
        "outputId": "218221ff-fe1b-45b3-872e-df4617e15d51"
      },
      "source": [
        "# use the model to predict the testing instances\n",
        "y_pred_sg_rfc = model_rfc_sg.predict(np.array(X_test_sg))\n",
        "\n",
        "# generate the classification report\n",
        "print(classification_report(y_test_sg, y_pred_sg_rfc))"
      ],
      "execution_count": null,
      "outputs": [
        {
          "output_type": "stream",
          "text": [
            "              precision    recall  f1-score   support\n",
            "\n",
            "           0       0.63      0.94      0.75     26394\n",
            "           1       0.35      0.06      0.10     15700\n",
            "\n",
            "    accuracy                           0.61     42094\n",
            "   macro avg       0.49      0.50      0.42     42094\n",
            "weighted avg       0.52      0.61      0.51     42094\n",
            "\n"
          ],
          "name": "stdout"
        }
      ]
    },
    {
      "cell_type": "markdown",
      "metadata": {
        "id": "8T5BtQNK7H0I"
      },
      "source": [
        "- *AdaBoost Classifier model*"
      ]
    },
    {
      "cell_type": "code",
      "metadata": {
        "colab": {
          "base_uri": "https://localhost:8080/"
        },
        "id": "amSET68y6ldE",
        "outputId": "9e63db95-6fbc-459c-c910-104c478eaf66"
      },
      "source": [
        "# use the model to predict the testing instances\n",
        "y_pred_sg_abc = model_abc_sg.predict(np.array(X_test_sg))\n",
        "\n",
        "# generate the classification report\n",
        "print(classification_report(y_test_sg, y_pred_sg_abc))"
      ],
      "execution_count": null,
      "outputs": [
        {
          "output_type": "stream",
          "text": [
            "              precision    recall  f1-score   support\n",
            "\n",
            "           0       0.65      0.63      0.64     26394\n",
            "           1       0.40      0.42      0.41     15700\n",
            "\n",
            "    accuracy                           0.55     42094\n",
            "   macro avg       0.52      0.53      0.52     42094\n",
            "weighted avg       0.56      0.55      0.55     42094\n",
            "\n"
          ],
          "name": "stdout"
        }
      ]
    },
    {
      "cell_type": "markdown",
      "metadata": {
        "id": "TUpvx2X08aZj"
      },
      "source": [
        "* *Logistic Regression*"
      ]
    },
    {
      "cell_type": "code",
      "metadata": {
        "colab": {
          "base_uri": "https://localhost:8080/"
        },
        "id": "yYVRGA598Zvu",
        "outputId": "45ffb263-5068-428d-a4e9-9f28ed56821a"
      },
      "source": [
        "# use the model to predict the testing instances\n",
        "y_pred_sg_lgr = model_lgr_sg.predict(np.array(X_test_sg))\n",
        "\n",
        "# generate the classification report\n",
        "print(classification_report(y_test_sg, y_pred_sg_lgr))"
      ],
      "execution_count": null,
      "outputs": [
        {
          "output_type": "stream",
          "text": [
            "              precision    recall  f1-score   support\n",
            "\n",
            "           0       0.67      0.59      0.63     26394\n",
            "           1       0.43      0.52      0.47     15700\n",
            "\n",
            "    accuracy                           0.56     42094\n",
            "   macro avg       0.55      0.55      0.55     42094\n",
            "weighted avg       0.58      0.56      0.57     42094\n",
            "\n"
          ],
          "name": "stdout"
        }
      ]
    },
    {
      "cell_type": "markdown",
      "metadata": {
        "id": "xqd7zvLAGwG6"
      },
      "source": [
        "**Biểu diễn các kết quả bằng confusion matrix**"
      ]
    },
    {
      "cell_type": "code",
      "metadata": {
        "colab": {
          "base_uri": "https://localhost:8080/",
          "height": 281
        },
        "id": "8GX4uMU6-HZY",
        "outputId": "b9393dd5-27e6-4e15-ba1c-62d224c63e85"
      },
      "source": [
        "figure, axis  = plt.subplots(1, 3, figsize=(16,4))\n",
        "\n",
        "title = [\"RandomForest Classifier\",\"AdaBoost Classifier\", \"LogisticRegression\"]\n",
        "pred = [y_pred_sg_rfc, y_pred_sg_abc, y_pred_sg_lgr]\n",
        "i = 0\n",
        "while i < 3: \n",
        "  axis[i].title.set_text(title[i])\n",
        "  cm_test = confusion_matrix(y_test_sg, pred[i])\n",
        "  d_test = pd.DataFrame(cm_test)\n",
        "  sns.heatmap(cm_test, cmap='Blues',annot = True, fmt='', ax=axis[i])\n",
        "  i += 1\n",
        "\n",
        "plt.show()"
      ],
      "execution_count": null,
      "outputs": [
        {
          "output_type": "display_data",
          "data": {
            "image/png": "[encoded data removed]",
            "text/plain": [
              "<Figure size 1152x288 with 6 Axes>"
            ]
          },
          "metadata": {
            "tags": [],
            "needs_background": "light"
          }
        }
      ]
    },
    {
      "cell_type": "markdown",
      "metadata": {
        "id": "eGv63liC73at"
      },
      "source": [
        "###**4.2. Với Word2Vec CBOW**"
      ]
    },
    {
      "cell_type": "markdown",
      "metadata": {
        "id": "svmVelCl9PN4"
      },
      "source": [
        "- *Random Forest Classifier model*"
      ]
    },
    {
      "cell_type": "code",
      "metadata": {
        "colab": {
          "base_uri": "https://localhost:8080/"
        },
        "id": "7-d8bALw9PN4",
        "outputId": "a47e46bd-8a38-4377-be21-36bff35c78e0"
      },
      "source": [
        "# use the model to predict the testing instances\n",
        "y_pred_cb_rfc = model_rfc_cb.predict(np.array(X_test_cb))\n",
        "\n",
        "# generate the classification report\n",
        "print(classification_report(y_test_cb, y_pred_cb_rfc))"
      ],
      "execution_count": null,
      "outputs": [
        {
          "output_type": "stream",
          "text": [
            "              precision    recall  f1-score   support\n",
            "\n",
            "           0       0.63      0.99      0.77     26394\n",
            "           1       0.42      0.01      0.01     15700\n",
            "\n",
            "    accuracy                           0.63     42094\n",
            "   macro avg       0.52      0.50      0.39     42094\n",
            "weighted avg       0.55      0.63      0.49     42094\n",
            "\n"
          ],
          "name": "stdout"
        }
      ]
    },
    {
      "cell_type": "markdown",
      "metadata": {
        "id": "M6NI4a6r9PN7"
      },
      "source": [
        "- *AdaBoost Classifier model*"
      ]
    },
    {
      "cell_type": "code",
      "metadata": {
        "colab": {
          "base_uri": "https://localhost:8080/"
        },
        "id": "xtN9eNTE9PN7",
        "outputId": "31e5458c-ea34-4290-9ebd-119cfa98ee54"
      },
      "source": [
        "# use the model to predict the testing instances\n",
        "y_pred_cb_abc = model_abc_cb.predict(np.array(X_test_cb))\n",
        "\n",
        "# generate the classification report\n",
        "print(classification_report(y_test_cb, y_pred_cb_abc))"
      ],
      "execution_count": null,
      "outputs": [
        {
          "output_type": "stream",
          "text": [
            "              precision    recall  f1-score   support\n",
            "\n",
            "           0       0.59      0.63      0.61     26394\n",
            "           1       0.29      0.26      0.27     15700\n",
            "\n",
            "    accuracy                           0.49     42094\n",
            "   macro avg       0.44      0.44      0.44     42094\n",
            "weighted avg       0.48      0.49      0.48     42094\n",
            "\n"
          ],
          "name": "stdout"
        }
      ]
    },
    {
      "cell_type": "markdown",
      "metadata": {
        "id": "Kw3d25r39PN8"
      },
      "source": [
        "* *Logistic Regression*"
      ]
    },
    {
      "cell_type": "code",
      "metadata": {
        "colab": {
          "base_uri": "https://localhost:8080/"
        },
        "id": "F7EoR7hu9PN8",
        "outputId": "c0fb11e8-c975-40b7-b4ce-93a1069f6ed1"
      },
      "source": [
        "# use the model to predict the testing instances\n",
        "y_pred_cb_lgr = model_lgr_cb.predict(np.array(X_test_cb))\n",
        "\n",
        "# generate the classification report\n",
        "print(classification_report(y_test_cb, y_pred_cb_lgr))"
      ],
      "execution_count": null,
      "outputs": [
        {
          "output_type": "stream",
          "text": [
            "              precision    recall  f1-score   support\n",
            "\n",
            "           0       0.62      0.60      0.61     26394\n",
            "           1       0.36      0.39      0.37     15700\n",
            "\n",
            "    accuracy                           0.52     42094\n",
            "   macro avg       0.49      0.49      0.49     42094\n",
            "weighted avg       0.52      0.52      0.52     42094\n",
            "\n"
          ],
          "name": "stdout"
        }
      ]
    },
    {
      "cell_type": "markdown",
      "metadata": {
        "id": "OMmtelYjOM0x"
      },
      "source": [
        "**Biểu diễn các kết quả bằng confusion matrix**"
      ]
    },
    {
      "cell_type": "code",
      "metadata": {
        "colab": {
          "base_uri": "https://localhost:8080/",
          "height": 281
        },
        "id": "1DKZUF0LNQn3",
        "outputId": "ffa739cc-1069-4bc2-82b6-cea875426ab1"
      },
      "source": [
        "figure, axis  = plt.subplots(1, 3, figsize=(16,4))\n",
        "\n",
        "title = [\"RandomForest Classifier\",\"AdaBoost Classifier\", \"LogisticRegression\"]\n",
        "pred = [y_pred_cb_rfc, y_pred_cb_abc, y_pred_cb_lgr]\n",
        "i = 0\n",
        "while i < 3: \n",
        "  axis[i].title.set_text(title[i])\n",
        "  cm_test = confusion_matrix(y_test_cb, pred[i])\n",
        "  d_test = pd.DataFrame(cm_test)\n",
        "  sns.heatmap(cm_test, cmap='Blues',annot = True, fmt='', ax=axis[i])\n",
        "  i += 1\n",
        "\n",
        "plt.show()"
      ],
      "execution_count": null,
      "outputs": [
        {
          "output_type": "display_data",
          "data": {
            "image/png": "[encoded data removed]",
            "text/plain": [
              "<Figure size 1152x288 with 6 Axes>"
            ]
          },
          "metadata": {
            "tags": [],
            "needs_background": "light"
          }
        }
      ]
    },
    {
      "cell_type": "markdown",
      "metadata": {
        "id": "QmXrIEwzcn1H"
      },
      "source": [
        "###**4.3. So sánh**"
      ]
    },
    {
      "cell_type": "markdown",
      "metadata": {
        "id": "IR6rTg2ycxM9"
      },
      "source": [
        "- ***CBOW***"
      ]
    },
    {
      "cell_type": "code",
      "metadata": {
        "colab": {
          "base_uri": "https://localhost:8080/",
          "height": 548
        },
        "id": "eOXmA2Wpcrbr",
        "outputId": "974acadb-bfb4-4cf3-f704-55f4ac23ac9c"
      },
      "source": [
        "# predict probabilities\n",
        "y_pred_abc_cb = model_abc_cb.predict_proba(X_test_cb)\n",
        "y_pred_rfc_cb = model_rfc_cb.predict_proba(X_test_cb)\n",
        "y_pred_lgr_cb = model_lgr_cb.predict_proba(X_test_cb)\n",
        "\n",
        "\n",
        "# keep probabilities for the positive outcome only\n",
        "y_pred_abc_cb = y_pred_abc_cb[:, 1]\n",
        "y_pred_rfc_cb = y_pred_rfc_cb[:, 1]\n",
        "y_pred_lgr_cb = y_pred_lgr_cb[:, 1]\n",
        "\n",
        "\n",
        "# predict class values\n",
        "yhat = model_abc_cb.predict(X_test_cb)\n",
        "abc_precision, abc_recall, _ = precision_recall_curve(y_test_cb, y_pred_abc_cb)\n",
        "abc_f1, abc_auc = f1_score(y_test_cb, yhat), auc(abc_recall, abc_precision)\n",
        "\n",
        "yhat = model_rfc_cb.predict(X_test_cb)\n",
        "rfc_precision, rfc_recall, _ = precision_recall_curve(y_test_cb, y_pred_rfc_cb)\n",
        "rfc_f1, rfc_auc = f1_score(y_test_cb, yhat), auc(rfc_recall, rfc_precision)\n",
        "\n",
        "yhat = model_lgr_cb.predict(X_test_cb)\n",
        "lgr_precision, lgr_recall, _ = precision_recall_curve(y_test_cb, y_pred_lgr_cb)\n",
        "lgr_f1, lgr_auc = f1_score(y_test_cb, yhat), auc(lgr_recall, lgr_precision)\n",
        "\n",
        "# summarize scores\n",
        "print('AdaBoost Classifier: f1=%.3f auc=%.3f' % (abc_f1, abc_auc))\n",
        "print('Random Forest Classifier: f1=%.3f auc=%.3f' % (rfc_f1, rfc_auc))\n",
        "print('Logistic Regression: f1=%.3f auc=%.3f' % (lgr_f1, lgr_auc))\n",
        "\n",
        "\n",
        "# plot the precision-recall curves\n",
        "pyplot.subplots(figsize =(12, 8))\n",
        "no_skill = len(y_test_cb[y_test_cb==1]) / len(y_test_cb)\n",
        "pyplot.plot([0, 1], [no_skill, no_skill], linestyle='--', label='No Skill')\n",
        "pyplot.plot(abc_recall, abc_precision, marker='.', label='AdaBoost Classifier')\n",
        "pyplot.plot(rfc_recall, rfc_precision, marker='.', label='Random Forest Classifier')\n",
        "pyplot.plot(lgr_recall, lgr_precision, marker='.', label='Logistic Regression')\n",
        "\n",
        "\n",
        "# axis labels\n",
        "pyplot.xlabel('Recall (sensitivity)')\n",
        "pyplot.ylabel('Precision (positive predictive value)')\n",
        "\n",
        "# show the legend\n",
        "pyplot.legend()\n",
        "# show the plot\n",
        "pyplot.show()"
      ],
      "execution_count": null,
      "outputs": [
        {
          "output_type": "stream",
          "text": [
            "AdaBoost Classifier: f1=0.273 auc=0.320\n",
            "Random Forest Classifier: f1=0.014 auc=0.358\n",
            "Logistic Regression: f1=0.375 auc=0.452\n"
          ],
          "name": "stdout"
        },
        {
          "output_type": "display_data",
          "data": {
            "image/png": "[encoded data removed]",
            "text/plain": [
              "<Figure size 864x576 with 1 Axes>"
            ]
          },
          "metadata": {
            "tags": [],
            "needs_background": "light"
          }
        }
      ]
    },
    {
      "cell_type": "markdown",
      "metadata": {
        "id": "1rzbHANlc08D"
      },
      "source": [
        "- ***Skip-gram***"
      ]
    },
    {
      "cell_type": "code",
      "metadata": {
        "colab": {
          "base_uri": "https://localhost:8080/",
          "height": 548
        },
        "id": "pU9yM8aQgpIK",
        "outputId": "02885aa6-1751-4e8a-e107-d3163e85e721"
      },
      "source": [
        "# predict probabilities\n",
        "y_pred_abc_sg = model_abc_sg.predict_proba(X_test_sg)\n",
        "y_pred_rfc_sg = model_rfc_sg.predict_proba(X_test_sg)\n",
        "y_pred_lgr_sg = model_lgr_sg.predict_proba(X_test_sg)\n",
        "\n",
        "\n",
        "# keep probabilities for the positive outcome only\n",
        "y_pred_abc_sg = y_pred_abc_sg[:, 1]\n",
        "y_pred_rfc_sg = y_pred_rfc_sg[:, 1]\n",
        "y_pred_lgr_sg = y_pred_lgr_sg[:, 1]\n",
        "\n",
        "\n",
        "# predict class values\n",
        "yhat = model_abc_sg.predict(X_test_sg)\n",
        "abc_precision, abc_recall, _ = precision_recall_curve(y_test_sg, y_pred_abc_sg)\n",
        "abc_f1, abc_auc = f1_score(y_test_sg, yhat), auc(abc_recall, abc_precision)\n",
        "\n",
        "yhat = model_rfc_sg.predict(X_test_sg)\n",
        "rfc_precision, rfc_recall, _ = precision_recall_curve(y_test_sg, y_pred_rfc_sg)\n",
        "rfc_f1, rfc_auc = f1_score(y_test_sg, yhat), auc(rfc_recall, rfc_precision)\n",
        "\n",
        "yhat = model_lgr_sg.predict(X_test_sg)\n",
        "lgr_precision, lgr_recall, _ = precision_recall_curve(y_test_sg, y_pred_lgr_sg)\n",
        "lgr_f1, lgr_auc = f1_score(y_test_sg, yhat), auc(lgr_recall, lgr_precision)\n",
        "\n",
        "# summarize scores\n",
        "print('AdaBoost Classifier: f1=%.3f auc=%.3f' % (abc_f1, abc_auc))\n",
        "print('Random Forest Classifier: f1=%.3f auc=%.3f' % (rfc_f1, rfc_auc))\n",
        "print('Logistic Regression: f1=%.3f auc=%.3f' % (lgr_f1, lgr_auc))\n",
        "\n",
        "\n",
        "# plot the precision-recall curves\n",
        "pyplot.subplots(figsize =(12, 8))\n",
        "no_skill = len(y_test_sg[y_test_sg==1]) / len(y_test_sg)\n",
        "pyplot.plot([0, 1], [no_skill, no_skill], linestyle='--', label='No Skill')\n",
        "pyplot.plot(abc_recall, abc_precision, marker='.', label='AdaBoost Classifier')\n",
        "pyplot.plot(rfc_recall, rfc_precision, marker='.', label='Random Forest Classifier')\n",
        "pyplot.plot(lgr_recall, lgr_precision, marker='.', label='Logistic Regression')\n",
        "\n",
        "\n",
        "# axis labels\n",
        "pyplot.xlabel('Recall (sensitivity)')\n",
        "pyplot.ylabel('Precision (positive predictive value)')\n",
        "\n",
        "# show the legend\n",
        "pyplot.legend()\n",
        "# show the plot\n",
        "pyplot.show()"
      ],
      "execution_count": null,
      "outputs": [
        {
          "output_type": "stream",
          "text": [
            "AdaBoost Classifier: f1=0.412 auc=0.397\n",
            "Random Forest Classifier: f1=0.096 auc=0.355\n",
            "Logistic Regression: f1=0.467 auc=0.460\n"
          ],
          "name": "stdout"
        },
        {
          "output_type": "display_data",
          "data": {
            "image/png": "[encoded data removed]",
            "text/plain": [
              "<Figure size 864x576 with 1 Axes>"
            ]
          },
          "metadata": {
            "tags": [],
            "needs_background": "light"
          }
        }
      ]
    },
    {
      "cell_type": "markdown",
      "metadata": {
        "id": "-umKVqcsABf9"
      },
      "source": [
        "#**VI. Nhận xét**"
      ]
    },
    {
      "cell_type": "markdown",
      "metadata": {
        "id": "R2b1twqUGjrn"
      },
      "source": [
        "###**Nhận xét với mô hình phân loại**\n",
        "- Ứng với các mô hình phân loại tin châm biến được xử lý dữ liệu với *CBOW* và *skip-gram* thì các mô hình phân loại sử dụng skip-gram cho kết quả tốt hơn ở **dev_set** *(như có so sánh ở trên)*.\n",
        "- Nhóm sử dụng 3 mô hình phân loại là AdaBoost Classifier, Random Forest Classifier và Logistic Regression để train và dự đoán kết quả, thì mô hình AdaBoost Classifier có thời gian train lâu nhất, tiếp đên là Random Forest Classifier và cuối cùng là Logistic Regression.\n",
        "\n",
        "- Việc đánh giá mô hình phải dựa vào nhiều độ đo, như trong bài thì nhóm em sử dụng Precision, recall, f1_score và accuracy là chủ yếu. Trong đó Precision, recall và f1_score là những phép đo quan trọng cần lưu ý. Một yêu cầu có thể dẫn đến mô hình dự đoán tốt là f1_score phải cao, bởi f1_score có thể coi là sự hài hòa giữa precision và recall. Ngoài ra, việc tính precision, recall cho mỗi nhãn cũng cần phải cao (hoặc tương đồng nhau), nếu một trong 2 nhãn có điểm cao, nhãn còn lại rất thấp thì không phản ánh được model phân loại tốt, thậm chí đó là tệ.\n",
        "  - Ví dụ cho điều này ta lấy kết quả dự đoán mô hình Random Forest Classifier CBOW trên test_set với:\n",
        "    - Recall (nhãn 0) là: 0.99\n",
        "    - Recall (nhãn 1) là: 0.01.\n",
        "  điều này dẫn đến phần lớn các tin châm biếm được dự đoán là tin chính thống, điều này nguy hiểm cho người đọc hơn là việc dự đoán tin chính thống là tin châm biếm.\n",
        "\n",
        "- Khi mô hình dự đoán trên **dev_set** thì cho kết quả việc dự đoán các nhãn khá tương đồng nhau. Nhưng ngược lại với **dev_set** thì trên **test_set** độc lập thì mô hình có xu hướng dự đoán các tin thuộc nhãn 0 *(tin chính thống)* chiếm phần lớn.\n",
        "  - Ví dụ với model *Random Forest Classifier skip-gram* khi dự đoán trên test_set thì giá trị **recall *(nhãn 1)* = 0.06** nghĩa là *tỷ lệ dự đoán đúng nhãn 1 (tin châm biếm) trên tất cả nhãn 1 chỉ là 0.06* hay có thể hình dung trong 100 nhãn 1 mô hình chỉ có đúng 6 dự đoán chính xác nhãn 1, còn lại 94 nhãn 1 được mô hình dự đoán nhãn 0.\n",
        "\n",
        "- Trái ngược với khi dự đoán mô hình với dev_set thì việc dự đoán trên tập test_set độc lập dẫn ra kết quả không tốt và kết luận trái ngược với dự đoán với dev_set. Cụ thể:\n",
        "\n",
        "  - Khi mô hình dự đoán với dev_set thì mô hình phân loại ***Random Forest Classifer*** cho kết quả dự đoán tốt nhất trên cả hai mô hình Word2Vec là CBOW và Skip-gram *(skip-gram tốt hơn CBOW)* và ***Logistic Regression*** là mô hình tệ nhất trong cả 3 mô hình phân loại. Tuy nhiên, khi chạy thử nghiệm trên tập test_set độc lập, ta thấy mô hình phân loại ***Logistic Regression*** lại cho kết quả dự đoán khả quan nhất *(khả quan nhưng không phải tốt)* còn ***Random Forest Classifier** lại là mô hình tệ nhất. \n",
        "  \n",
        "  - Chọn các mô hình phân loại được xây dừng Word2Vec skip-gram để lấy ví dụ về kết quả dự đoán *(các kết quả phân loại từ skip-gram tốt hơn CBOW theo như dự đoán)* thì ta có: \n",
        "\n",
        "    - Ta có kết quả của **F1_score_RandomForest_Classifer = 0.096**, con số tệ nhất trong 3 mô hình phân loại mà nhóm đã thực hiện dự đoán trên ***test_set***. Kết quả này trái ngược hoàn toàn với **F1_score_RandomForest_Classifer = 0.902** kết quả tốt nhất trong các mô hình phân loại khi dự đoán với ***dev_set***. Trong khi đó mô hình phân loại được đánh giá tệ nhất khi chạy trên ***dev_set*** là *Logistic Regression* (F1_score = 0.791) lại cho kết quả tốt nhất với ***test_set*** (F1_score = 0.467).\n",
        "\n",
        "- Mô hình **AdaBoost Classifier** trong 2 lần thử nghiệm với dev_set và test_set cho kết quả ổn đinh, luôn ở giữa *random forest classifier* và *logistic regression*, kết quả tương đối tốt khi thử nghiệm với dev_test *(F1_score = 0.88)* và không phải tệ nhất ở thử nghiệm test_set độc lập *(F1_score = 0.412)*"
      ]
    },
    {
      "cell_type": "markdown",
      "metadata": {
        "id": "JqJ-za9xVzcP"
      },
      "source": [
        "###**Đánh giá**\n",
        "\n",
        "1. Các mô hình phân loại mà nhóm đã sử dụng đều cho kết quả tốt ở nhãn 0 và tệ ở nhãn 1. Nhìn chung khi thử nghiệm test_set các mô hình cho kết quả không tốt.\n",
        "\n",
        "2. Việc đào tạo mô hình phân loại tin châm biếm bằng việc sử dụng Word2Vec skip-gram có kết quả tốt hơn sử dụng Word2Vec CBOW.\n",
        "\n",
        "3. Do tập dataset có sự chênh lệch giữa nhãn 0 *(tin chính thóng)* và nhãn 1 *(tin chấm biếm)* *(nhãn 0 gấp 1.5 lần nhãn 1)*. Nên có thể dẫn đến việc mô hình có xu hướng phân loại các tin *(cả chính thống và châm biếm)* thành tin chính thống.\n",
        "\n",
        "4. Việc dự đoán tin châm biếm thành tin chính thống nguy hiểm hơn việc dự đoán tin chính thống thành tin châm biếm\n",
        "\n",
        "5. Nhóm đề xuất mô hình AdaBoost Classifier cho mô hình dự đoán tin châm biếm, bởi tính ổn định của mô hình theo như kết quả train và test của nhóm. Bên cạnh đó là thời gian train chấp nhận được (tầm 5 tiếng theo nhóm em train được).\n",
        "\n",
        "6. Việc đánh giá mô hình phân loại có 3 giá trị quan trọng precision, recall và f1_score. F1_score cao -> mô hình tốt. Ngoài ra cần coi precision và recall của mỗi nhãn.\n",
        "\n"
      ]
    }
  ]
}